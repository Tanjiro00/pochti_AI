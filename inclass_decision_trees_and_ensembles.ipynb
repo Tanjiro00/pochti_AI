{
  "nbformat": 4,
  "nbformat_minor": 0,
  "metadata": {
    "kernelspec": {
      "display_name": "Python 3",
      "language": "python",
      "name": "python3"
    },
    "colab": {
      "name": "inclass_decision_trees_and_ensembles.ipynb",
      "provenance": [],
      "collapsed_sections": [],
      "include_colab_link": true
    }
  },
  "cells": [
    {
      "cell_type": "markdown",
      "metadata": {
        "id": "view-in-github",
        "colab_type": "text"
      },
      "source": [
        "<a href=\"https://colab.research.google.com/github/Tanjiro00/pochti_AI/blob/master/inclass_decision_trees_and_ensembles.ipynb\" target=\"_parent\"><img src=\"https://colab.research.google.com/assets/colab-badge.svg\" alt=\"Open In Colab\"/></a>"
      ]
    },
    {
      "cell_type": "markdown",
      "metadata": {
        "id": "lQQ_DD6R8oko"
      },
      "source": [
        "# Setup"
      ]
    },
    {
      "cell_type": "code",
      "metadata": {
        "id": "VFPC9g9LBPVz"
      },
      "source": [
        "import pandas as pd\n",
        "import numpy as np\n",
        "from sklearn.datasets import make_blobs, make_circles, make_classification, load_iris, load_digits\n",
        "from sklearn.tree import DecisionTreeClassifier\n",
        "from sklearn.ensemble import RandomForestClassifier\n",
        "from sklearn.model_selection import train_test_split, cross_val_score\n",
        "from sklearn import tree, metrics, model_selection\n",
        "import matplotlib.pyplot as plt\n",
        "from matplotlib.colors import ListedColormap\n",
        "from collections import Counter"
      ],
      "execution_count": null,
      "outputs": []
    },
    {
      "cell_type": "markdown",
      "metadata": {
        "id": "g7t0q02ZBQcS"
      },
      "source": [
        "# Решающие деревья"
      ]
    },
    {
      "cell_type": "markdown",
      "metadata": {
        "id": "HNJRqpRSqD7J"
      },
      "source": [
        "### Визуализируем решаюшее дерево для знакомого датасета Iris"
      ]
    },
    {
      "cell_type": "code",
      "metadata": {
        "id": "uVPwJBrTh4u7"
      },
      "source": [
        "iris = load_iris()\n",
        "X_train, X_test, y_train, y_test = train_test_split(iris.data, iris.target, random_state=42)"
      ],
      "execution_count": null,
      "outputs": []
    },
    {
      "cell_type": "code",
      "metadata": {
        "id": "iWHKqiI0iHil"
      },
      "source": [
        "clf = DecisionTreeClassifier(max_depth=2, random_state=42)\n",
        "clf.fit(X_train, y_train)\n",
        "# clf.predict(X_test)"
      ],
      "execution_count": null,
      "outputs": []
    },
    {
      "cell_type": "code",
      "metadata": {
        "id": "Iy_YtwwKifkV"
      },
      "source": [
        "plt.figure(figsize=(12,10))\n",
        "_ = tree.plot_tree(clf, \n",
        "                feature_names=iris.feature_names,  \n",
        "                class_names=iris.target_names,\n",
        "                filled=True)"
      ],
      "execution_count": null,
      "outputs": []
    },
    {
      "cell_type": "markdown",
      "metadata": {
        "id": "v_gcCc3Hq_CG"
      },
      "source": [
        "### Посмотрим как выглядит разделяющая плоскость"
      ]
    },
    {
      "cell_type": "markdown",
      "metadata": {
        "id": "644UqqXvubpD"
      },
      "source": [
        "#### Создадим легко разделимый датасет"
      ]
    },
    {
      "cell_type": "code",
      "metadata": {
        "id": "0bIYvUUnqNCh"
      },
      "source": [
        "X, y = make_blobs(n_samples=1000, centers=2, n_features=2, random_state=42, cluster_std=3)"
      ],
      "execution_count": null,
      "outputs": []
    },
    {
      "cell_type": "code",
      "metadata": {
        "id": "g4EonXxa8oko"
      },
      "source": [
        "plt.figure(figsize=(12,10))\n",
        "plt.scatter(X[:,0], X[:,1], c=y)"
      ],
      "execution_count": null,
      "outputs": []
    },
    {
      "cell_type": "markdown",
      "metadata": {
        "id": "zYWDmMN5ukck"
      },
      "source": [
        "#### Построим классификатор – как обычно, делим на трейн и тест, учим, считаем метрики"
      ]
    },
    {
      "cell_type": "code",
      "metadata": {
        "id": "K_jTR81ZvZ_d"
      },
      "source": [
        "X_train, X_test, y_train, y_test = train_test_split(X, y, random_state=42)"
      ],
      "execution_count": null,
      "outputs": []
    },
    {
      "cell_type": "code",
      "metadata": {
        "id": "OBk1xaj08oko"
      },
      "source": [
        "clf = DecisionTreeClassifier(random_state=42)\n",
        "clf.fit(X_train, y_train)"
      ],
      "execution_count": null,
      "outputs": []
    },
    {
      "cell_type": "code",
      "metadata": {
        "id": "THYJLtCs8okp"
      },
      "source": [
        "y_pred = clf.predict(X_test)"
      ],
      "execution_count": null,
      "outputs": []
    },
    {
      "cell_type": "markdown",
      "metadata": {
        "id": "OV19eGMxuQ8l"
      },
      "source": [
        "##### Считаем метрики -- accuracy и accuracy на кросс-валидации"
      ]
    },
    {
      "cell_type": "code",
      "metadata": {
        "id": "DUlacKCw8okp"
      },
      "source": [
        "clf.score(X_test, y_test)"
      ],
      "execution_count": null,
      "outputs": []
    },
    {
      "cell_type": "code",
      "metadata": {
        "id": "8taLW2vN3VIv"
      },
      "source": [
        "metrics.accuracy_score(y_test, y_pred)\n"
      ],
      "execution_count": null,
      "outputs": []
    },
    {
      "cell_type": "code",
      "metadata": {
        "id": "VefUMA488okp"
      },
      "source": [
        "np.mean(cross_val_score(clf, X, y, cv=5))"
      ],
      "execution_count": null,
      "outputs": []
    },
    {
      "cell_type": "markdown",
      "metadata": {
        "id": "0PL-AJNRuvxy"
      },
      "source": [
        "#### Посмотрим на разделяющую плоскость"
      ]
    },
    {
      "cell_type": "code",
      "metadata": {
        "id": "Ny093iR08okp"
      },
      "source": [
        "def get_meshgrid(data, step=.05, border=.5,):\n",
        "    x_min, x_max = data[:, 0].min() - border, data[:, 0].max() + border\n",
        "    y_min, y_max = data[:, 1].min() - border, data[:, 1].max() + border\n",
        "    \n",
        "    return np.meshgrid(np.arange(x_min, x_max, step), np.arange(y_min, y_max, step))\n",
        "\n",
        "def plot_decision_surface(estimator, train_data, train_labels, test_data, test_labels):\n",
        "    estimator.fit(train_data, train_labels)\n",
        "    \n",
        "    plt.figure(figsize = (16, 6))\n",
        "    light_colors = ListedColormap(['lightyellow','lightcoral'])\n",
        "    colors = ListedColormap(['yellow', 'red'])\n",
        "    \n",
        "    #plot decision surface on the train data \n",
        "    plt.subplot(1,2,1)\n",
        "    xx, yy = get_meshgrid(train_data)\n",
        "    mesh_predictions = np.array(estimator.predict(np.c_[xx.ravel(), yy.ravel()])).reshape(xx.shape)\n",
        "    plt.pcolormesh(xx, yy, mesh_predictions, cmap=light_colors)\n",
        "    plt.scatter(train_data[:, 0], train_data[:, 1], c=train_labels, s=40, cmap=colors)\n",
        "    plt.title('Train data, accuracy={}'.format(metrics.accuracy_score(train_labels, estimator.predict(train_data))))\n",
        "    \n",
        "    #plot decision surface on the test data\n",
        "    plt.subplot(1,2,2)\n",
        "    plt.pcolormesh(xx, yy, mesh_predictions, cmap=light_colors)\n",
        "    plt.scatter(test_data[:, 0], test_data[:, 1], c=test_labels, s=40, cmap=colors)\n",
        "    plt.title('Test data, accuracy={}'.format(metrics.accuracy_score(test_labels, estimator.predict(test_data))))"
      ],
      "execution_count": null,
      "outputs": []
    },
    {
      "cell_type": "code",
      "metadata": {
        "id": "tMsQEfjw8okq"
      },
      "source": [
        "plot_decision_surface(clf, X_train, y_train, X_test, y_test)"
      ],
      "execution_count": null,
      "outputs": []
    },
    {
      "cell_type": "markdown",
      "metadata": {
        "id": "p_oHi3a3vTJH"
      },
      "source": [
        "#### Посмотрим на менее удачный датасет"
      ]
    },
    {
      "cell_type": "code",
      "metadata": {
        "id": "e00HjSx0vJ95"
      },
      "source": [
        "X_circles, y_circles = make_circles(n_samples=1000, noise=0.3, random_state=42)"
      ],
      "execution_count": null,
      "outputs": []
    },
    {
      "cell_type": "code",
      "metadata": {
        "id": "mF9VED4ewJ-z"
      },
      "source": [
        "plt.figure(figsize=(12,10))\n",
        "plt.scatter(X_circles[:,0], X_circles[:,1], c=y_circles)"
      ],
      "execution_count": null,
      "outputs": []
    },
    {
      "cell_type": "code",
      "metadata": {
        "id": "IqxJtMsFvthG"
      },
      "source": [
        "X_train_circles, X_test_circles, y_train_circles, y_test_circles = train_test_split(X_circles, y_circles, random_state=42)"
      ],
      "execution_count": null,
      "outputs": []
    },
    {
      "cell_type": "code",
      "metadata": {
        "id": "z21-UfN3vzuW"
      },
      "source": [
        "clf_circles = DecisionTreeClassifier(random_state=42)\n",
        "clf_circles.fit(X_train_circles, y_train_circles)\n",
        "predict = clf_circles.predict(X_test_circles)\n",
        "print(f\"Accuracy: {clf_circles.score(X_test_circles, y_test_circles)}\")\n",
        "print(f\"Accuracy on CV: {np.mean(cross_val_score(clf_circles, X_circles, y_circles, cv=5))}\")"
      ],
      "execution_count": null,
      "outputs": []
    },
    {
      "cell_type": "code",
      "metadata": {
        "id": "47aKaim38okq"
      },
      "source": [
        "plot_decision_surface(clf_circles, X_train_circles, y_train_circles, X_test_circles, y_test_circles)"
      ],
      "execution_count": null,
      "outputs": []
    },
    {
      "cell_type": "code",
      "metadata": {
        "id": "R07ent4hipy2"
      },
      "source": [
        "clf_circles = RandomForestClassifier(n_estimators=500, random_state=42)\n",
        "clf_circles.fit(X_train_circles, y_train_circles)\n",
        "predict = clf_circles.predict(X_test_circles)\n",
        "print(f\"Accuracy: {clf_circles.score(X_test_circles, y_test_circles)}\")\n",
        "print(f\"Accuracy on CV: {np.mean(cross_val_score(clf_circles, X_circles, y_circles, cv=5))}\")"
      ],
      "execution_count": null,
      "outputs": []
    },
    {
      "cell_type": "code",
      "metadata": {
        "id": "9rZQy2UWizVy"
      },
      "source": [
        "plot_decision_surface(clf_circles, X_train_circles, y_train_circles, X_test_circles, y_test_circles)"
      ],
      "execution_count": null,
      "outputs": []
    },
    {
      "cell_type": "markdown",
      "metadata": {
        "id": "VASaN0Asd019"
      },
      "source": [
        "### Давайте посмотрим, какие параметры решающего дерева можно менять"
      ]
    },
    {
      "cell_type": "code",
      "metadata": {
        "id": "T5L-U-kG8okq"
      },
      "source": [
        "DecisionTreeClassifier()"
      ],
      "execution_count": null,
      "outputs": []
    },
    {
      "cell_type": "code",
      "metadata": {
        "id": "12vm33_W8okq"
      },
      "source": [
        "plot_decision_surface(DecisionTreeClassifier(max_depth=200), X_train_circles, y_train_circles, X_test_circles, y_test_circles)"
      ],
      "execution_count": null,
      "outputs": []
    },
    {
      "cell_type": "markdown",
      "metadata": {
        "id": "87NECUGi4kc4"
      },
      "source": [
        "#### Самостоятельная работа\n",
        "Изучите зависимость качества работы алгоритма на тесте при изменении параметров\n",
        "\n",
        "1.   max_depth\n",
        "2.   min_samples_leaf\n",
        "\n",
        "Нарисуйте график"
      ]
    },
    {
      "cell_type": "code",
      "metadata": {
        "id": "RFt7QYik8okq"
      },
      "source": [
        "# Todo: изучить качество работы алгоритма при изменении max_depth"
      ],
      "execution_count": null,
      "outputs": []
    },
    {
      "cell_type": "code",
      "metadata": {
        "id": "ucK2VNdt8okq"
      },
      "source": [
        "# Todo: изучить качество работы алгоритма при изменении min_samples_leaf\n",
        "### Ваш код здесь"
      ],
      "execution_count": null,
      "outputs": []
    },
    {
      "cell_type": "markdown",
      "metadata": {
        "id": "d4O4E23v4VJF"
      },
      "source": [
        "### Посмотрим на качество на обучении и кросс-валидации"
      ]
    },
    {
      "cell_type": "code",
      "metadata": {
        "id": "cUQOs8Be8okq"
      },
      "source": [
        "from sklearn.model_selection import cross_val_score, StratifiedKFold\n",
        "def draw_accuracy_graph(alg, param, grid_list, X, y):\n",
        "    # Инициализируем валидацию\n",
        "    skf = StratifiedKFold(n_splits=5, shuffle=True, random_state=42)\n",
        "    \n",
        "    train_acc = []\n",
        "    test_acc = []\n",
        "    temp_train_acc = []\n",
        "    temp_test_acc = []\n",
        "    trees_grid = grid_list\n",
        "    \n",
        "    # Обучаем на тренировочном датасете\n",
        "    for ntrees in trees_grid:\n",
        "        _kwargs = {param:ntrees}\n",
        "        rfc = alg(**_kwargs)\n",
        "        temp_train_acc = []\n",
        "        temp_test_acc = []\n",
        "        for train_index, test_index in skf.split(X, y):\n",
        "            X_train, X_test = X[train_index], X[test_index]\n",
        "            y_train, y_test = y[train_index], y[test_index]\n",
        "            rfc.fit(X_train, y_train)\n",
        "            temp_train_acc.append(rfc.score(X_train, y_train))\n",
        "            temp_test_acc.append(rfc.score(X_test, y_test))\n",
        "        train_acc.append(temp_train_acc)\n",
        "        test_acc.append(temp_test_acc)\n",
        "\n",
        "    train_acc, test_acc = np.asarray(train_acc), np.asarray(test_acc)\n",
        "    print(\"Best accuracy on CV is {:.2f}% with {} {}\".format(max(test_acc.mean(axis=1))*100, \n",
        "                                                            trees_grid[np.argmax(test_acc.mean(axis=1))],\n",
        "                                                            param))\n",
        "    \n",
        "    fig, ax = plt.subplots(figsize=(8, 4))\n",
        "    ax.plot(trees_grid, train_acc.mean(axis=1), alpha=0.5, color='blue', label='train')\n",
        "    ax.plot(trees_grid, test_acc.mean(axis=1), alpha=0.5, color='red', label='cv')\n",
        "    ax.fill_between(trees_grid, test_acc.mean(axis=1) - test_acc.std(axis=1), test_acc.mean(axis=1) + test_acc.std(axis=1), color='#888888', alpha=0.4)\n",
        "    ax.fill_between(trees_grid, test_acc.mean(axis=1) - 2*test_acc.std(axis=1), test_acc.mean(axis=1) + 2*test_acc.std(axis=1), color='#888888', alpha=0.2)\n",
        "    ax.legend(loc='best')\n",
        "    ax.set_ylabel(\"Accuracy\")\n",
        "    ax.set_xlabel(param)"
      ],
      "execution_count": null,
      "outputs": []
    },
    {
      "cell_type": "code",
      "metadata": {
        "id": "GENVluhy8okq"
      },
      "source": [
        "draw_accuracy_graph(DecisionTreeClassifier,'max_depth', list(range(1, 50, 10)), X_circles, y_circles)"
      ],
      "execution_count": null,
      "outputs": []
    },
    {
      "cell_type": "code",
      "metadata": {
        "id": "UkVURMCK8okq"
      },
      "source": [
        "draw_accuracy_graph(DecisionTreeClassifier,'min_samples_leaf', list(range(1, 100)), X_circles, y_circles)"
      ],
      "execution_count": null,
      "outputs": []
    },
    {
      "cell_type": "markdown",
      "metadata": {
        "id": "sDLvT1rX-jWD"
      },
      "source": [
        "# Случайный лес"
      ]
    },
    {
      "cell_type": "markdown",
      "metadata": {
        "id": "bYYCZQIS-vlq"
      },
      "source": [
        "Задача на kaggle: https://www.kaggle.com/c/bioresponse\n",
        "\n",
        "Данные: https://www.kaggle.com/c/bioresponse/data / https://drive.google.com/file/d/1ynddxhNnhmGgZVqdy0M4zTuD8r3C4cBP/view?usp=sharing\n",
        "\n",
        "По данным характеристикам молекулы требуется определить, будет ли дан биологический ответ (biological response)."
      ]
    },
    {
      "cell_type": "markdown",
      "metadata": {
        "id": "BEnn-bWPBub0"
      },
      "source": [
        "### Посмотрим на данные"
      ]
    },
    {
      "cell_type": "code",
      "metadata": {
        "id": "mv6h18Za-qTS"
      },
      "source": [
        "from google.colab import drive\n",
        "drive.mount('/content/drive')"
      ],
      "execution_count": null,
      "outputs": []
    },
    {
      "cell_type": "code",
      "metadata": {
        "id": "L2MyQRUZAdvo"
      },
      "source": [
        "bioresponse = pd.read_csv('/content/drive/My Drive/tinkoff/train.csv', header=0, sep=',')"
      ],
      "execution_count": null,
      "outputs": []
    },
    {
      "cell_type": "code",
      "metadata": {
        "id": "NJWQFwZIA1nO"
      },
      "source": [
        "bioresponse.head()"
      ],
      "execution_count": null,
      "outputs": []
    },
    {
      "cell_type": "code",
      "metadata": {
        "id": "nj7QBP1TA6Ti"
      },
      "source": [
        "bioresponse.shape"
      ],
      "execution_count": null,
      "outputs": []
    },
    {
      "cell_type": "code",
      "metadata": {
        "id": "cTyNktGTA-H3"
      },
      "source": [
        "bioresponse.columns"
      ],
      "execution_count": null,
      "outputs": []
    },
    {
      "cell_type": "code",
      "metadata": {
        "id": "zqNStqlbA-fD"
      },
      "source": [
        "bioresponse_target = bioresponse.Activity.values\n",
        "bioresponse_data = bioresponse.iloc[:, 1:]"
      ],
      "execution_count": null,
      "outputs": []
    },
    {
      "cell_type": "code",
      "metadata": {
        "id": "X_k1gXTXBHr2"
      },
      "source": [
        "Counter(bioresponse_target)"
      ],
      "execution_count": null,
      "outputs": []
    },
    {
      "cell_type": "markdown",
      "metadata": {
        "id": "hq-aC-IZB2zk"
      },
      "source": [
        "### Обучим RandomForestClassifier"
      ]
    },
    {
      "cell_type": "markdown",
      "metadata": {
        "id": "ypN6VFQCCe3n"
      },
      "source": [
        "#### Посмотрим на кривые обучения для леса, где деревья небольшой глубины"
      ]
    },
    {
      "cell_type": "code",
      "metadata": {
        "id": "vJMVv886B7oj"
      },
      "source": [
        "rf_classifier_low_depth = RandomForestClassifier(n_estimators=50, max_depth=2, random_state=42)"
      ],
      "execution_count": null,
      "outputs": []
    },
    {
      "cell_type": "code",
      "metadata": {
        "id": "n7MudGeSBCwU"
      },
      "source": [
        "train_sizes, train_scores, test_scores = model_selection.learning_curve(rf_classifier_low_depth, \n",
        "                                               bioresponse_data, \n",
        "                                               bioresponse_target,\n",
        "                                               train_sizes=np.arange(0.1, 1., 0.2), \n",
        "                                               cv=3, \n",
        "                                               scoring='accuracy')"
      ],
      "execution_count": null,
      "outputs": []
    },
    {
      "cell_type": "code",
      "metadata": {
        "id": "1FGWMIusCI9R"
      },
      "source": [
        "print(train_sizes)\n",
        "print(train_scores.mean(axis = 1))\n",
        "print(test_scores.mean(axis = 1))"
      ],
      "execution_count": null,
      "outputs": []
    },
    {
      "cell_type": "code",
      "metadata": {
        "id": "itSvn-U-CS4h"
      },
      "source": [
        "plt.grid(True)\n",
        "plt.plot(train_sizes, train_scores.mean(axis = 1), 'g-', marker='o', label='train')\n",
        "plt.plot(train_sizes, test_scores.mean(axis = 1), 'r-', marker='o', label='test')\n",
        "plt.ylim((0.0, 1.05))\n",
        "plt.legend(loc='lower right');"
      ],
      "execution_count": null,
      "outputs": []
    },
    {
      "cell_type": "markdown",
      "metadata": {
        "id": "ouw0sWgPCvVy"
      },
      "source": [
        "#### Посмотрим на кривые обучения для леса, где деревья глубже"
      ]
    },
    {
      "cell_type": "code",
      "metadata": {
        "id": "ajkr5ltWCV42"
      },
      "source": [
        "rf_classifier = RandomForestClassifier(n_estimators=50, max_depth=10, random_state=42)"
      ],
      "execution_count": null,
      "outputs": []
    },
    {
      "cell_type": "code",
      "metadata": {
        "id": "ccLAeE6YC5mb"
      },
      "source": [
        "train_sizes, train_scores, test_scores = model_selection.learning_curve(rf_classifier, \n",
        "                                               bioresponse_data, \n",
        "                                               bioresponse_target,\n",
        "                                               train_sizes=np.arange(0.1, 1., 0.2), \n",
        "                                               cv=3, \n",
        "                                               scoring='accuracy')"
      ],
      "execution_count": null,
      "outputs": []
    },
    {
      "cell_type": "code",
      "metadata": {
        "id": "FcMT-XTHC7Es"
      },
      "source": [
        "plt.grid(True)\n",
        "plt.plot(train_sizes, train_scores.mean(axis = 1), 'g-', marker='o', label='train')\n",
        "plt.plot(train_sizes, test_scores.mean(axis = 1), 'r-', marker='o', label='test')\n",
        "plt.ylim((0.0, 1.05))\n",
        "plt.legend(loc='lower right');"
      ],
      "execution_count": null,
      "outputs": []
    },
    {
      "cell_type": "markdown",
      "metadata": {
        "id": "RER-rG4YTQoW"
      },
      "source": [
        "#### Самостоятельная работа: посмотрим на кривые обучения для леса, где деревья неглубокие, но их много"
      ]
    },
    {
      "cell_type": "code",
      "metadata": {
        "id": "Oh2je4mwTbWs"
      },
      "source": [
        "### Ваш код здесь "
      ],
      "execution_count": null,
      "outputs": []
    },
    {
      "cell_type": "markdown",
      "metadata": {
        "id": "S9Pet-enDvDZ"
      },
      "source": [
        "# Ансамбли – делаем случайный лес сами"
      ]
    },
    {
      "cell_type": "markdown",
      "metadata": {
        "id": "9_VInsS6D4SW"
      },
      "source": [
        "## Посмотрим на данные\n",
        "\n",
        "Возьмем известный нам датасет с цифрами"
      ]
    },
    {
      "cell_type": "code",
      "metadata": {
        "id": "2JV2QXA-D6Om"
      },
      "source": [
        "digits = load_digits()\n",
        "X = digits.data\n",
        "y = digits.target"
      ],
      "execution_count": null,
      "outputs": []
    },
    {
      "cell_type": "code",
      "metadata": {
        "id": "Lia3orUVEC_-"
      },
      "source": [
        "X[0]"
      ],
      "execution_count": null,
      "outputs": []
    },
    {
      "cell_type": "code",
      "metadata": {
        "id": "JC3KFwAoESkR"
      },
      "source": [
        "y"
      ],
      "execution_count": null,
      "outputs": []
    },
    {
      "cell_type": "markdown",
      "metadata": {
        "id": "Sjza10LpEhGJ"
      },
      "source": [
        "## Самостоятельная работа"
      ]
    },
    {
      "cell_type": "markdown",
      "metadata": {
        "id": "f-1qVEr2Ekbj"
      },
      "source": [
        "Для оценки качества далее нужно будет использовать cross_val_score из sklearn.cross_validation с параметром cv=10. Эта функция реализует k-fold cross validation c k равным значению параметра cv. Мы предлагаем использовать k=10, чтобы полученные оценки качества имели небольшой разброс, и было проще проверить полученные ответы. На практике же часто хватает и k=5. \n",
        "\n",
        "Функция cross_val_score будет возвращать numpy.ndarray, в котором будет k чисел - качество в каждом из k экспериментов k-fold cross validation. Для получения среднего значения (которое и будет оценкой качества работы) вызовите метод .mean() у массива, который возвращает cross_val_score."
      ]
    },
    {
      "cell_type": "markdown",
      "metadata": {
        "id": "UQ1WuTy1Ezjm"
      },
      "source": [
        "### Создайте DecisionTreeClassifier с настройками по умолчанию и измерьте качество его работы с помощью cross_val_score. "
      ]
    },
    {
      "cell_type": "code",
      "metadata": {
        "id": "OALroIiVEjWi"
      },
      "source": [
        "### Ваш код здесь"
      ],
      "execution_count": null,
      "outputs": []
    },
    {
      "cell_type": "markdown",
      "metadata": {
        "id": "qjtFvrpvE9Qd"
      },
      "source": [
        "### Воспользуйтесь sklearn.ensemble BaggingClassifier и обучите его над DecisionTreeClassifier. \n",
        "\n",
        "Используйте в BaggingClassifier параметры по умолчанию, задав только количество деревьев равным 100.\n",
        "\n",
        "Обратите внимание, как соотносится качество работы композиции решающих деревьев с качеством работы одного решающего дерева."
      ]
    },
    {
      "cell_type": "code",
      "metadata": {
        "id": "Zx2PE9EPEVBe"
      },
      "source": [
        "### Ваш код здесь"
      ],
      "execution_count": null,
      "outputs": []
    },
    {
      "cell_type": "markdown",
      "metadata": {
        "id": "Hf1tkhR_FSDH"
      },
      "source": [
        "#### Используйте только $\\sqrt{d}$ признаков\n",
        "\n",
        "Теперь изучите параметры BaggingClassifier и выберите их такими, чтобы каждый базовый алгоритм обучался не на всех $d$ признаках, а на  $\\sqrt{d}$случайных признаков. \n",
        "\n",
        "Корень из числа признаков - часто используемая эвристика в задачах классификации, в задачах регрессии же часто берут число признаков, деленное на три. Но в общем случае ничто не мешает вам выбирать любое другое число случайных признаков."
      ]
    },
    {
      "cell_type": "code",
      "metadata": {
        "id": "ngoJ1Xa0FRXN"
      },
      "source": [
        "### Ваш код здесь"
      ],
      "execution_count": null,
      "outputs": []
    },
    {
      "cell_type": "markdown",
      "metadata": {
        "id": "rCpRPe8CFvnx"
      },
      "source": [
        "#### Попробуйте выбирать случайные признаки не один раз на все дерево, а при построении каждой вершины дерева\n",
        "\n",
        "Сделать это несложно: нужно убрать выбор случайного подмножества признаков в BaggingClassifier и добавить его в DecisionTreeClassifier. Какой параметр за это отвечает, можно понять из документации sklearn, либо просто попробовать угадать (скорее всего, у вас сразу получится). Попробуйте выбирать опять же $\\sqrt{d}$ признаков. "
      ]
    },
    {
      "cell_type": "code",
      "metadata": {
        "id": "2GddfueED0AR"
      },
      "source": [
        "### Ваш код здесь"
      ],
      "execution_count": null,
      "outputs": []
    },
    {
      "cell_type": "code",
      "metadata": {
        "id": "H1ZHWHUisOVp"
      },
      "source": [
        ""
      ],
      "execution_count": null,
      "outputs": []
    }
  ]
}