{
  "nbformat": 4,
  "nbformat_minor": 0,
  "metadata": {
    "kernelspec": {
      "display_name": "Python 3",
      "language": "python",
      "name": "python3"
    },
    "language_info": {
      "codemirror_mode": {
        "name": "ipython",
        "version": 3
      },
      "file_extension": ".py",
      "mimetype": "text/x-python",
      "name": "python",
      "nbconvert_exporter": "python",
      "pygments_lexer": "ipython3",
      "version": "3.7.3"
    },
    "colab": {
      "name": "inclass_classification.ipynb",
      "provenance": [],
      "collapsed_sections": [
        "SWFiq73VxbJj",
        "3cniGuycxbJs"
      ],
      "include_colab_link": true
    }
  },
  "cells": [
    {
      "cell_type": "markdown",
      "metadata": {
        "id": "view-in-github",
        "colab_type": "text"
      },
      "source": [
        "<a href=\"https://colab.research.google.com/github/Tanjiro00/pochti_AI/blob/master/inclass_classification.ipynb\" target=\"_parent\"><img src=\"https://colab.research.google.com/assets/colab-badge.svg\" alt=\"Open In Colab\"/></a>"
      ]
    },
    {
      "cell_type": "markdown",
      "metadata": {
        "id": "tSBpjsnMxbHF"
      },
      "source": [
        "# ML T-Generation Занятие 4: Классификация.\n",
        "# Логрегрессия. KNN. Метрики.\n",
        "\n",
        "Автор: Гаркавый Андрей (andrewgarkavyy@gmail.com)\n",
        "\n",
        "\n",
        "## 0. План\n",
        "\n",
        "1. Логистическая регрессия: теория\n",
        "\n",
        "2. Логистическая регрессия: практика \n",
        "\n",
        "3. Сравнение с KNN\n",
        "\n",
        "3. Precision/Recall\n",
        "\n",
        "4. ROC-AUC\n",
        "\n",
        "5. Небинарная классификация\n",
        "\n",
        "## 1. Логистическая регрессия: теория\n",
        "(в названии регрессия, но на самом деле это алгоритм классификации)\n",
        "\n",
        "\n",
        "Рассмотрим **задачу классификации**. Для простоты рассматрим бинарную классификацию: для каждого примера в обучающей выборке указан его класс: 0 или 1.\n",
        "\n",
        "Нам нужно по признакам научиться восстанавливать класс."
      ]
    },
    {
      "cell_type": "markdown",
      "metadata": {
        "id": "O9HqvIX6xbHJ"
      },
      "source": [
        "Мы уже умеем предсказывать числа (решать задачу регрессии) с помощью модели Линейной регрессии. Самое простое - использовать её для предсказания классов? А именно, будем просто предсказывать эти 0 и 1.\n",
        "\n",
        "Тут даже понятно, как решать по предсказанному числу, какой это класс - если больше 0.5, то класс 1, иначе класс 0."
      ]
    },
    {
      "cell_type": "markdown",
      "metadata": {
        "id": "3ne1neRlxbHK"
      },
      "source": [
        "Этот подход работает, но он несколько противоестественный: предположим, наша модель предсказала для объекта класса 1 значение 2. За такое предсказание она получит такой же штраф, как за предсказание 0: $(2-1)^2 = (0-1)^2$.\n",
        "\n",
        "Давайте попробуем придумать более естественную функцию потерь. Естественно считать, что чем больше предсказание нашей модели, тем сильнее она уверена, что объект принадлежит классу 1. Давайте попробуем интерпретировать предсказание модели как вероятность того, что объект принадлежит классу 1.\n",
        "\n",
        "Модель (теоретически) может выдавать значения от минус до плюс бесконечности, значит нам нужно научиться превращать интервал $(-\\infty, \\infty)$ в интервал $(0, 1)$. Такие функции называют сигмоидами -- потому что они напоминают внешне букву s. Наиболее стандартная такая функция называется логистической функцией и выглядит так:\n",
        "$$\n",
        " \\sigma(x) = \\frac{1}{1 + e^{-x}}\n",
        "$$"
      ]
    },
    {
      "cell_type": "code",
      "metadata": {
        "id": "o45hFgqCb11N"
      },
      "source": [
        "%matplotlib inline\n",
        "from matplotlib import pyplot as plt \n",
        "import numpy as np\n",
        "import pandas as pd"
      ],
      "execution_count": null,
      "outputs": []
    },
    {
      "cell_type": "code",
      "metadata": {
        "id": "30nsqU_txbHa"
      },
      "source": [
        "# сигмоидная функция\n",
        "\n",
        "def sigmoid(x):\n",
        "    return 1.0 / (1 + np.exp(-x))"
      ],
      "execution_count": null,
      "outputs": []
    },
    {
      "cell_type": "code",
      "metadata": {
        "id": "Tg7ZLLlxxbHh",
        "colab": {
          "base_uri": "https://localhost:8080/",
          "height": 282
        },
        "outputId": "9489d08d-1870-4a10-e813-cda2b7113cbe"
      },
      "source": [
        "x = np.linspace(-5, 5, 100)\n",
        "plt.plot(x, sigmoid(x))"
      ],
      "execution_count": null,
      "outputs": [
        {
          "output_type": "execute_result",
          "data": {
            "text/plain": [
              "[<matplotlib.lines.Line2D at 0x7fc8a0b74fd0>]"
            ]
          },
          "metadata": {
            "tags": []
          },
          "execution_count": 3
        },
        {
          "output_type": "display_data",
          "data": {
            "image/png": "[encoded data removed]",
            "text/plain": [
              "<Figure size 432x288 with 1 Axes>"
            ]
          },
          "metadata": {
            "tags": [],
            "needs_background": "light"
          }
        }
      ]
    },
    {
      "cell_type": "markdown",
      "metadata": {
        "id": "HLTa-5KaxbHt"
      },
      "source": [
        "Итак, можно считать, что если наша модель предсказывает для объекта $x$ число $f(x)$ это означает, что $p_x$ = $\\sigma(f(x))$ - вероятность того, что объект принадлежит к классу 1.\n",
        "\n",
        "Для данного примера класса 1 вероятность того, что наша модель угадала правльно равна $p_x$, для примера класса 0 эта вероятность равна $1-p_x$. \n",
        "\n",
        "Давайте посчитаем вероятность того, что наша модель \"угадает\" значение всех элементов:\n",
        "\n",
        "$$\\prod_{x \\in 1} p_x \\prod_{x \\in 0} (1-p_x)$$\n",
        "\n",
        "Мы хотим максимизировать эту вероятность.\n",
        "\n",
        "Работать с произведением неудобно, поэтому возьмем логарифм:\n",
        "\n",
        "$$\\sum_{x \\in 1} \\ln(p_x)  + \\sum_{x \\in 0} \\ln(1-p_x)$$\n",
        "\n",
        "Из этого бы получилась отличная функция потерь, вот только функцию потерь мы хотим минимизировать, а эту функцию нужно максимизировать для лучшего результата. Поэтому умножим её на минус один.\n",
        "\n",
        "$$Logloss = -\\sum_{x \\in 1} \\ln(p_x)  - \\sum_{x \\in 0} \\ln(1-p_x)$$\n",
        "\n",
        "Эта функция потерь называется Logloss. Оказывается, что её довольно просто оптимизировать.\n",
        "\n",
        "Описанный нами алгоритм называется **Логистическая регрессия**. Это алгоритм бинарной классификации (а не регрессии, пусть название вас не путает):\n",
        "\n",
        "1) алгоритм предсказывает $f(x)$ по модели линейной регрессии ($f(x) = a_0 + a_1 x_1 + \\ldots a_n x_n$)\n",
        "\n",
        "2) от каждого значения считается сигмоида для предсказания вероятности ($p_x = \\sigma(f(x)) = \\frac{1}{1 + e^{f(x)}}$)\n",
        "\n",
        "3) по этим вероятностям считается Logloss ($Logloss = -\\sum_{x \\in 1} \\ln(p_x)  - \\sum_{x \\in 0} \\ln(1-p_x)$)\n",
        "\n",
        "4) параметры для модели подбираются так, чтобы именно этот логлосс и был минимален\n",
        "\n",
        "5) предсказание после этого делается так: если вероятность больше 0.5 (то есть f(x) > 0), то это класс 1, иначе это класс 0.\n",
        "\n",
        "Можно также представить, что вы пытаетесь разделить точки двух разных цветов с помощью плоскости. Все, точки оказавшиеся в одном полупространстве, вы предсказываете как класс 0, а в другом - как класс 1.\n",
        "\n",
        "# 2. Логистическая регрессия: практика\n",
        "\n",
        "Как обычно, эта модель уже есть в библиотеке sklearn."
      ]
    },
    {
      "cell_type": "code",
      "metadata": {
        "id": "Wl_OOGwoxbHt"
      },
      "source": [
        "from sklearn.linear_model import LogisticRegression\n",
        "\n",
        "log_reg = LogisticRegression(max_iter=1000) "
      ],
      "execution_count": null,
      "outputs": []
    },
    {
      "cell_type": "markdown",
      "metadata": {
        "id": "trG5ylQkxbIK"
      },
      "source": [
        "Мы будем работать с датасетом, содержащим данные о порядка 18 тысячах звезд, некоторые из которых являются пульсарами."
      ]
    },
    {
      "cell_type": "markdown",
      "metadata": {
        "id": "MHeSdnGc4xqK"
      },
      "source": [
        "Подключите свой гугл-диск к colab: выполните следующую ячейку, перейдите по сслыке, авторизуйтесь в гугл-аккаунте, вставьте полученный код в ноутбук."
      ]
    },
    {
      "cell_type": "code",
      "metadata": {
        "id": "7zlJpDFS4u0y",
        "colab": {
          "base_uri": "https://localhost:8080/"
        },
        "outputId": "3cda6a55-5ac8-42c1-ea0f-94234ee5a6bb"
      },
      "source": [
        "from google.colab import drive\n",
        "drive.mount('/content/drive')"
      ],
      "execution_count": null,
      "outputs": [
        {
          "output_type": "stream",
          "text": [
            "Drive already mounted at /content/drive; to attempt to forcibly remount, call drive.mount(\"/content/drive\", force_remount=True).\n"
          ],
          "name": "stdout"
        }
      ]
    },
    {
      "cell_type": "markdown",
      "metadata": {
        "id": "WntNKALk4u01"
      },
      "source": [
        "Ссылка на файл: https://drive.google.com/file/d/1U4KWzrf5xAX09act1bjDjxNkMMmy7Ek1/view?usp=sharing"
      ]
    },
    {
      "cell_type": "code",
      "metadata": {
        "id": "OLvLv7J54u01",
        "colab": {
          "base_uri": "https://localhost:8080/"
        },
        "outputId": "acadac1a-250c-4b2a-9950-b8920311f546"
      },
      "source": [
        "!ls \"/content/drive/My Drive/tinkoff\""
      ],
      "execution_count": null,
      "outputs": [
        {
          "output_type": "stream",
          "text": [
            "pulsar_stars.csv\n"
          ],
          "name": "stdout"
        }
      ]
    },
    {
      "cell_type": "code",
      "metadata": {
        "id": "EEdYXeatxbIK"
      },
      "source": [
        "import pandas as pd \n",
        "data = pd.read_csv('/content/drive/My Drive/tinkoff/pulsar_stars.csv')\n",
        "\n",
        "X = data.drop(columns=['target_class']) # убираем столбец с целевой переменной\n",
        "y = data['target_class']"
      ],
      "execution_count": null,
      "outputs": []
    },
    {
      "cell_type": "code",
      "metadata": {
        "id": "6511NOqlxbIN",
        "colab": {
          "base_uri": "https://localhost:8080/",
          "height": 238
        },
        "outputId": "0d93ce49-a429-4192-fd9c-4ad0a9e609b1"
      },
      "source": [
        "data.head()"
      ],
      "execution_count": null,
      "outputs": [
        {
          "output_type": "execute_result",
          "data": {
            "text/html": [
              "<div>\n",
              "<style scoped>\n",
              "    .dataframe tbody tr th:only-of-type {\n",
              "        vertical-align: middle;\n",
              "    }\n",
              "\n",
              "    .dataframe tbody tr th {\n",
              "        vertical-align: top;\n",
              "    }\n",
              "\n",
              "    .dataframe thead th {\n",
              "        text-align: right;\n",
              "    }\n",
              "</style>\n",
              "<table border=\"1\" class=\"dataframe\">\n",
              "  <thead>\n",
              "    <tr style=\"text-align: right;\">\n",
              "      <th></th>\n",
              "      <th>Mean of the integrated profile</th>\n",
              "      <th>Standard deviation of the integrated profile</th>\n",
              "      <th>Excess kurtosis of the integrated profile</th>\n",
              "      <th>Skewness of the integrated profile</th>\n",
              "      <th>Mean of the DM-SNR curve</th>\n",
              "      <th>Standard deviation of the DM-SNR curve</th>\n",
              "      <th>Excess kurtosis of the DM-SNR curve</th>\n",
              "      <th>Skewness of the DM-SNR curve</th>\n",
              "      <th>target_class</th>\n",
              "    </tr>\n",
              "  </thead>\n",
              "  <tbody>\n",
              "    <tr>\n",
              "      <th>0</th>\n",
              "      <td>140.562500</td>\n",
              "      <td>55.683782</td>\n",
              "      <td>-0.234571</td>\n",
              "      <td>-0.699648</td>\n",
              "      <td>3.199833</td>\n",
              "      <td>19.110426</td>\n",
              "      <td>7.975532</td>\n",
              "      <td>74.242225</td>\n",
              "      <td>0</td>\n",
              "    </tr>\n",
              "    <tr>\n",
              "      <th>1</th>\n",
              "      <td>102.507812</td>\n",
              "      <td>58.882430</td>\n",
              "      <td>0.465318</td>\n",
              "      <td>-0.515088</td>\n",
              "      <td>1.677258</td>\n",
              "      <td>14.860146</td>\n",
              "      <td>10.576487</td>\n",
              "      <td>127.393580</td>\n",
              "      <td>0</td>\n",
              "    </tr>\n",
              "    <tr>\n",
              "      <th>2</th>\n",
              "      <td>103.015625</td>\n",
              "      <td>39.341649</td>\n",
              "      <td>0.323328</td>\n",
              "      <td>1.051164</td>\n",
              "      <td>3.121237</td>\n",
              "      <td>21.744669</td>\n",
              "      <td>7.735822</td>\n",
              "      <td>63.171909</td>\n",
              "      <td>0</td>\n",
              "    </tr>\n",
              "    <tr>\n",
              "      <th>3</th>\n",
              "      <td>136.750000</td>\n",
              "      <td>57.178449</td>\n",
              "      <td>-0.068415</td>\n",
              "      <td>-0.636238</td>\n",
              "      <td>3.642977</td>\n",
              "      <td>20.959280</td>\n",
              "      <td>6.896499</td>\n",
              "      <td>53.593661</td>\n",
              "      <td>0</td>\n",
              "    </tr>\n",
              "    <tr>\n",
              "      <th>4</th>\n",
              "      <td>88.726562</td>\n",
              "      <td>40.672225</td>\n",
              "      <td>0.600866</td>\n",
              "      <td>1.123492</td>\n",
              "      <td>1.178930</td>\n",
              "      <td>11.468720</td>\n",
              "      <td>14.269573</td>\n",
              "      <td>252.567306</td>\n",
              "      <td>0</td>\n",
              "    </tr>\n",
              "  </tbody>\n",
              "</table>\n",
              "</div>"
            ],
            "text/plain": [
              "    Mean of the integrated profile  ...  target_class\n",
              "0                       140.562500  ...             0\n",
              "1                       102.507812  ...             0\n",
              "2                       103.015625  ...             0\n",
              "3                       136.750000  ...             0\n",
              "4                        88.726562  ...             0\n",
              "\n",
              "[5 rows x 9 columns]"
            ]
          },
          "metadata": {
            "tags": []
          },
          "execution_count": 9
        }
      ]
    },
    {
      "cell_type": "markdown",
      "metadata": {
        "id": "pU8UI1_XxbIP"
      },
      "source": [
        "Как обычно, разбиваем данные на тренировочную и тестовую части."
      ]
    },
    {
      "cell_type": "code",
      "metadata": {
        "id": "h4JRGbewxbIf"
      },
      "source": [
        "from sklearn.model_selection import train_test_split\n",
        "\n",
        "X_train, X_test, y_train, y_test = train_test_split(X, y, test_size=0.3, random_state=42)"
      ],
      "execution_count": null,
      "outputs": []
    },
    {
      "cell_type": "markdown",
      "metadata": {
        "id": "UPWp9Ap7xbIh"
      },
      "source": [
        "Обучение модели классификации происходит ровно так же, как и модели регрессии:"
      ]
    },
    {
      "cell_type": "code",
      "metadata": {
        "id": "ypZnVEmMxbIi",
        "colab": {
          "base_uri": "https://localhost:8080/"
        },
        "outputId": "006af615-b76d-480d-9197-68b25d21bf9a"
      },
      "source": [
        "log_reg.fit(X_train, y_train)"
      ],
      "execution_count": null,
      "outputs": [
        {
          "output_type": "execute_result",
          "data": {
            "text/plain": [
              "LogisticRegression(C=1.0, class_weight=None, dual=False, fit_intercept=True,\n",
              "                   intercept_scaling=1, l1_ratio=None, max_iter=1000,\n",
              "                   multi_class='auto', n_jobs=None, penalty='l2',\n",
              "                   random_state=None, solver='lbfgs', tol=0.0001, verbose=0,\n",
              "                   warm_start=False)"
            ]
          },
          "metadata": {
            "tags": []
          },
          "execution_count": 11
        }
      ]
    },
    {
      "cell_type": "markdown",
      "metadata": {
        "id": "bk11K9mqxbIu"
      },
      "source": [
        "Обратите внимание на первый параметр $С$ - он отвечает за регуляризацию: меньшие значения $С$ соответствуют большим штрафам за \"усложнение\" модели.\n",
        "\n",
        "Предсказание происходит тоже ровно так же: получаем целевую функцию (класс) по методу predict."
      ]
    },
    {
      "cell_type": "code",
      "metadata": {
        "id": "21xVQsXyxbIu",
        "colab": {
          "base_uri": "https://localhost:8080/"
        },
        "outputId": "edd23389-2b6a-45c3-c835-cd86bd46d055"
      },
      "source": [
        "y_pred = log_reg.predict(X_test)\n",
        "y_pred"
      ],
      "execution_count": null,
      "outputs": [
        {
          "output_type": "execute_result",
          "data": {
            "text/plain": [
              "array([0, 1, 0, ..., 0, 0, 0])"
            ]
          },
          "metadata": {
            "tags": []
          },
          "execution_count": 12
        }
      ]
    },
    {
      "cell_type": "markdown",
      "metadata": {
        "id": "Ls3SJzP6xbIw"
      },
      "source": [
        "Но в отличие от регрессии у моделей классификации часто есть еще и возможность предсказать вероятность принадлежности классу:"
      ]
    },
    {
      "cell_type": "code",
      "metadata": {
        "id": "8twXYM3MxbIw",
        "colab": {
          "base_uri": "https://localhost:8080/"
        },
        "outputId": "e8f209f9-45c9-48ad-b8ab-7087e377d804"
      },
      "source": [
        "y_pred_proba = log_reg.predict_proba(X_test)\n",
        "y_pred_proba"
      ],
      "execution_count": null,
      "outputs": [
        {
          "output_type": "execute_result",
          "data": {
            "text/plain": [
              "array([[0.99360226, 0.00639774],\n",
              "       [0.24063535, 0.75936465],\n",
              "       [0.98212185, 0.01787815],\n",
              "       ...,\n",
              "       [0.99724676, 0.00275324],\n",
              "       [0.99432148, 0.00567852],\n",
              "       [0.98104046, 0.01895954]])"
            ]
          },
          "metadata": {
            "tags": []
          },
          "execution_count": 13
        }
      ]
    },
    {
      "cell_type": "markdown",
      "metadata": {
        "id": "r3ILS_ENxbIy"
      },
      "source": [
        "# 3. Сравнение с KNN"
      ]
    },
    {
      "cell_type": "markdown",
      "metadata": {
        "id": "pq_b5RboxbIy"
      },
      "source": [
        "Как понять, хороший ли получился результат? Самое простое - сделать как в регрессии, сравнить используемую метрику на нашей модели и на какой-нибудь другой. Давайте возьмем три модели:\n",
        "\n",
        "1) Предсказать всем 0 (все равно звезда почти всегда не пульсар)\n",
        "\n",
        "2) Лог. регрессия\n",
        "\n",
        "3) KNN"
      ]
    },
    {
      "cell_type": "code",
      "metadata": {
        "id": "1ocK5EUWxbIy",
        "colab": {
          "base_uri": "https://localhost:8080/"
        },
        "outputId": "186bf294-0772-4f20-bedc-4019b17d9a24"
      },
      "source": [
        "from collections import Counter\n",
        "Counter(y_train)"
      ],
      "execution_count": null,
      "outputs": [
        {
          "output_type": "execute_result",
          "data": {
            "text/plain": [
              "Counter({0: 11375, 1: 1153})"
            ]
          },
          "metadata": {
            "tags": []
          },
          "execution_count": 14
        }
      ]
    },
    {
      "cell_type": "markdown",
      "metadata": {
        "id": "RIrkeQjQxbI0"
      },
      "source": [
        "Оказывается, звезда в 10 раз чаще не пульсар, чем пульсар (по крайней мере в нашем датасете)."
      ]
    },
    {
      "cell_type": "code",
      "metadata": {
        "id": "yFKzbuZlxbI1",
        "colab": {
          "base_uri": "https://localhost:8080/"
        },
        "outputId": "f8366c10-8de7-4156-f855-65085ff8ae2b"
      },
      "source": [
        "import numpy as np\n",
        "y_pred_const = np.zeros(len(X_test)) \n",
        "y_pred_proba_const = y_pred_const\n",
        "y_pred_proba_const"
      ],
      "execution_count": null,
      "outputs": [
        {
          "output_type": "execute_result",
          "data": {
            "text/plain": [
              "array([0., 0., 0., ..., 0., 0., 0.])"
            ]
          },
          "metadata": {
            "tags": []
          },
          "execution_count": 15
        }
      ]
    },
    {
      "cell_type": "code",
      "metadata": {
        "id": "geKh_weXxbI2",
        "colab": {
          "base_uri": "https://localhost:8080/"
        },
        "outputId": "0d48037f-4cb9-4e50-af09-6eebb02e72f3"
      },
      "source": [
        "y_pred_log_reg = log_reg.predict(X_test)\n",
        "y_pred_proba_log_reg = log_reg.predict_proba(X_test)[:, 1]  # оставили только второй столбец\n",
        "y_pred_proba_log_reg"
      ],
      "execution_count": null,
      "outputs": [
        {
          "output_type": "execute_result",
          "data": {
            "text/plain": [
              "array([0.00639774, 0.75936465, 0.01787815, ..., 0.00275324, 0.00567852,\n",
              "       0.01895954])"
            ]
          },
          "metadata": {
            "tags": []
          },
          "execution_count": 16
        }
      ]
    },
    {
      "cell_type": "markdown",
      "metadata": {
        "id": "IG_E_i1vxbI4"
      },
      "source": [
        "Осталось обучить модель KNN. Вы уже ее писали ее на первом занятии, но давайте вспомним, что это за алгоритм классификации.\n",
        "\n",
        "**Метод K ближайших соседей (K Nearest Neighbors)** заключается в том, что мы рассматриваем каждый объект как точку в $n$-мерном пространстве, где $n$ - это число признаков. Тогда чтобы предсказать класс какой-нибудь новой точки, нам нужно просто найти $K$ ближайших к ней объектов в тренировочной части и выбрать самый популярный класс среди них.\n",
        "\n",
        "Естественно, эта модель тоже уже написана в sklearn."
      ]
    },
    {
      "cell_type": "code",
      "metadata": {
        "id": "ZTfrVeRQxbI4",
        "colab": {
          "base_uri": "https://localhost:8080/"
        },
        "outputId": "1c449324-8e0c-4a1d-da5f-93d42263b7ec"
      },
      "source": [
        "from sklearn.neighbors import KNeighborsClassifier\n",
        "knn = KNeighborsClassifier(n_neighbors=5) # выберем K=5 например\n",
        "knn.fit(X_train, y_train)"
      ],
      "execution_count": null,
      "outputs": [
        {
          "output_type": "execute_result",
          "data": {
            "text/plain": [
              "KNeighborsClassifier(algorithm='auto', leaf_size=30, metric='minkowski',\n",
              "                     metric_params=None, n_jobs=None, n_neighbors=5, p=2,\n",
              "                     weights='uniform')"
            ]
          },
          "metadata": {
            "tags": []
          },
          "execution_count": 17
        }
      ]
    },
    {
      "cell_type": "code",
      "metadata": {
        "id": "XPjdujWzxbI5",
        "colab": {
          "base_uri": "https://localhost:8080/"
        },
        "outputId": "5e5b5d1b-c63d-43ef-8b9b-7aed87c3bd03"
      },
      "source": [
        "y_pred_knn = knn.predict(X_test)\n",
        "y_pred_proba_knn = knn.predict_proba(X_test)[:, 1]  # оставили только второй столбец\n",
        "y_pred_proba_knn[:10]"
      ],
      "execution_count": null,
      "outputs": [
        {
          "output_type": "execute_result",
          "data": {
            "text/plain": [
              "array([0. , 0. , 0. , 0.2, 0. , 0. , 0. , 0. , 0. , 0. ])"
            ]
          },
          "metadata": {
            "tags": []
          },
          "execution_count": 18
        }
      ]
    },
    {
      "cell_type": "markdown",
      "metadata": {
        "id": "1AyY7agVxbI7"
      },
      "source": [
        "Этот алгоритм не заточен под предсказание вероятности принадлежности к классу, и делает это очень наивно и грубо: если среди $K$ соседей ровно $T$ принадлежат классу 1, то вероятность принадлежности классу 1 равна $\\frac{T}{K}$."
      ]
    },
    {
      "cell_type": "markdown",
      "metadata": {
        "id": "qLopkToSxbI7"
      },
      "source": [
        "Теперь осталось сравнить наши предсказанные результаты. Например, раз мы учили лог. регрессию на logloss, давайте сравним его (помните, для регрессии же мы сравнивали MSE).\n",
        "\n",
        "**Обязательное задание 1**: реализуйте logloss."
      ]
    },
    {
      "cell_type": "code",
      "metadata": {
        "id": "njSEgmdGxbI8"
      },
      "source": [
        "# Реализуйте функцию\n",
        "# Как обычно, чем короче, тем лучше\n",
        "\n",
        "def logloss(y_real, y_pred_proba):\n",
        "    return (-1)*(np.sum(np.log(y_pred_proba[y_real == 1])) + \\\n",
        "            np.sum(np.log(1 - y_pred_proba[y_real == 0])))"
      ],
      "execution_count": null,
      "outputs": []
    },
    {
      "cell_type": "code",
      "metadata": {
        "id": "r7lj9uArh46d",
        "colab": {
          "base_uri": "https://localhost:8080/"
        },
        "outputId": "1d07b062-7aaa-412a-89c8-b89b02cf15f8"
      },
      "source": [
        "from sklearn.metrics import log_loss\n",
        "import numpy as np\n",
        "log_loss(np.array([0, 1, 0, 1, 0]), np.array([0.2, 0.8, 0.4, 0.6, 0.6]), normalize=False)"
      ],
      "execution_count": null,
      "outputs": [
        {
          "output_type": "execute_result",
          "data": {
            "text/plain": [
              "2.384229082034556"
            ]
          },
          "metadata": {
            "tags": []
          },
          "execution_count": 20
        }
      ]
    },
    {
      "cell_type": "code",
      "metadata": {
        "id": "TzRPcCkYxbI9",
        "colab": {
          "base_uri": "https://localhost:8080/"
        },
        "outputId": "8ccc7c8c-c87f-498b-db71-992953b9e48e"
      },
      "source": [
        "# Тест:\n",
        "print('Logloss =', logloss(np.array([0, 1, 0, 1, 0]), np.array([0.2, 0.8, 0.4, 0.6, 0.6])))\n",
        "print('Real answer =', -(np.log(0.8) + np.log(0.8) + np.log(0.6) + np.log(0.6) + np.log(0.4)))"
      ],
      "execution_count": null,
      "outputs": [
        {
          "output_type": "stream",
          "text": [
            "Logloss = 2.3842290820345555\n",
            "Real answer = 2.384229082034556\n"
          ],
          "name": "stdout"
        }
      ]
    },
    {
      "cell_type": "markdown",
      "metadata": {
        "id": "V6Y6Ot84xbI_"
      },
      "source": [
        "Давайте посмотрим, чему равен лог лосс на разных моделях."
      ]
    },
    {
      "cell_type": "code",
      "metadata": {
        "id": "NaLsWV2OxbJA",
        "colab": {
          "base_uri": "https://localhost:8080/"
        },
        "outputId": "f8245109-b542-43b2-9d53-e1237a65153e"
      },
      "source": [
        "logloss(y_test, y_pred_proba_const)"
      ],
      "execution_count": null,
      "outputs": [
        {
          "output_type": "stream",
          "text": [
            "/usr/local/lib/python3.6/dist-packages/ipykernel_launcher.py:5: RuntimeWarning: divide by zero encountered in log\n",
            "  \"\"\"\n"
          ],
          "name": "stderr"
        },
        {
          "output_type": "execute_result",
          "data": {
            "text/plain": [
              "inf"
            ]
          },
          "metadata": {
            "tags": []
          },
          "execution_count": 22
        }
      ]
    },
    {
      "cell_type": "markdown",
      "metadata": {
        "id": "VFu3bS_pxbJB"
      },
      "source": [
        "Наша модель \"все вероятности равны 0\" не работает: если мы угадали все классы, то мы действительно получаем логлосс 0. Но если мы хотя бы раз ошиблись, то мы получим минус логарифм от 0, то есть бесконечность. Предсказывать вероятность в логлоссе как прямо 0 никогда нельзя."
      ]
    },
    {
      "cell_type": "code",
      "metadata": {
        "id": "EjgWJVUxxbJB",
        "colab": {
          "base_uri": "https://localhost:8080/"
        },
        "outputId": "a4709401-9fb8-48fb-9a5e-314eca9d28fd"
      },
      "source": [
        "logloss(y_test, y_pred_proba_log_reg)"
      ],
      "execution_count": null,
      "outputs": [
        {
          "output_type": "execute_result",
          "data": {
            "text/plain": [
              "407.5555697746665"
            ]
          },
          "metadata": {
            "tags": []
          },
          "execution_count": 23
        }
      ]
    },
    {
      "cell_type": "code",
      "metadata": {
        "id": "5eJEODXMxbJD",
        "colab": {
          "base_uri": "https://localhost:8080/"
        },
        "outputId": "bf4e4d97-79fe-42a1-c4b9-7c2ef04bdd2a"
      },
      "source": [
        "logloss(y_test, y_pred_proba_knn)"
      ],
      "execution_count": null,
      "outputs": [
        {
          "output_type": "stream",
          "text": [
            "/usr/local/lib/python3.6/dist-packages/ipykernel_launcher.py:5: RuntimeWarning: divide by zero encountered in log\n",
            "  \"\"\"\n",
            "/usr/local/lib/python3.6/dist-packages/ipykernel_launcher.py:5: RuntimeWarning: divide by zero encountered in log\n",
            "  \"\"\"\n"
          ],
          "name": "stderr"
        },
        {
          "output_type": "execute_result",
          "data": {
            "text/plain": [
              "inf"
            ]
          },
          "metadata": {
            "tags": []
          },
          "execution_count": 24
        }
      ]
    },
    {
      "cell_type": "markdown",
      "metadata": {
        "id": "mOu6uRsPxbJN"
      },
      "source": [
        "С KNN получилась такая же проблема: слишком много вероятностей, равных 0."
      ]
    },
    {
      "cell_type": "markdown",
      "metadata": {
        "id": "J-fLpHozxbJO"
      },
      "source": [
        "Как мы видим, Logloss так себе подходит для сравнения результатов классификации - у наивных моделей там часто возникают бесконечности, да и само число ничего конкретного не значит. В MSE мы хотя бы примерно понимали, что такое средний квадрат отклонений, а тут это абсолютно не говорящее ни о чем число."
      ]
    },
    {
      "cell_type": "markdown",
      "metadata": {
        "id": "QnFHKqcGxbJO"
      },
      "source": [
        "Давайте лучше посчитаем **точность** - accuracy. То есть просто **долю объектов с правильно предсказанным классом**.\n",
        "\n",
        "(вообще называеть ее \"точность\" - плохая идея, потому что у другой метрики, которую мы сегодня рассмотрим (precision) на русский ровно тот же перевод)\n",
        "\n",
        "**Обязательное задание 2:** реализуйте функцию accuracy."
      ]
    },
    {
      "cell_type": "code",
      "metadata": {
        "id": "toSJGbQYxbJO"
      },
      "source": [
        "# Реализуйте функцию\n",
        "# Как обычно, чем короче, тем лучше\n",
        "\n",
        "def accuracy(y_real, y_pred):\n",
        "  return np.where(y_real == y_pred)[0].shape[0] / y_real.shape[0]"
      ],
      "execution_count": null,
      "outputs": []
    },
    {
      "cell_type": "code",
      "metadata": {
        "id": "uaTRKI3TxbJP",
        "colab": {
          "base_uri": "https://localhost:8080/"
        },
        "outputId": "ced903a2-a5a2-45ff-85ae-217ddc566f2a"
      },
      "source": [
        "# Тест:\n",
        "print('Accuracy =', accuracy(np.array([0, 1, 0, 1, 0]), np.array([0, 0, 0, 1, 1])))\n",
        "print('Real answer =', 0.6)"
      ],
      "execution_count": null,
      "outputs": [
        {
          "output_type": "stream",
          "text": [
            "Accuracy = 0.6\n",
            "Real answer = 0.6\n"
          ],
          "name": "stdout"
        }
      ]
    },
    {
      "cell_type": "markdown",
      "metadata": {
        "id": "fC60-8AqxbJR"
      },
      "source": [
        "Давайте посмотрим, чему равна accuracy на разных моделях."
      ]
    },
    {
      "cell_type": "code",
      "metadata": {
        "id": "EYysWhQqxbJR",
        "colab": {
          "base_uri": "https://localhost:8080/"
        },
        "outputId": "b6d07327-df23-46a6-e4f4-f93fd3ea6130"
      },
      "source": [
        "accuracy(y_test, y_pred_const)"
      ],
      "execution_count": null,
      "outputs": [
        {
          "output_type": "execute_result",
          "data": {
            "text/plain": [
              "0.9094972067039107"
            ]
          },
          "metadata": {
            "tags": []
          },
          "execution_count": 27
        }
      ]
    },
    {
      "cell_type": "code",
      "metadata": {
        "id": "cfWqer15xbJS",
        "colab": {
          "base_uri": "https://localhost:8080/"
        },
        "outputId": "b3161e06-508c-42ae-caad-8ad380f57e07"
      },
      "source": [
        "accuracy(y_test, y_pred_log_reg)"
      ],
      "execution_count": null,
      "outputs": [
        {
          "output_type": "execute_result",
          "data": {
            "text/plain": [
              "0.9782122905027933"
            ]
          },
          "metadata": {
            "tags": []
          },
          "execution_count": 28
        }
      ]
    },
    {
      "cell_type": "code",
      "metadata": {
        "id": "1oDGdpGSxbJT",
        "colab": {
          "base_uri": "https://localhost:8080/"
        },
        "outputId": "419dd480-0d00-4556-ffc9-f3207007d130"
      },
      "source": [
        "accuracy(y_test, y_pred_knn)"
      ],
      "execution_count": null,
      "outputs": [
        {
          "output_type": "execute_result",
          "data": {
            "text/plain": [
              "0.9733705772811918"
            ]
          },
          "metadata": {
            "tags": []
          },
          "execution_count": 29
        }
      ]
    },
    {
      "cell_type": "markdown",
      "metadata": {
        "id": "gowRrVNgxbJV"
      },
      "source": [
        "Итак, мы явно видим, что точность константного предсказания (все звезды - не пульсары) - это уже 90%. Действительно, в тестовой части тоже каждая только примерно 10-я звезда является пульсаром.\n",
        "\n",
        "Причем точности и Лог. регрессии, и KNN - значительно выше, это чуть больше 97%. На конкретно моем разбиении на train и test получилось, что accuracy у лог. регрессии все-таки лучше, но пока неясно, это погрешность и разницы особое нет, или все-таки есть значительнон преимущество."
      ]
    },
    {
      "cell_type": "markdown",
      "metadata": {
        "id": "SNqW5OTNxbJV"
      },
      "source": [
        "Здесь сразу видна большая проблема: из-за несбалансированности классов (9 к 1) accuracy наивного предсказания легко набирает сразу 90%. Очень тяжело сравнивать модели по метрике, которая у всех нормальных моделей находится на маленьком отрезке $[0.9, 1.0]$. А представьте, что пульсаров было бы еще меньше: один из сотни звезд. А такое в жизни бывает очень часто - например в рекламе вам нужно понять, сделает ли юзер клик по этому баннеру, и этих кликов по баннеру в данных встречается очень и очень мало, обычно все-таки клика нет. Поэтому модель \"всегда нет клика\" будет сразу набирать 99% accuracy.\n",
        "\n",
        "Для таких дико несбалансированных данных нужны какие-то другие, более говорящие метрики."
      ]
    },
    {
      "cell_type": "markdown",
      "metadata": {
        "id": "q7p6K1vBxbJV"
      },
      "source": [
        "# 4. Precision / Recall\n",
        "\n",
        "Чтобы обойти эту проблему часто рассматривают две другие метрики: **precision** (точность) и **recall** (полнота). Пусть у нас все еще бинарная классификация, и класса 0 очень много, а вот класса 1 - поменьше.\n",
        "\n",
        "Точность -- доля объектов класса 1 среди всех объектов, которые наш классификатор отнес к классу 1.\n",
        "\n",
        "Полнота -- доля объектов класса 1, которые наш классификатор определил правильно среди всех объектов класса 1:\n",
        "\n",
        "**Обязательное задание 3:** реализовать две эти функции."
      ]
    },
    {
      "cell_type": "code",
      "metadata": {
        "id": "XLhGWF-pxbJW"
      },
      "source": [
        "# Реализуйте функцию\n",
        "# Как обычно, чем короче, тем лучше\n",
        "def precision(y_real, y_pred):\n",
        "    return np.where((y_pred == 1) & (y_real == 1))[0].shape[0] / np.where(y_pred == 1)[0].shape[0]\n",
        "\n",
        "def recall(y_real, y_pred):\n",
        "    return np.where((y_pred == 1) & (y_real == 1))[0].shape[0] / np.where(y_real == 1)[0].shape[0]"
      ],
      "execution_count": null,
      "outputs": []
    },
    {
      "cell_type": "code",
      "metadata": {
        "id": "8EzGR_CbxbJX",
        "colab": {
          "base_uri": "https://localhost:8080/"
        },
        "outputId": "45bf93db-5344-406e-e175-1fceb82062ae"
      },
      "source": [
        "# print(precision(y_test, y_pred_const))\n",
        "print(recall(y_test, y_pred_const))"
      ],
      "execution_count": null,
      "outputs": [
        {
          "output_type": "stream",
          "text": [
            "0.0\n"
          ],
          "name": "stdout"
        }
      ]
    },
    {
      "cell_type": "code",
      "metadata": {
        "id": "pN-0bgWnxbJY",
        "colab": {
          "base_uri": "https://localhost:8080/"
        },
        "outputId": "927d423c-a2a5-4396-a246-9203572415ea"
      },
      "source": [
        "print(precision(y_test, y_pred_log_reg))\n",
        "print(recall(y_test, y_pred_log_reg))"
      ],
      "execution_count": null,
      "outputs": [
        {
          "output_type": "stream",
          "text": [
            "0.9424460431654677\n",
            "0.808641975308642\n"
          ],
          "name": "stdout"
        }
      ]
    },
    {
      "cell_type": "code",
      "metadata": {
        "id": "oP723AJCxbJZ",
        "colab": {
          "base_uri": "https://localhost:8080/"
        },
        "outputId": "f4a06d76-15a5-471d-f251-357c7dbdd68e"
      },
      "source": [
        "print(precision(y_test, y_pred_knn))\n",
        "print(recall(y_test, y_pred_knn))"
      ],
      "execution_count": null,
      "outputs": [
        {
          "output_type": "stream",
          "text": [
            "0.9054373522458629\n",
            "0.7880658436213992\n"
          ],
          "name": "stdout"
        }
      ]
    },
    {
      "cell_type": "markdown",
      "metadata": {
        "id": "eBpOtP4fxbJb"
      },
      "source": [
        "Какие мы получили результаты? \n",
        "\n",
        "1) Константное предсказание \"всегда говори 0\" получает nan точность (это доля пульсаров среди предсказанных пульсаров, а мы ни один решили не предсказывать) и 0 полноту (это доля пульсаров, которые мы нашли, а мы ничего не нашли).\n",
        "\n",
        "2) Среди предсказанных с помощью KNN и Лог. регрессии пульсаров 90%-94% звезд действительно являются пульсарами.\n",
        "\n",
        "3) А вот среди всех пульсаров наши модели нашли только 78%-80% пульсаров.\n",
        "\n",
        "4) В целом получается, что модели предсказывают пульсары скорее точно, но при этом много еще не находят (точность больше полноты)."
      ]
    },
    {
      "cell_type": "markdown",
      "metadata": {
        "id": "pAbeKrO3xbJb"
      },
      "source": [
        "Часто для того, чтобы учесть несбалансированность нашего множества, мы можем задать разный вес для разных классов. \n",
        "Например, у Лог. регрессии есть параметр class_weight, который принимает словарь, сопоставляющий каждому классу его вес.\n",
        "\n",
        "При этос вес участвует в Логлоссе - каждое слагаемое с реальным классом 1 просто умножается на вес класса 1, а слагаемое с реальным классом 0 просто умножается на вес класса 0.\n",
        "\n",
        "По сути эти веса значат то, насколько важнее предсказать хорошо класс 0 или класс 1.\n",
        "\n",
        "$$Logloss = -w_1 \\sum_{x \\in 1} \\ln(p_x)  -w_0 \\sum_{x \\in 0} \\ln(1-p_x)$$\n",
        "\n",
        "В изначальных данных у нас почти все звезды были пульсарами (класса 0), и их качество предсказания было гораздо важнее, давайте сбалансируем веса (так половина веса будет приходить из обычных звезд и половина веса из пульсаров)."
      ]
    },
    {
      "cell_type": "code",
      "metadata": {
        "id": "ij8dY0l5xbJb"
      },
      "source": [
        "log_reg_w = LogisticRegression(class_weight = {0: 1, 1: 10},  max_iter=1000)"
      ],
      "execution_count": null,
      "outputs": []
    },
    {
      "cell_type": "code",
      "metadata": {
        "id": "yX-W2X8uxbJc",
        "colab": {
          "base_uri": "https://localhost:8080/"
        },
        "outputId": "05017293-ac96-4a29-e12b-fea368b8933f"
      },
      "source": [
        "log_reg_w.fit(X_train, y_train)"
      ],
      "execution_count": null,
      "outputs": [
        {
          "output_type": "execute_result",
          "data": {
            "text/plain": [
              "LogisticRegression(C=1.0, class_weight={0: 1, 1: 10}, dual=False,\n",
              "                   fit_intercept=True, intercept_scaling=1, l1_ratio=None,\n",
              "                   max_iter=1000, multi_class='auto', n_jobs=None, penalty='l2',\n",
              "                   random_state=None, solver='lbfgs', tol=0.0001, verbose=0,\n",
              "                   warm_start=False)"
            ]
          },
          "metadata": {
            "tags": []
          },
          "execution_count": 36
        }
      ]
    },
    {
      "cell_type": "code",
      "metadata": {
        "id": "4X-pvcGjxbJe"
      },
      "source": [
        "y_pred_w = log_reg_w.predict(X_test)\n",
        "y_pred_proba_w = log_reg_w.predict_proba(X_test)[:, 1]"
      ],
      "execution_count": null,
      "outputs": []
    },
    {
      "cell_type": "code",
      "metadata": {
        "id": "SeaPaz9kxbJf",
        "colab": {
          "base_uri": "https://localhost:8080/"
        },
        "outputId": "95d32a42-1f1b-411d-fab5-4bf61d3fdedb"
      },
      "source": [
        "print(precision(y_test, y_pred_w))\n",
        "print(recall(y_test, y_pred_w))"
      ],
      "execution_count": null,
      "outputs": [
        {
          "output_type": "stream",
          "text": [
            "0.7735191637630662\n",
            "0.9135802469135802\n"
          ],
          "name": "stdout"
        }
      ]
    },
    {
      "cell_type": "markdown",
      "metadata": {
        "id": "e9kD2f8XxbJg"
      },
      "source": [
        "Точность классификатора заметно упала -- он стал чаще говорить \"1\" (так как ошибиться с непульсаром теперь не так страшно), но зато заметно возросла полнота. Хорошо это или плохо -- зависит от того, как мы собираемся использовать наш классификатор.\n",
        "\n",
        "Если для нас очень важно не пропустить ни одного пульсара (а если мы какую-то звезду тоже назовем пульсаром по ошибке, то не очень страшно) нам нужно растить полноту -- это возможно, например, если потом на выбранные звезды посмотрят в радиотелескоп и уточнят предсказание.\n",
        "\n",
        "А может быть, что для нас важно не назвать пульсаром звезду, которая им не является (например, ко всем потенциальным пульсарам мы отправим дорогой исследовательский зонд -- не страшно пропустить какие-то, но очень обидно отправить зонд к не-пульсару).\n"
      ]
    },
    {
      "cell_type": "markdown",
      "metadata": {
        "id": "DIm7MY_rxbJg"
      },
      "source": [
        "Для полноты картины введем еще два определения:\n",
        "    - ошибка первого рода (Type I error, false positive) - ситуация, когда наша модель отнесла объект класса 0 к классу 1\n",
        "    - ошибка второго рода (Type II error, false negative) - ситуация, когда наша модель отнесла объект класса 1 к классу 0\n",
        "    \n",
        "Аналогично правильные предсказания можно разделить на true positives и true negatives\n",
        "\n",
        "![Таблица](.jpg)\n",
        "\n",
        "Как запомнить какая ошибка что: в сказке про мальчика, который кричал \"Волк!\" сначала описывается ошибка первого рода, а потом - второго.\n",
        "\n",
        "![Ошибки](errors.jpg)"
      ]
    },
    {
      "cell_type": "markdown",
      "metadata": {
        "id": "_782UIfvxbJg"
      },
      "source": [
        "**Обязательно задание 4:** запишите accuracy, precision и recall в терминах количества ошибок первого и второго рода (FP и FN) и количества правильных предсказаний (TP, TN).\n",
        "\n",
        "Accuracy = (TP + TN) / (TP + FP + FN + TN)\n",
        "\n",
        "Precision = TP / (TP + FP)\n",
        "\n",
        "Recall = TP / (TP + FN)"
      ]
    },
    {
      "cell_type": "markdown",
      "metadata": {
        "id": "nPuQT-8nxbJh"
      },
      "source": [
        "**Обязательное задание 5:** постройте график зависимости precision и recall от соотношения весов в графе в логистической регрессии.\n",
        "\n",
        "Пусть вес класса 0 будет всегда равен 1, переберите чему равен вес класса 1."
      ]
    },
    {
      "cell_type": "code",
      "metadata": {
        "id": "8XGYGLZJxbJh",
        "colab": {
          "base_uri": "https://localhost:8080/",
          "height": 285
        },
        "outputId": "caef1b18-fb29-43de-941e-f0c2b23363fb"
      },
      "source": [
        "precisions = []\n",
        "recalls = []\n",
        "\n",
        "for i in range(1, 11):\n",
        "    log_reg_w = LogisticRegression(class_weight = {0: 1, 1: i}, max_iter=1000)\n",
        "    log_reg_w.fit(X_train, y_train)\n",
        "    y_pred_w = log_reg_w.predict(X_test)\n",
        "    \n",
        "    precisions.append(precision(y_test, y_pred_w))\n",
        "    recalls.append(recall(y_test, y_pred_w))\n",
        "\n",
        "weights = list(range(1, 11))\n",
        "plt.plot(weights, precisions)\n",
        "plt.plot(weights, recalls)\n",
        "plt.legend(['precisions', 'recalls'])"
      ],
      "execution_count": null,
      "outputs": [
        {
          "output_type": "execute_result",
          "data": {
            "text/plain": [
              "<matplotlib.legend.Legend at 0x7fc88e8ef978>"
            ]
          },
          "metadata": {
            "tags": []
          },
          "execution_count": 40
        },
        {
          "output_type": "display_data",
          "data": {
            "image/png": "[encoded data removed]",
            "text/plain": [
              "<Figure size 432x288 with 1 Axes>"
            ]
          },
          "metadata": {
            "tags": [],
            "needs_background": "light"
          }
        }
      ]
    },
    {
      "cell_type": "markdown",
      "metadata": {
        "id": "NfY24M06xbJi"
      },
      "source": [
        "Существует метрика, объединяющая точность и полноту - их среднее гармоническое. Эта метрика называется $F_1$-мерой:\n",
        "\n",
        "$$ F_1 = \\frac{2* precision*recall}{precision+recall}$$\n",
        "\n",
        "**Обязательное задание 6:** добавьте на график еще и f1-меру."
      ]
    },
    {
      "cell_type": "code",
      "metadata": {
        "id": "aCIzWvizxbJi",
        "colab": {
          "base_uri": "https://localhost:8080/",
          "height": 285
        },
        "outputId": "6ea0db4b-d232-4545-8f33-b9bf9f634436"
      },
      "source": [
        "precisions = []\n",
        "recalls = []\n",
        "f1 = []\n",
        "\n",
        "for i in range(1, 11):\n",
        "    log_reg_w = LogisticRegression(class_weight = {0: 1, 1: i}, max_iter=1000)\n",
        "    log_reg_w.fit(X_train, y_train)\n",
        "    y_pred_w = log_reg_w.predict(X_test)\n",
        "    \n",
        "    cur_prec = precision(y_test, y_pred_w)\n",
        "    precisions.append(cur_prec)\n",
        "    cur_recall = recall(y_test, y_pred_w)\n",
        "    recalls.append(cur_recall)\n",
        "    f1.append(2 * cur_recall * cur_prec / (cur_prec + cur_recall))\n",
        "\n",
        "weights = list(range(1, 11))\n",
        "plt.plot(weights, precisions)\n",
        "plt.plot(weights, recalls)\n",
        "plt.plot(weights, f1)\n",
        "plt.legend(['precisions', 'recalls', 'f1'])"
      ],
      "execution_count": null,
      "outputs": [
        {
          "output_type": "execute_result",
          "data": {
            "text/plain": [
              "<matplotlib.legend.Legend at 0x7fc886c0d2b0>"
            ]
          },
          "metadata": {
            "tags": []
          },
          "execution_count": 41
        },
        {
          "output_type": "display_data",
          "data": {
            "image/png": "[encoded data removed]",
            "text/plain": [
              "<Figure size 432x288 with 1 Axes>"
            ]
          },
          "metadata": {
            "tags": [],
            "needs_background": "light"
          }
        }
      ]
    },
    {
      "cell_type": "markdown",
      "metadata": {
        "id": "SWFiq73VxbJj"
      },
      "source": [
        "# 5. ROC-AUC\n",
        "\n",
        "Продолжим изучать метрики бинарной классификации. Представим, что мы предсказали пульсары - но изучать их надо в каком-то порядке. В порядке уменьшения вероятности, что они пульсары.\n",
        "\n",
        "Надо как-то научить мерить, **насколько хорошо мы предсказали вероятности с точки зрения порядка**."
      ]
    },
    {
      "cell_type": "markdown",
      "metadata": {
        "id": "SvNdptAXxbJk"
      },
      "source": [
        "Давайте отсортируем все зведы по вероятности, что они пульсары. Если бы мы идеально предсказали пульсары, то сначала в этом списке идут исключительно не-пульсары, а потом исключительно пульсары.\n",
        "\n",
        "В реальности, конечно, там будут ошибки."
      ]
    },
    {
      "cell_type": "code",
      "metadata": {
        "id": "nzpuJzzpxbJk",
        "colab": {
          "base_uri": "https://localhost:8080/"
        },
        "outputId": "ad8dd323-47e9-48e2-ea15-518ab02c18e9"
      },
      "source": [
        "model = LogisticRegression(max_iter=1000)\n",
        "model.fit(X_train, y_train)\n",
        "y_pred_proba = model.predict_proba(X_test)[:, 1]\n",
        "y_pred_proba"
      ],
      "execution_count": null,
      "outputs": [
        {
          "output_type": "execute_result",
          "data": {
            "text/plain": [
              "array([0.00639774, 0.75936465, 0.01787815, ..., 0.00275324, 0.00567852,\n",
              "       0.01895954])"
            ]
          },
          "metadata": {
            "tags": []
          },
          "execution_count": 42
        }
      ]
    },
    {
      "cell_type": "code",
      "metadata": {
        "id": "o7PBcSwrxbJm",
        "colab": {
          "base_uri": "https://localhost:8080/"
        },
        "outputId": "5c8792ed-833c-4b64-bd4e-603db77d3c44"
      },
      "source": [
        "list(zip(X_test.index, y_pred_proba))[:5]"
      ],
      "execution_count": null,
      "outputs": [
        {
          "output_type": "execute_result",
          "data": {
            "text/plain": [
              "[(15985, 0.006397742243155969),\n",
              " (8188, 0.7593646461407118),\n",
              " (8157, 0.01787814736094202),\n",
              " (2589, 0.49042531564816355),\n",
              " (11909, 0.013929532534327297)]"
            ]
          },
          "metadata": {
            "tags": []
          },
          "execution_count": 43
        }
      ]
    },
    {
      "cell_type": "code",
      "metadata": {
        "id": "lvqwx--IxbJn",
        "colab": {
          "base_uri": "https://localhost:8080/"
        },
        "outputId": "a74afdd2-13aa-45cb-8ece-9df36310b0c1"
      },
      "source": [
        "sorted_by_proba = sorted(list(zip(X_test.index, y_pred_proba)), key=lambda x: x[1])\n",
        "sorted_by_proba[-5:]"
      ],
      "execution_count": null,
      "outputs": [
        {
          "output_type": "execute_result",
          "data": {
            "text/plain": [
              "[(5478, 0.999951727718705),\n",
              " (2037, 0.9999528279302649),\n",
              " (4572, 0.9999564790568564),\n",
              " (8193, 0.9999572559400706),\n",
              " (2626, 0.9999579552372823)]"
            ]
          },
          "metadata": {
            "tags": []
          },
          "execution_count": 44
        }
      ]
    },
    {
      "cell_type": "code",
      "metadata": {
        "id": "fSG0VfW5xbJo",
        "colab": {
          "base_uri": "https://localhost:8080/"
        },
        "outputId": "c58610fc-926e-445a-98e6-9a97fc1a414f"
      },
      "source": [
        "results = [y_test[id] for id, proba in sorted_by_proba]\n",
        "print(results[:25])\n",
        "print(results[1000:1025])\n",
        "print(results[3000:3025])\n",
        "print(results[5000:5025])\n",
        "print(results[-25:])"
      ],
      "execution_count": null,
      "outputs": [
        {
          "output_type": "stream",
          "text": [
            "[0, 0, 0, 0, 0, 0, 0, 0, 0, 0, 0, 0, 0, 0, 0, 0, 0, 0, 0, 0, 0, 0, 0, 0, 0]\n",
            "[0, 0, 0, 0, 0, 0, 0, 0, 0, 0, 0, 0, 0, 0, 0, 0, 0, 0, 0, 0, 0, 0, 0, 0, 0]\n",
            "[0, 0, 0, 0, 0, 0, 0, 0, 0, 0, 0, 0, 0, 0, 0, 0, 0, 0, 0, 0, 0, 0, 0, 0, 0]\n",
            "[1, 1, 1, 1, 1, 1, 0, 0, 0, 1, 1, 1, 1, 1, 1, 1, 1, 1, 1, 0, 0, 1, 1, 1, 1]\n",
            "[1, 1, 1, 1, 1, 1, 1, 1, 1, 1, 1, 1, 1, 1, 1, 1, 1, 1, 1, 1, 1, 1, 1, 0, 1]\n"
          ],
          "name": "stdout"
        }
      ]
    },
    {
      "cell_type": "markdown",
      "metadata": {
        "id": "tDYU1yCUxbJp"
      },
      "source": [
        "Вот мы отсортировали по вероятности принадлежности классу 1 - и действительно, сначала долго идут объекты класса 0, потом в какой-то момент начинают появляться пульсары, потом их все больше, и в конце остаются исключительно они (ну почему-то кроме последнего в моем случае).\n",
        "\n",
        "Датасайентисты очень любят рисовать ROС-кривую."
      ]
    },
    {
      "cell_type": "code",
      "metadata": {
        "id": "Z0UZdVv4xbJp",
        "colab": {
          "base_uri": "https://localhost:8080/",
          "height": 458
        },
        "outputId": "906a9f37-7508-46dc-a310-0a1c6eacc82a"
      },
      "source": [
        "from sklearn.metrics import roc_curve\n",
        "plt.figure(figsize=(7, 7))\n",
        "fpr, tpr, thresholds = roc_curve(y_test, y_pred_proba)\n",
        "plt.plot(fpr, tpr, 'b', linewidth=3)\n",
        "plt.plot([0, 1], [0, 1], 'k--')\n",
        "plt.plot([0, 0], [0, 1], 'k')\n",
        "plt.plot([1, 1], [0, 1], 'k')\n",
        "plt.plot([0, 1], [0, 0], 'k')\n",
        "plt.plot([0, 1], [1, 1], 'k')\n",
        "plt.xlabel('False positive rate')\n",
        "plt.ylabel('True positive rate')\n",
        "plt.xlim((0, 1))\n",
        "plt.ylim((0, 1))\n",
        "plt.axis('equal')\n",
        "plt.title('ROC curve')\n",
        "plt.show()"
      ],
      "execution_count": null,
      "outputs": [
        {
          "output_type": "display_data",
          "data": {
            "image/png": "[encoded data removed]",
            "text/plain": [
              "<Figure size 504x504 with 1 Axes>"
            ]
          },
          "metadata": {
            "tags": [],
            "needs_background": "light"
          }
        }
      ]
    },
    {
      "cell_type": "markdown",
      "metadata": {
        "id": "CsfGMj57xbJr"
      },
      "source": [
        "У ROC-кривой в общем-то есть два определения.\n",
        "\n",
        "1) Вот у нас есть отсортированный по вероятности массив объектов. Нам нужно решить, где его разрезать на две части - все левые мы предскажем как класс 0, а правые как класс 1.\n",
        "\n",
        "Давайте для каждого возможного разреза просто посчитаемдве метрики и нарисуес график зависимости одной от другой:\n",
        "\n",
        "$$False\\space positive\\space rate = \\frac{FP}{FP + TN} = \\frac{FP}{size(0)}$$\n",
        "$$True\\space positive\\space rate = \\frac{TP}{TP + FN} = \\frac{TP}{size(1)}$$\n",
        "\n",
        "False positive rate - это доля предсказанных пульсаров среди реальных не-пульсаров.\n",
        "\n",
        "True positive rate - это доля предсказанных пульсаров среди реальных пульсаров.\n",
        "\n",
        "2) Наша кривая начинается в точке $(0, 0)$ и заканчивается в точке $(1, 1)$ (действительно, если мы все считаем не-пульсарами, то FPR = 0, TPR = 0, иначе FPR = 1, TPR = 1.\n",
        "\n",
        "Между ними она должна сделать несколько шагов вверх и вправо. Давайте просто идти слева направо по нашему и списку и каждый раз, когда попался объект класса 0, делать шаг вверх на $\\frac{1}{size(0)}$, а когда встретился объект класса 1, делать шаг вправо на $\\frac{1}{size(1)}$. Тогда мы в итоге обязательно придем из (0, 0) в (1, 1), и это получится ровно та же кривая.\n",
        "\n",
        "Действительно, каждый раз мы на самом деле просто перемещаем один объект из класса 0 в класс 1. Если его реальный класс равен 0, то TPR не изменился, а FPR увеличился на $\\frac{1}{size(0)}$. Если его реальный класс равен 1, то FPR не изменился, а TPR увеличился на $\\frac{1}{size(1)}$. Так что это то же самое."
      ]
    },
    {
      "cell_type": "markdown",
      "metadata": {
        "id": "c2ONPA6IxbJr"
      },
      "source": [
        "Кривая это хорошо, но нам бы хотелось числовую метрику, которая бы говорила, насколько хорош получившийся из вероятностей порядок. Для это обычно берут **площадь под этой кривой** (Areas Under Curve - AUC), её еще называют ROC-AUC.\n",
        "\n",
        "Она не больше, чем 1, и чем выше и левее эта кривая, тем лучше.\n",
        "\n",
        "Практически всегда ROC AUC > 0.5 (иначе это легко поправить - надо просто перевернть все вероятности).\n",
        "\n",
        "ROC AUC позволяет глубоко оценивать качество предсказанных вероятностей. Accuracy, Precision и Recall работали только с самими предсказаниями классов, и никак вероятности не затрагивали."
      ]
    },
    {
      "cell_type": "code",
      "metadata": {
        "id": "mCdNis2zxbJr",
        "colab": {
          "base_uri": "https://localhost:8080/"
        },
        "outputId": "ce871c4f-a7d0-4baf-c2a4-0c9be75c3ebc"
      },
      "source": [
        "from sklearn.metrics import roc_auc_score\n",
        "roc_auc_score(y_test, y_pred_proba)"
      ],
      "execution_count": null,
      "outputs": [
        {
          "output_type": "execute_result",
          "data": {
            "text/plain": [
              "0.9756170311725868"
            ]
          },
          "metadata": {
            "tags": []
          },
          "execution_count": 47
        }
      ]
    },
    {
      "cell_type": "markdown",
      "metadata": {
        "id": "3cniGuycxbJs"
      },
      "source": [
        "# 6. Небинарная классификация"
      ]
    },
    {
      "cell_type": "markdown",
      "metadata": {
        "id": "s9x1eT6fxbJs"
      },
      "source": [
        "Мы с вами рассматривали всё это время только задачу бинарной классификации, но что делать, когда классов болше, чем 2? На самом деле есть простой способ сводить любую классификацию к бинарной.\n",
        "\n",
        "Методика называется **One vs The Rest**. Давайте просто рассмотрим каждый класс как независимую бинарную классификацию, и будем предсказывать вероятности того, что этот элемент лежит в этом классе, или не лежит.\n",
        "\n",
        "Так про каждый класс мы получим вероятность, лежит ли в нем объект. Из них мы уже сможем выбрать лучший класс для этого объекта. А чтобы получить вероятности принадлежности каждому классу, эти числа еще нужно отнормировать, чтобы в сумме они давали 1.\n",
        "\n",
        "Давайте, например, рассмотрим датасет с циферками."
      ]
    },
    {
      "cell_type": "code",
      "metadata": {
        "id": "-Xly2ro4xbJs",
        "colab": {
          "base_uri": "https://localhost:8080/"
        },
        "outputId": "3c6cfe54-d6d2-4221-c86a-cfaf12f09426"
      },
      "source": [
        "from sklearn.datasets import load_digits\n",
        "data = load_digits()\n",
        "data.keys()"
      ],
      "execution_count": null,
      "outputs": [
        {
          "output_type": "execute_result",
          "data": {
            "text/plain": [
              "dict_keys(['data', 'target', 'target_names', 'images', 'DESCR'])"
            ]
          },
          "metadata": {
            "tags": []
          },
          "execution_count": 70
        }
      ]
    },
    {
      "cell_type": "code",
      "metadata": {
        "id": "dQyHkjRnxbJt",
        "colab": {
          "base_uri": "https://localhost:8080/"
        },
        "outputId": "8554cdce-a871-4529-cff2-4bc5f73b31f0"
      },
      "source": [
        "print(data['DESCR'])"
      ],
      "execution_count": null,
      "outputs": [
        {
          "output_type": "stream",
          "text": [
            ".. _digits_dataset:\n",
            "\n",
            "Optical recognition of handwritten digits dataset\n",
            "--------------------------------------------------\n",
            "\n",
            "**Data Set Characteristics:**\n",
            "\n",
            "    :Number of Instances: 5620\n",
            "    :Number of Attributes: 64\n",
            "    :Attribute Information: 8x8 image of integer pixels in the range 0..16.\n",
            "    :Missing Attribute Values: None\n",
            "    :Creator: E. Alpaydin (alpaydin '@' boun.edu.tr)\n",
            "    :Date: July; 1998\n",
            "\n",
            "This is a copy of the test set of the UCI ML hand-written digits datasets\n",
            "https://archive.ics.uci.edu/ml/datasets/Optical+Recognition+of+Handwritten+Digits\n",
            "\n",
            "The data set contains images of hand-written digits: 10 classes where\n",
            "each class refers to a digit.\n",
            "\n",
            "Preprocessing programs made available by NIST were used to extract\n",
            "normalized bitmaps of handwritten digits from a preprinted form. From a\n",
            "total of 43 people, 30 contributed to the training set and different 13\n",
            "to the test set. 32x32 bitmaps are divided into nonoverlapping blocks of\n",
            "4x4 and the number of on pixels are counted in each block. This generates\n",
            "an input matrix of 8x8 where each element is an integer in the range\n",
            "0..16. This reduces dimensionality and gives invariance to small\n",
            "distortions.\n",
            "\n",
            "For info on NIST preprocessing routines, see M. D. Garris, J. L. Blue, G.\n",
            "T. Candela, D. L. Dimmick, J. Geist, P. J. Grother, S. A. Janet, and C.\n",
            "L. Wilson, NIST Form-Based Handprint Recognition System, NISTIR 5469,\n",
            "1994.\n",
            "\n",
            ".. topic:: References\n",
            "\n",
            "  - C. Kaynak (1995) Methods of Combining Multiple Classifiers and Their\n",
            "    Applications to Handwritten Digit Recognition, MSc Thesis, Institute of\n",
            "    Graduate Studies in Science and Engineering, Bogazici University.\n",
            "  - E. Alpaydin, C. Kaynak (1998) Cascading Classifiers, Kybernetika.\n",
            "  - Ken Tang and Ponnuthurai N. Suganthan and Xi Yao and A. Kai Qin.\n",
            "    Linear dimensionalityreduction using relevance weighted LDA. School of\n",
            "    Electrical and Electronic Engineering Nanyang Technological University.\n",
            "    2005.\n",
            "  - Claudio Gentile. A New Approximate Maximal Margin Classification\n",
            "    Algorithm. NIPS. 2000.\n"
          ],
          "name": "stdout"
        }
      ]
    },
    {
      "cell_type": "code",
      "metadata": {
        "id": "Y0CzgsVNxbJv",
        "colab": {
          "base_uri": "https://localhost:8080/"
        },
        "outputId": "302d8fb4-4aaf-473b-d7ea-c14928f6edcb"
      },
      "source": [
        "X = data['data']\n",
        "X[0]"
      ],
      "execution_count": null,
      "outputs": [
        {
          "output_type": "execute_result",
          "data": {
            "text/plain": [
              "array([ 0.,  0.,  5., 13.,  9.,  1.,  0.,  0.,  0.,  0., 13., 15., 10.,\n",
              "       15.,  5.,  0.,  0.,  3., 15.,  2.,  0., 11.,  8.,  0.,  0.,  4.,\n",
              "       12.,  0.,  0.,  8.,  8.,  0.,  0.,  5.,  8.,  0.,  0.,  9.,  8.,\n",
              "        0.,  0.,  4., 11.,  0.,  1., 12.,  7.,  0.,  0.,  2., 14.,  5.,\n",
              "       10., 12.,  0.,  0.,  0.,  0.,  6., 13., 10.,  0.,  0.,  0.])"
            ]
          },
          "metadata": {
            "tags": []
          },
          "execution_count": 72
        }
      ]
    },
    {
      "cell_type": "markdown",
      "metadata": {
        "id": "I5KL-ICQxbJw"
      },
      "source": [
        "Эти фичи - это на самом деле яркости пикселей вот такой картинки 8x8. Каждый пиксель - это число от 0 до 15."
      ]
    },
    {
      "cell_type": "code",
      "metadata": {
        "id": "wkKDoPIixbJw",
        "colab": {
          "base_uri": "https://localhost:8080/",
          "height": 265
        },
        "outputId": "48ef51d3-7d01-4ea1-8ebf-9a9121dfbe4d"
      },
      "source": [
        "def draw_digit(features):\n",
        "    plt.imshow(features.reshape(8, 8), cmap=plt.cm.gray, vmax=16, interpolation='nearest')\n",
        "\n",
        "draw_digit(X[0])\n"
      ],
      "execution_count": null,
      "outputs": [
        {
          "output_type": "display_data",
          "data": {
            "image/png": "[encoded data removed]",
            "text/plain": [
              "<Figure size 432x288 with 1 Axes>"
            ]
          },
          "metadata": {
            "tags": [],
            "needs_background": "light"
          }
        }
      ]
    },
    {
      "cell_type": "code",
      "metadata": {
        "id": "IWU8b0SqxbJy",
        "colab": {
          "base_uri": "https://localhost:8080/",
          "height": 265
        },
        "outputId": "a722fa0e-d2d3-48ac-ffdb-b7046b313a9a"
      },
      "source": [
        "draw_digit(X[60])"
      ],
      "execution_count": null,
      "outputs": [
        {
          "output_type": "display_data",
          "data": {
            "image/png": "[encoded data removed]",
            "text/plain": [
              "<Figure size 432x288 with 1 Axes>"
            ]
          },
          "metadata": {
            "tags": [],
            "needs_background": "light"
          }
        }
      ]
    },
    {
      "cell_type": "code",
      "metadata": {
        "id": "dcbY6LY3xbJz",
        "colab": {
          "base_uri": "https://localhost:8080/"
        },
        "outputId": "dad743a3-c9c8-43e5-aa16-5c48a556af5d"
      },
      "source": [
        "y = data['target']\n",
        "Counter(y)"
      ],
      "execution_count": null,
      "outputs": [
        {
          "output_type": "execute_result",
          "data": {
            "text/plain": [
              "Counter({0: 178,\n",
              "         1: 182,\n",
              "         2: 177,\n",
              "         3: 183,\n",
              "         4: 181,\n",
              "         5: 182,\n",
              "         6: 181,\n",
              "         7: 179,\n",
              "         8: 174,\n",
              "         9: 180})"
            ]
          },
          "metadata": {
            "tags": []
          },
          "execution_count": 53
        }
      ]
    },
    {
      "cell_type": "code",
      "metadata": {
        "id": "FPQhc8JQxbJ1"
      },
      "source": [
        "X_train, X_test, y_train, y_test = train_test_split(X, y, test_size=0.2, random_state=42)"
      ],
      "execution_count": null,
      "outputs": []
    },
    {
      "cell_type": "markdown",
      "metadata": {
        "id": "b1KdMDO4xbJ2"
      },
      "source": [
        "В логистической регрессии уже по умолчанию включен мод One vs The Rest и она работает для нескольких классов."
      ]
    },
    {
      "cell_type": "code",
      "metadata": {
        "id": "PQEHE5D_xbJ4",
        "colab": {
          "base_uri": "https://localhost:8080/"
        },
        "outputId": "7d6be2d2-b232-4465-ef75-5d3dc08d0af7"
      },
      "source": [
        "log_reg = LogisticRegression(max_iter=10000)\n",
        "log_reg.fit(X_train, y_train)"
      ],
      "execution_count": null,
      "outputs": [
        {
          "output_type": "execute_result",
          "data": {
            "text/plain": [
              "LogisticRegression(C=1.0, class_weight=None, dual=False, fit_intercept=True,\n",
              "                   intercept_scaling=1, l1_ratio=None, max_iter=10000,\n",
              "                   multi_class='auto', n_jobs=None, penalty='l2',\n",
              "                   random_state=None, solver='lbfgs', tol=0.0001, verbose=0,\n",
              "                   warm_start=False)"
            ]
          },
          "metadata": {
            "tags": []
          },
          "execution_count": 55
        }
      ]
    },
    {
      "cell_type": "code",
      "metadata": {
        "id": "BPk4K64mxbJ5",
        "colab": {
          "base_uri": "https://localhost:8080/"
        },
        "outputId": "3b9cca30-c0e7-422b-ccf8-430ac4ee0ee1"
      },
      "source": [
        "y_pred_log_reg = log_reg.predict(X_test)\n",
        "y_pred_log_reg"
      ],
      "execution_count": null,
      "outputs": [
        {
          "output_type": "execute_result",
          "data": {
            "text/plain": [
              "array([6, 9, 3, 7, 2, 1, 5, 2, 5, 2, 1, 9, 4, 0, 4, 2, 3, 7, 8, 8, 4, 3,\n",
              "       9, 7, 5, 6, 3, 5, 6, 3, 4, 9, 1, 4, 4, 6, 9, 4, 7, 6, 6, 9, 1, 3,\n",
              "       6, 1, 3, 0, 6, 5, 5, 1, 3, 5, 6, 0, 9, 0, 0, 1, 0, 4, 5, 2, 4, 5,\n",
              "       7, 0, 7, 5, 9, 5, 5, 4, 7, 0, 4, 5, 5, 9, 9, 0, 2, 3, 8, 0, 6, 4,\n",
              "       4, 9, 1, 2, 8, 3, 5, 2, 9, 0, 4, 4, 4, 3, 5, 3, 1, 3, 5, 9, 4, 2,\n",
              "       7, 7, 4, 4, 1, 9, 2, 7, 8, 7, 2, 6, 9, 4, 0, 7, 2, 7, 5, 8, 7, 5,\n",
              "       7, 5, 0, 6, 6, 4, 2, 8, 0, 9, 4, 6, 9, 9, 6, 9, 0, 5, 5, 6, 6, 0,\n",
              "       6, 4, 3, 9, 3, 8, 7, 2, 9, 0, 4, 5, 3, 6, 5, 9, 9, 8, 4, 2, 1, 3,\n",
              "       7, 7, 2, 2, 3, 9, 8, 0, 3, 2, 2, 5, 6, 9, 9, 4, 1, 2, 4, 2, 3, 6,\n",
              "       4, 8, 5, 9, 5, 7, 8, 9, 4, 8, 1, 5, 4, 4, 9, 6, 1, 8, 6, 0, 4, 5,\n",
              "       2, 7, 1, 6, 4, 5, 6, 0, 3, 2, 3, 6, 7, 1, 9, 1, 4, 7, 6, 5, 8, 5,\n",
              "       5, 1, 5, 2, 8, 8, 9, 9, 7, 6, 2, 2, 2, 3, 4, 8, 8, 3, 6, 0, 9, 7,\n",
              "       7, 0, 1, 0, 4, 5, 1, 5, 3, 6, 0, 4, 1, 0, 0, 3, 6, 5, 9, 7, 3, 5,\n",
              "       5, 9, 9, 8, 5, 3, 3, 2, 0, 5, 8, 3, 4, 0, 2, 4, 6, 4, 3, 4, 5, 0,\n",
              "       5, 2, 1, 3, 1, 4, 1, 1, 7, 0, 1, 5, 2, 1, 2, 8, 7, 0, 6, 4, 8, 8,\n",
              "       5, 1, 8, 4, 5, 8, 7, 9, 8, 6, 0, 6, 2, 0, 7, 9, 8, 9, 5, 2, 7, 7,\n",
              "       1, 8, 7, 4, 3, 8, 3, 5])"
            ]
          },
          "metadata": {
            "tags": []
          },
          "execution_count": 56
        }
      ]
    },
    {
      "cell_type": "markdown",
      "metadata": {
        "id": "2ewAqwuwxbJ6"
      },
      "source": [
        "predict_proba теперь возвращает массив с вероятностями каждого из 10 классов."
      ]
    },
    {
      "cell_type": "code",
      "metadata": {
        "id": "aCcDjdxpxbJ6",
        "colab": {
          "base_uri": "https://localhost:8080/"
        },
        "outputId": "bfd37f96-fc61-43c6-b2d8-71e65c149ecc"
      },
      "source": [
        "y_pred_proba_log_reg = log_reg.predict_proba(X_test)\n",
        "sum(y_pred_proba_log_reg[0])"
      ],
      "execution_count": null,
      "outputs": [
        {
          "output_type": "execute_result",
          "data": {
            "text/plain": [
              "array([6.63541288e-08, 3.84739241e-11, 1.34256330e-13, 1.44322759e-13,\n",
              "       1.30686188e-09, 2.34125210e-11, 9.99987950e-01, 3.78736857e-11,\n",
              "       1.19825406e-05, 1.28587391e-11])"
            ]
          },
          "metadata": {
            "tags": []
          },
          "execution_count": 57
        }
      ]
    },
    {
      "cell_type": "code",
      "metadata": {
        "id": "e3_9CILNvq4_",
        "colab": {
          "base_uri": "https://localhost:8080/"
        },
        "outputId": "3a178d80-535e-4862-9858-84f822c4f2d9"
      },
      "source": [
        "sum(y_pred_proba_log_reg[0])"
      ],
      "execution_count": null,
      "outputs": [
        {
          "output_type": "execute_result",
          "data": {
            "text/plain": [
              "1.0"
            ]
          },
          "metadata": {
            "tags": []
          },
          "execution_count": 74
        }
      ]
    },
    {
      "cell_type": "markdown",
      "metadata": {
        "id": "f4frBfUfxbJ7"
      },
      "source": [
        "А вот для KNN вообще нет разницы, два класса или больше: алгоритм работает ровно так же - выбирает самый популярный класс из $K$ соседей."
      ]
    },
    {
      "cell_type": "code",
      "metadata": {
        "id": "kv_vUsNFxbJ8",
        "colab": {
          "base_uri": "https://localhost:8080/"
        },
        "outputId": "5dcfd616-b1f4-429a-89f5-9f89b7d39782"
      },
      "source": [
        "knn = KNeighborsClassifier(n_neighbors=5)\n",
        "knn.fit(X_train, y_train)"
      ],
      "execution_count": null,
      "outputs": [
        {
          "output_type": "execute_result",
          "data": {
            "text/plain": [
              "KNeighborsClassifier(algorithm='auto', leaf_size=30, metric='minkowski',\n",
              "                     metric_params=None, n_jobs=None, n_neighbors=5, p=2,\n",
              "                     weights='uniform')"
            ]
          },
          "metadata": {
            "tags": []
          },
          "execution_count": 58
        }
      ]
    },
    {
      "cell_type": "code",
      "metadata": {
        "id": "6bWKmbaexbJ9",
        "colab": {
          "base_uri": "https://localhost:8080/"
        },
        "outputId": "d5098569-6117-4f4e-ba2e-1044f1ff1e9e"
      },
      "source": [
        "y_pred_knn = knn.predict(X_test)\n",
        "y_pred_knn"
      ],
      "execution_count": null,
      "outputs": [
        {
          "output_type": "execute_result",
          "data": {
            "text/plain": [
              "array([6, 9, 3, 7, 2, 1, 5, 2, 5, 2, 1, 9, 4, 0, 4, 2, 3, 7, 8, 8, 4, 3,\n",
              "       9, 7, 5, 6, 3, 5, 6, 3, 4, 9, 1, 4, 4, 6, 9, 4, 7, 6, 6, 9, 1, 3,\n",
              "       6, 1, 3, 0, 6, 5, 5, 1, 9, 5, 6, 0, 9, 0, 0, 1, 0, 4, 5, 2, 4, 5,\n",
              "       7, 0, 7, 5, 9, 9, 5, 4, 7, 0, 4, 5, 5, 9, 9, 0, 2, 3, 8, 0, 6, 4,\n",
              "       4, 9, 1, 2, 8, 3, 5, 2, 9, 0, 4, 4, 4, 3, 5, 3, 1, 3, 5, 9, 4, 2,\n",
              "       7, 7, 4, 4, 1, 9, 2, 7, 8, 7, 2, 6, 9, 4, 0, 7, 2, 7, 5, 8, 7, 5,\n",
              "       7, 9, 0, 6, 6, 4, 2, 8, 0, 9, 4, 6, 9, 9, 6, 9, 0, 3, 5, 6, 6, 0,\n",
              "       6, 4, 3, 9, 3, 4, 7, 2, 9, 0, 4, 5, 3, 6, 5, 9, 9, 8, 4, 2, 1, 3,\n",
              "       7, 7, 2, 2, 3, 9, 8, 0, 3, 2, 2, 5, 6, 9, 9, 4, 1, 5, 4, 2, 3, 6,\n",
              "       4, 8, 5, 9, 5, 7, 8, 9, 4, 8, 1, 5, 4, 4, 9, 6, 1, 8, 6, 0, 4, 5,\n",
              "       2, 7, 4, 6, 4, 5, 6, 0, 3, 2, 3, 6, 7, 1, 5, 1, 4, 7, 6, 8, 8, 5,\n",
              "       5, 1, 6, 2, 8, 8, 9, 5, 7, 6, 2, 2, 2, 3, 4, 8, 8, 3, 6, 0, 9, 7,\n",
              "       7, 0, 1, 0, 4, 5, 1, 5, 3, 6, 0, 4, 1, 0, 0, 3, 6, 5, 9, 7, 3, 5,\n",
              "       5, 9, 9, 8, 5, 3, 3, 2, 0, 5, 8, 3, 4, 0, 2, 4, 6, 4, 3, 4, 5, 0,\n",
              "       5, 2, 1, 3, 1, 4, 1, 1, 7, 0, 1, 5, 2, 1, 2, 8, 7, 0, 6, 4, 8, 8,\n",
              "       5, 1, 8, 4, 5, 8, 7, 9, 8, 6, 0, 6, 2, 0, 7, 9, 8, 9, 5, 2, 7, 7,\n",
              "       1, 8, 7, 4, 3, 8, 3, 5])"
            ]
          },
          "metadata": {
            "tags": []
          },
          "execution_count": 59
        }
      ]
    },
    {
      "cell_type": "code",
      "metadata": {
        "id": "SHJ7FUctxbJ-",
        "colab": {
          "base_uri": "https://localhost:8080/"
        },
        "outputId": "45c84841-2f6a-41d7-d4b3-6bdae39959d6"
      },
      "source": [
        "y_pred_proba_knn = knn.predict_proba(X_test)\n",
        "y_pred_proba_knn[3]"
      ],
      "execution_count": null,
      "outputs": [
        {
          "output_type": "execute_result",
          "data": {
            "text/plain": [
              "array([0., 0., 0., 0., 0., 0., 0., 1., 0., 0.])"
            ]
          },
          "metadata": {
            "tags": []
          },
          "execution_count": 60
        }
      ]
    },
    {
      "cell_type": "code",
      "metadata": {
        "id": "-A6NFE73faMc",
        "colab": {
          "base_uri": "https://localhost:8080/"
        },
        "outputId": "8f86f274-6531-4386-f125-e96e87cc0fdc"
      },
      "source": [
        "y_pred_proba_knn[61]"
      ],
      "execution_count": null,
      "outputs": [
        {
          "output_type": "execute_result",
          "data": {
            "text/plain": [
              "array([0., 0., 0., 0., 1., 0., 0., 0., 0., 0.])"
            ]
          },
          "metadata": {
            "tags": []
          },
          "execution_count": 61
        }
      ]
    },
    {
      "cell_type": "code",
      "metadata": {
        "id": "wqZI3_6xxbJ_",
        "colab": {
          "base_uri": "https://localhost:8080/"
        },
        "outputId": "dd2f5201-d42c-4a44-e885-41305e89b153"
      },
      "source": [
        "from sklearn.metrics import accuracy_score\n",
        "print(accuracy_score(y_test, y_pred_log_reg))\n",
        "print(accuracy_score(y_test, y_pred_knn))"
      ],
      "execution_count": null,
      "outputs": [
        {
          "output_type": "stream",
          "text": [
            "0.9722222222222222\n",
            "0.9861111111111112\n"
          ],
          "name": "stdout"
        }
      ]
    },
    {
      "cell_type": "markdown",
      "metadata": {
        "id": "wiyG1anXxbKA"
      },
      "source": [
        "Метрика Accuracy - одна из немногих, которая легко переносится с бинарной классификации на небинарную. Это все еще просто доля объектов с верно угаданным классами.\n",
        "\n",
        "Как мы видим, обе известные нам модели работают на цифрах очень и очень круто, учитывая что там 10 сбалансированных классов, а они угадывают больше 96%."
      ]
    },
    {
      "cell_type": "markdown",
      "metadata": {
        "id": "Et6l_p-QxbKA"
      },
      "source": [
        "Вот с другими метриками возникают проблемы - неочевидно как обобщить их на несколько классов. Обычно есть два способа это сделать.\n",
        "\n",
        "- macro - это аналог One vs The Rest, метрика просто считается для каждого класса независимо, а потом усредняется\n",
        "\n",
        "- micro - это более сложная вещь, здесь нужно рассмотреть каждую пару \"объект, класс\" как объекты, и как будто считать метрики на бинарной классификации в этой задаче"
      ]
    },
    {
      "cell_type": "code",
      "metadata": {
        "id": "3OeARzIxxbKA"
      },
      "source": [
        "from sklearn.metrics import precision_score, recall_score, f1_score"
      ],
      "execution_count": null,
      "outputs": []
    },
    {
      "cell_type": "code",
      "metadata": {
        "id": "skAoaGeyf6hL"
      },
      "source": [
        ""
      ],
      "execution_count": null,
      "outputs": []
    },
    {
      "cell_type": "code",
      "metadata": {
        "id": "a3TPmfkBxbKC",
        "colab": {
          "base_uri": "https://localhost:8080/"
        },
        "outputId": "295cf699-0014-4b33-c51d-bac21835762d"
      },
      "source": [
        "print(precision_score(y_test, y_pred_log_reg, average='macro'))\n",
        "print(precision_score(y_test, y_pred_knn, average='macro'))"
      ],
      "execution_count": null,
      "outputs": [
        {
          "output_type": "stream",
          "text": [
            "0.9735814591088425\n",
            "0.9879206496042758\n"
          ],
          "name": "stdout"
        }
      ]
    },
    {
      "cell_type": "code",
      "metadata": {
        "id": "KswLFBOvxbKF",
        "colab": {
          "base_uri": "https://localhost:8080/"
        },
        "outputId": "e07c1c6f-5512-4ee1-8089-49a7a2e7f2ea"
      },
      "source": [
        "print(precision_score(y_test, y_pred_log_reg, average='micro'))\n",
        "print(precision_score(y_test, y_pred_knn, average='micro'))"
      ],
      "execution_count": null,
      "outputs": [
        {
          "output_type": "stream",
          "text": [
            "0.9722222222222222\n",
            "0.9861111111111112\n"
          ],
          "name": "stdout"
        }
      ]
    },
    {
      "cell_type": "code",
      "metadata": {
        "id": "2bMHH8BjxbKG",
        "colab": {
          "base_uri": "https://localhost:8080/"
        },
        "outputId": "07688f11-6d50-430c-e949-8df6898a1870"
      },
      "source": [
        "print(recall_score(y_test, y_pred_log_reg, average='macro'))\n",
        "print(recall_score(y_test, y_pred_knn, average='macro'))"
      ],
      "execution_count": null,
      "outputs": [
        {
          "output_type": "stream",
          "text": [
            "0.9743702791014647\n",
            "0.9878035043804756\n"
          ],
          "name": "stdout"
        }
      ]
    },
    {
      "cell_type": "code",
      "metadata": {
        "id": "BRGtXSlFxbKH",
        "colab": {
          "base_uri": "https://localhost:8080/"
        },
        "outputId": "c72ae61e-1a43-45f9-eabb-3220247d5a01"
      },
      "source": [
        "print(recall_score(y_test, y_pred_log_reg, average='micro'))\n",
        "print(recall_score(y_test, y_pred_knn, average='micro'))"
      ],
      "execution_count": null,
      "outputs": [
        {
          "output_type": "stream",
          "text": [
            "0.9722222222222222\n",
            "0.9861111111111112\n"
          ],
          "name": "stdout"
        }
      ]
    },
    {
      "cell_type": "code",
      "metadata": {
        "id": "VGAkeIAYxbKH",
        "colab": {
          "base_uri": "https://localhost:8080/"
        },
        "outputId": "1f95fd4d-5620-4518-c43b-78a0fc619523"
      },
      "source": [
        "print(f1_score(y_test, y_pred_log_reg, average='macro'))\n",
        "print(f1_score(y_test, y_pred_knn, average='macro'))"
      ],
      "execution_count": null,
      "outputs": [
        {
          "output_type": "stream",
          "text": [
            "0.9738640962411946\n",
            "0.9877979367135244\n"
          ],
          "name": "stdout"
        }
      ]
    },
    {
      "cell_type": "code",
      "metadata": {
        "id": "uC_qzI6zxbKI",
        "colab": {
          "base_uri": "https://localhost:8080/"
        },
        "outputId": "500b078e-87f8-4559-ed21-85b783009cf4"
      },
      "source": [
        "print(f1_score(y_test, y_pred_log_reg, average='macro'))\n",
        "print(f1_score(y_test, y_pred_knn, average='macro'))"
      ],
      "execution_count": null,
      "outputs": [
        {
          "output_type": "stream",
          "text": [
            "0.9738640962411946\n",
            "0.9877979367135244\n"
          ],
          "name": "stdout"
        }
      ]
    },
    {
      "cell_type": "markdown",
      "metadata": {
        "id": "HNtz2QuZxbKJ"
      },
      "source": [
        "Как видно, на этом датасете везде получается одно и то же ))"
      ]
    },
    {
      "cell_type": "code",
      "metadata": {
        "id": "IkozT1QBxbKK"
      },
      "source": [
        ""
      ],
      "execution_count": null,
      "outputs": []
    }
  ]
}