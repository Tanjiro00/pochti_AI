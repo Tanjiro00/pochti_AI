{
  "nbformat": 4,
  "nbformat_minor": 0,
  "metadata": {
    "colab": {
      "name": "inclass_feature_engineering.ipynb",
      "provenance": [],
      "include_colab_link": true
    },
    "kernelspec": {
      "display_name": "Python 3",
      "language": "python",
      "name": "python3"
    },
    "language_info": {
      "codemirror_mode": {
        "name": "ipython",
        "version": 3
      },
      "file_extension": ".py",
      "mimetype": "text/x-python",
      "name": "python",
      "nbconvert_exporter": "python",
      "pygments_lexer": "ipython3",
      "version": "3.7.0"
    }
  },
  "cells": [
    {
      "cell_type": "markdown",
      "metadata": {
        "id": "view-in-github",
        "colab_type": "text"
      },
      "source": [
        "<a href=\"https://colab.research.google.com/github/Tanjiro00/pochti_AI/blob/master/inclass_feature_engineering.ipynb\" target=\"_parent\"><img src=\"https://colab.research.google.com/assets/colab-badge.svg\" alt=\"Open In Colab\"/></a>"
      ]
    },
    {
      "cell_type": "markdown",
      "metadata": {
        "button": false,
        "id": "YUqVw8u7gi0Z",
        "new_sheet": false,
        "run_control": {
          "read_only": false
        }
      },
      "source": [
        "# Что мы узнаем сегодня?\n",
        "\n",
        "\n",
        "1. [Как работать с пропусками в данных](#Пропуски-в-данных)\n",
        "2. [Как работать с категориальными признаками](#Категориальные-признаки)\n",
        "3. [Полезные преобразования данных](#Полезные-преобразования-данных)\n",
        "4. [Инжинирим признаки](#Инжинирим-признаки)\n",
        "5. [Поговорим про отбор признаков](#Отбор-признаков)\n",
        "6. [KaggleInClass](#KaggleInClass)"
      ]
    },
    {
      "cell_type": "markdown",
      "metadata": {
        "button": false,
        "id": "Cz8Q1iZPgi0a",
        "new_sheet": false,
        "run_control": {
          "read_only": false
        }
      },
      "source": [
        "# Пропуски в данных\n",
        "\n",
        "Рассмотрим датасет `communities and crime`. Этот датасет содержит различные признаки, которые характеризуют район. Задача предсказать уровень преступности на 100 тысяч человек. Это задача регрессии."
      ]
    },
    {
      "cell_type": "code",
      "metadata": {
        "button": false,
        "id": "FexrNwsVgi0a",
        "new_sheet": false,
        "run_control": {
          "read_only": false
        }
      },
      "source": [
        "import numpy as np\n",
        "import pandas as pd\n",
        "\n",
        "# Датасет взят отсюда: http://archive.ics.uci.edu/ml/datasets/communities+and+crime\n",
        "# Загружаем датасет\n",
        "\n",
        "x = pd.read_csv('/content/drive/MyDrive/Lesson 5_2/communites.csv',delimiter=',', header=None)"
      ],
      "execution_count": null,
      "outputs": []
    },
    {
      "cell_type": "code",
      "metadata": {
        "colab": {
          "base_uri": "https://localhost:8080/"
        },
        "id": "WLfG1_G0fg6o",
        "outputId": "c7727338-4408-4e08-9b8a-b6c14d925bf7"
      },
      "source": [
        "from google.colab import drive\n",
        "drive.mount('/content/drive')"
      ],
      "execution_count": null,
      "outputs": [
        {
          "output_type": "stream",
          "text": [
            "Mounted at /content/drive\n"
          ],
          "name": "stdout"
        }
      ]
    },
    {
      "cell_type": "code",
      "metadata": {
        "button": false,
        "colab": {
          "base_uri": "https://localhost:8080/"
        },
        "id": "MMcMTmEhgi0d",
        "new_sheet": false,
        "run_control": {
          "read_only": false
        },
        "outputId": "e2096349-8ca8-4dff-f24a-543d033db696"
      },
      "source": [
        "print(x).e)\n",
        "x.info()"
      ],
      "execution_count": null,
      "outputs": [
        {
          "output_type": "stream",
          "text": [
            "   0     1      2                    3    4    ...   123   124   125   126   127\n",
            "0    8  None   None         Lakewoodcity    1  ...   0.9   0.5  0.32  0.14  0.20\n",
            "1   53  None   None          Tukwilacity    1  ...  None  None  0.00  None  0.67\n",
            "2   24  None   None         Aberdeentown    1  ...  None  None  0.00  None  0.43\n",
            "3   34     5  81440  Willingborotownship    1  ...  None  None  0.00  None  0.12\n",
            "4   42    95   6096    Bethlehemtownship    1  ...  None  None  0.00  None  0.03\n",
            "\n",
            "[5 rows x 128 columns]\n",
            "<class 'pandas.core.frame.DataFrame'>\n",
            "RangeIndex: 1994 entries, 0 to 1993\n",
            "Columns: 128 entries, 0 to 127\n",
            "dtypes: float64(100), int64(2), object(26)\n",
            "memory usage: 1.9+ MB\n"
          ],
          "name": "stdout"
        }
      ]
    },
    {
      "cell_type": "markdown",
      "metadata": {
        "button": false,
        "id": "7iIFv4axgi0h",
        "new_sheet": false,
        "run_control": {
          "read_only": false
        }
      },
      "source": [
        "Итак, у нас 1994 района и 122 признака, `ViolentCrimesPerPop` наша таргетная переменная.\n",
        "\n",
        "Давайте взглянем на данные:"
      ]
    },
    {
      "cell_type": "code",
      "metadata": {
        "button": false,
        "colab": {
          "base_uri": "https://localhost:8080/",
          "height": 158
        },
        "id": "U6O95oiJgi0i",
        "new_sheet": false,
        "run_control": {
          "read_only": false
        },
        "outputId": "c162bbd4-08d7-4f9e-b24c-53b168a377d0"
      },
      "source": [
        "# Посмотрим на данные:\n",
        "x.head()"
      ],
      "execution_count": null,
      "outputs": [
        {
          "output_type": "execute_result",
          "data": {
            "text/html": [
              "<div>\n",
              "<style scoped>\n",
              "    .dataframe tbody tr th:only-of-type {\n",
              "        vertical-align: middle;\n",
              "    }\n",
              "\n",
              "    .dataframe tbody tr th {\n",
              "        vertical-align: top;\n",
              "    }\n",
              "\n",
              "    .dataframe thead th {\n",
              "        text-align: right;\n",
              "    }\n",
              "</style>\n",
              "<table border=\"1\" class=\"dataframe\">\n",
              "  <thead>\n",
              "    <tr style=\"text-align: right;\">\n",
              "      <th></th>\n",
              "      <th>0</th>\n",
              "      <th>1</th>\n",
              "      <th>2</th>\n",
              "      <th>3</th>\n",
              "      <th>4</th>\n",
              "      <th>5</th>\n",
              "      <th>6</th>\n",
              "      <th>7</th>\n",
              "      <th>8</th>\n",
              "      <th>9</th>\n",
              "      <th>...</th>\n",
              "      <th>118</th>\n",
              "      <th>119</th>\n",
              "      <th>120</th>\n",
              "      <th>121</th>\n",
              "      <th>122</th>\n",
              "      <th>123</th>\n",
              "      <th>124</th>\n",
              "      <th>125</th>\n",
              "      <th>126</th>\n",
              "      <th>127</th>\n",
              "    </tr>\n",
              "  </thead>\n",
              "  <tbody>\n",
              "    <tr>\n",
              "      <th>0</th>\n",
              "      <td>8</td>\n",
              "      <td>None</td>\n",
              "      <td>None</td>\n",
              "      <td>Lakewoodcity</td>\n",
              "      <td>1</td>\n",
              "      <td>0.19</td>\n",
              "      <td>0.33</td>\n",
              "      <td>0.02</td>\n",
              "      <td>0.90</td>\n",
              "      <td>0.12</td>\n",
              "      <td>...</td>\n",
              "      <td>0.12</td>\n",
              "      <td>0.26</td>\n",
              "      <td>0.20</td>\n",
              "      <td>0.06</td>\n",
              "      <td>0.04</td>\n",
              "      <td>0.9</td>\n",
              "      <td>0.5</td>\n",
              "      <td>0.32</td>\n",
              "      <td>0.14</td>\n",
              "      <td>0.20</td>\n",
              "    </tr>\n",
              "    <tr>\n",
              "      <th>1</th>\n",
              "      <td>53</td>\n",
              "      <td>None</td>\n",
              "      <td>None</td>\n",
              "      <td>Tukwilacity</td>\n",
              "      <td>1</td>\n",
              "      <td>0.00</td>\n",
              "      <td>0.16</td>\n",
              "      <td>0.12</td>\n",
              "      <td>0.74</td>\n",
              "      <td>0.45</td>\n",
              "      <td>...</td>\n",
              "      <td>0.02</td>\n",
              "      <td>0.12</td>\n",
              "      <td>0.45</td>\n",
              "      <td>None</td>\n",
              "      <td>None</td>\n",
              "      <td>None</td>\n",
              "      <td>None</td>\n",
              "      <td>0.00</td>\n",
              "      <td>None</td>\n",
              "      <td>0.67</td>\n",
              "    </tr>\n",
              "    <tr>\n",
              "      <th>2</th>\n",
              "      <td>24</td>\n",
              "      <td>None</td>\n",
              "      <td>None</td>\n",
              "      <td>Aberdeentown</td>\n",
              "      <td>1</td>\n",
              "      <td>0.00</td>\n",
              "      <td>0.42</td>\n",
              "      <td>0.49</td>\n",
              "      <td>0.56</td>\n",
              "      <td>0.17</td>\n",
              "      <td>...</td>\n",
              "      <td>0.01</td>\n",
              "      <td>0.21</td>\n",
              "      <td>0.02</td>\n",
              "      <td>None</td>\n",
              "      <td>None</td>\n",
              "      <td>None</td>\n",
              "      <td>None</td>\n",
              "      <td>0.00</td>\n",
              "      <td>None</td>\n",
              "      <td>0.43</td>\n",
              "    </tr>\n",
              "    <tr>\n",
              "      <th>3</th>\n",
              "      <td>34</td>\n",
              "      <td>5</td>\n",
              "      <td>81440</td>\n",
              "      <td>Willingborotownship</td>\n",
              "      <td>1</td>\n",
              "      <td>0.04</td>\n",
              "      <td>0.77</td>\n",
              "      <td>1.00</td>\n",
              "      <td>0.08</td>\n",
              "      <td>0.12</td>\n",
              "      <td>...</td>\n",
              "      <td>0.02</td>\n",
              "      <td>0.39</td>\n",
              "      <td>0.28</td>\n",
              "      <td>None</td>\n",
              "      <td>None</td>\n",
              "      <td>None</td>\n",
              "      <td>None</td>\n",
              "      <td>0.00</td>\n",
              "      <td>None</td>\n",
              "      <td>0.12</td>\n",
              "    </tr>\n",
              "    <tr>\n",
              "      <th>4</th>\n",
              "      <td>42</td>\n",
              "      <td>95</td>\n",
              "      <td>6096</td>\n",
              "      <td>Bethlehemtownship</td>\n",
              "      <td>1</td>\n",
              "      <td>0.01</td>\n",
              "      <td>0.55</td>\n",
              "      <td>0.02</td>\n",
              "      <td>0.95</td>\n",
              "      <td>0.09</td>\n",
              "      <td>...</td>\n",
              "      <td>0.04</td>\n",
              "      <td>0.09</td>\n",
              "      <td>0.02</td>\n",
              "      <td>None</td>\n",
              "      <td>None</td>\n",
              "      <td>None</td>\n",
              "      <td>None</td>\n",
              "      <td>0.00</td>\n",
              "      <td>None</td>\n",
              "      <td>0.03</td>\n",
              "    </tr>\n",
              "  </tbody>\n",
              "</table>\n",
              "<p>5 rows × 128 columns</p>\n",
              "</div>"
            ],
            "text/plain": [
              "   0     1      2                    3    4     5     6     7     8     9    \\\n",
              "0    8  None   None         Lakewoodcity    1  0.19  0.33  0.02  0.90  0.12   \n",
              "1   53  None   None          Tukwilacity    1  0.00  0.16  0.12  0.74  0.45   \n",
              "2   24  None   None         Aberdeentown    1  0.00  0.42  0.49  0.56  0.17   \n",
              "3   34     5  81440  Willingborotownship    1  0.04  0.77  1.00  0.08  0.12   \n",
              "4   42    95   6096    Bethlehemtownship    1  0.01  0.55  0.02  0.95  0.09   \n",
              "\n",
              "   ...   118   119   120   121   122   123   124   125   126   127  \n",
              "0  ...  0.12  0.26  0.20  0.06  0.04   0.9   0.5  0.32  0.14  0.20  \n",
              "1  ...  0.02  0.12  0.45  None  None  None  None  0.00  None  0.67  \n",
              "2  ...  0.01  0.21  0.02  None  None  None  None  0.00  None  0.43  \n",
              "3  ...  0.02  0.39  0.28  None  None  None  None  0.00  None  0.12  \n",
              "4  ...  0.04  0.09  0.02  None  None  None  None  0.00  None  0.03  \n",
              "\n",
              "[5 rows x 128 columns]"
            ]
          },
          "metadata": {
            "tags": []
          },
          "execution_count": 3
        }
      ]
    },
    {
      "cell_type": "code",
      "metadata": {
        "id": "fZFqls0QfayQ"
      },
      "source": [
        "x.replace('None', np.nan, inplace=True)"
      ],
      "execution_count": null,
      "outputs": []
    },
    {
      "cell_type": "markdown",
      "metadata": {
        "button": false,
        "id": "FsZpeJoFgi0l",
        "new_sheet": false,
        "run_control": {
          "read_only": false
        }
      },
      "source": [
        "Видим глазами много пропусков. А как узнать сколько значений не известно?"
      ]
    },
    {
      "cell_type": "code",
      "metadata": {
        "scrolled": true,
        "colab": {
          "base_uri": "https://localhost:8080/"
        },
        "id": "RYpL7jMkfayQ",
        "outputId": "d67bd2fd-9c77-42a2-c86e-1151c26a2f62"
      },
      "source": [
        "x.isna().any().sum(axis=0)"
      ],
      "execution_count": null,
      "outputs": [
        {
          "output_type": "execute_result",
          "data": {
            "text/plain": [
              "25"
            ]
          },
          "metadata": {
            "tags": []
          },
          "execution_count": 8
        }
      ]
    },
    {
      "cell_type": "code",
      "metadata": {
        "colab": {
          "base_uri": "https://localhost:8080/"
        },
        "id": "V3JPdifKfayR",
        "outputId": "9dd69826-857c-4c15-98e8-1cc3b690926c"
      },
      "source": [
        "x.isna().sum(axis=0) # сколько признаков содержат неизвестные значения"
      ],
      "execution_count": null,
      "outputs": [
        {
          "output_type": "execute_result",
          "data": {
            "text/plain": [
              "0         0\n",
              "1      1174\n",
              "2      1177\n",
              "3         0\n",
              "4         0\n",
              "       ... \n",
              "123    1675\n",
              "124    1675\n",
              "125       0\n",
              "126    1675\n",
              "127       0\n",
              "Length: 128, dtype: int64"
            ]
          },
          "metadata": {
            "tags": []
          },
          "execution_count": 9
        }
      ]
    },
    {
      "cell_type": "code",
      "metadata": {
        "button": false,
        "id": "mq9eMIJtgi0o",
        "new_sheet": false,
        "run_control": {
          "read_only": false
        },
        "outputId": "c0a6f085-4433-4e2b-c6a9-cae62c064e36"
      },
      "source": [
        "x.isna().sum() # cколько неизвестных значений содержит каждый признак"
      ],
      "execution_count": null,
      "outputs": [
        {
          "output_type": "execute_result",
          "data": {
            "text/plain": [
              "0         0\n",
              "1      1174\n",
              "2      1177\n",
              "3         0\n",
              "4         0\n",
              "       ... \n",
              "123    1675\n",
              "124    1675\n",
              "125       0\n",
              "126    1675\n",
              "127       0\n",
              "Length: 128, dtype: int64"
            ]
          },
          "metadata": {
            "tags": []
          },
          "execution_count": 9
        }
      ]
    },
    {
      "cell_type": "code",
      "metadata": {
        "button": false,
        "colab": {
          "base_uri": "https://localhost:8080/"
        },
        "id": "crjS9fSWgi0q",
        "new_sheet": false,
        "run_control": {
          "read_only": false
        },
        "outputId": "29e6dbb1-9355-4123-ddba-ceba703e536f"
      },
      "source": [
        "# Выведите одно число -- количество пропущенных значений\n",
        "\n",
        "x.isna().sum().sum()"
      ],
      "execution_count": null,
      "outputs": [
        {
          "output_type": "execute_result",
          "data": {
            "text/plain": [
              "39202"
            ]
          },
          "metadata": {
            "tags": []
          },
          "execution_count": 10
        }
      ]
    },
    {
      "cell_type": "markdown",
      "metadata": {
        "button": false,
        "id": "sYGznBCRgi0s",
        "new_sheet": false,
        "run_control": {
          "read_only": false
        }
      },
      "source": [
        "**Как быть?**\n"
      ]
    },
    {
      "cell_type": "markdown",
      "metadata": {
        "button": false,
        "id": "GiNTVLT-gi0t",
        "new_sheet": false,
        "run_control": {
          "read_only": false
        }
      },
      "source": [
        "**Удалить лишнее**\n",
        "* Выкинуть данные с неизвестным признаком\n",
        "* Выкинуть признак, если он имеет слишком мало известных значений\n",
        "\n",
        "**Восстановить значения**\n",
        "\n",
        "*В англоязычной терминологии это называется `imputation`.*\n",
        "    \n",
        "   * Для **вещественных** признаков\n",
        "    * Заполнить все пропуски средним (модой, медианой) значениями признака\n",
        "    * Предсказывать значение пропущенного признака с помощью линейной регрессии\n",
        "   * Для **категориальных**\n",
        "    * Отдельное значением типа \"n/a\"\n",
        "    * Использовать самое частое значение признака\n",
        "\n",
        "\n",
        "Хорошая идея также добавить отдельный признак `A_missing` и присваивать ему значение `1` всякий раз, когда значение признака `A` пропущено.\n",
        "\n",
        "Более подробно можно почитать [здесь](https://towardsdatascience.com/how-to-handle-missing-data-8646b18db0d4)."
      ]
    },
    {
      "cell_type": "code",
      "metadata": {
        "scrolled": true,
        "id": "yAihYRFNfayR"
      },
      "source": [
        "from sklearn.impute import SimpleImputer\n",
        "\n",
        "imp_mean = SimpleImputer(missing_values=np.nan, strategy='most_frequent', fill_value=None)\n",
        "x = pd.DataFrame(data=imp_mean.fit_transform(x), columns=x.columns)"
      ],
      "execution_count": null,
      "outputs": []
    },
    {
      "cell_type": "code",
      "metadata": {
        "button": false,
        "id": "cnNnV83hgi0w",
        "new_sheet": false,
        "run_control": {
          "read_only": false
        }
      },
      "source": [
        "# Aльтернатива через pandas\n",
        "# Подробнее в описании функции\n",
        "x.fillna(value=0, inplace=True)"
      ],
      "execution_count": null,
      "outputs": []
    },
    {
      "cell_type": "code",
      "metadata": {
        "button": false,
        "colab": {
          "base_uri": "https://localhost:8080/"
        },
        "id": "QQ-m1eN5gi0y",
        "new_sheet": false,
        "run_control": {
          "read_only": false
        },
        "outputId": "40020c7c-8e92-4fdb-d7c8-e533a218fc3d"
      },
      "source": [
        "# Теперь можно проверить снова сколько у нас пропущенных данных\n",
        "# Выведите одно число -- количество пропущенных значений\n",
        "x.isna().sum().sum()"
      ],
      "execution_count": null,
      "outputs": [
        {
          "output_type": "execute_result",
          "data": {
            "text/plain": [
              "0"
            ]
          },
          "metadata": {
            "tags": []
          },
          "execution_count": 15
        }
      ]
    },
    {
      "cell_type": "markdown",
      "metadata": {
        "button": false,
        "id": "xb6EDnHDgi00",
        "new_sheet": false,
        "run_control": {
          "read_only": false
        }
      },
      "source": [
        "---\n",
        "\n",
        "# Категориальные признаки\n",
        "\n",
        "Для примера создадим небольшую табличку"
      ]
    },
    {
      "cell_type": "markdown",
      "metadata": {
        "id": "-RIxqO7AfayS"
      },
      "source": [
        "https://contrib.scikit-learn.org/categorical-encoding/"
      ]
    },
    {
      "cell_type": "code",
      "metadata": {
        "button": false,
        "colab": {
          "base_uri": "https://localhost:8080/",
          "height": 284
        },
        "id": "PONrGAW4gi01",
        "new_sheet": false,
        "run_control": {
          "read_only": false
        },
        "outputId": "4ad4eca3-f217-4c0b-ac74-05aa5e43c084"
      },
      "source": [
        "import pandas as pd\n",
        "\n",
        "# просто табличка для примера\n",
        "def create_data():\n",
        "    return (pd.DataFrame({'city': ['Moscow', 'London', 'London', 'Kiev',\n",
        "                                   'Moscow', 'Moscow', 'Kiev','Moscow'],\n",
        "                          'degree': [1,1,2,2,3,3,1,1],\n",
        "                          'class':['A','B','A','A','B','B','A','A'],\n",
        "                          'income':[10.2, 11.6, 8.8, 9.0, 6.6, 10.0, 9.0, 7.2]}))\n",
        "\n",
        "data = create_data()\n",
        "data"
      ],
      "execution_count": null,
      "outputs": [
        {
          "output_type": "execute_result",
          "data": {
            "text/html": [
              "<div>\n",
              "<style scoped>\n",
              "    .dataframe tbody tr th:only-of-type {\n",
              "        vertical-align: middle;\n",
              "    }\n",
              "\n",
              "    .dataframe tbody tr th {\n",
              "        vertical-align: top;\n",
              "    }\n",
              "\n",
              "    .dataframe thead th {\n",
              "        text-align: right;\n",
              "    }\n",
              "</style>\n",
              "<table border=\"1\" class=\"dataframe\">\n",
              "  <thead>\n",
              "    <tr style=\"text-align: right;\">\n",
              "      <th></th>\n",
              "      <th>city</th>\n",
              "      <th>degree</th>\n",
              "      <th>class</th>\n",
              "      <th>income</th>\n",
              "    </tr>\n",
              "  </thead>\n",
              "  <tbody>\n",
              "    <tr>\n",
              "      <th>0</th>\n",
              "      <td>Moscow</td>\n",
              "      <td>1</td>\n",
              "      <td>A</td>\n",
              "      <td>10.2</td>\n",
              "    </tr>\n",
              "    <tr>\n",
              "      <th>1</th>\n",
              "      <td>London</td>\n",
              "      <td>1</td>\n",
              "      <td>B</td>\n",
              "      <td>11.6</td>\n",
              "    </tr>\n",
              "    <tr>\n",
              "      <th>2</th>\n",
              "      <td>London</td>\n",
              "      <td>2</td>\n",
              "      <td>A</td>\n",
              "      <td>8.8</td>\n",
              "    </tr>\n",
              "    <tr>\n",
              "      <th>3</th>\n",
              "      <td>Kiev</td>\n",
              "      <td>2</td>\n",
              "      <td>A</td>\n",
              "      <td>9.0</td>\n",
              "    </tr>\n",
              "    <tr>\n",
              "      <th>4</th>\n",
              "      <td>Moscow</td>\n",
              "      <td>3</td>\n",
              "      <td>B</td>\n",
              "      <td>6.6</td>\n",
              "    </tr>\n",
              "    <tr>\n",
              "      <th>5</th>\n",
              "      <td>Moscow</td>\n",
              "      <td>3</td>\n",
              "      <td>B</td>\n",
              "      <td>10.0</td>\n",
              "    </tr>\n",
              "    <tr>\n",
              "      <th>6</th>\n",
              "      <td>Kiev</td>\n",
              "      <td>1</td>\n",
              "      <td>A</td>\n",
              "      <td>9.0</td>\n",
              "    </tr>\n",
              "    <tr>\n",
              "      <th>7</th>\n",
              "      <td>Moscow</td>\n",
              "      <td>1</td>\n",
              "      <td>A</td>\n",
              "      <td>7.2</td>\n",
              "    </tr>\n",
              "  </tbody>\n",
              "</table>\n",
              "</div>"
            ],
            "text/plain": [
              "     city  degree class  income\n",
              "0  Moscow       1     A    10.2\n",
              "1  London       1     B    11.6\n",
              "2  London       2     A     8.8\n",
              "3    Kiev       2     A     9.0\n",
              "4  Moscow       3     B     6.6\n",
              "5  Moscow       3     B    10.0\n",
              "6    Kiev       1     A     9.0\n",
              "7  Moscow       1     A     7.2"
            ]
          },
          "metadata": {
            "tags": []
          },
          "execution_count": 16
        }
      ]
    },
    {
      "cell_type": "markdown",
      "metadata": {
        "button": false,
        "id": "9CYhFdwkgi03",
        "new_sheet": false,
        "run_control": {
          "read_only": false
        }
      },
      "source": [
        "###  Как понять, что признак категориальный?\n",
        "\n",
        "Идея - категориальные признаки те, в которых значения - строки или число уникальных значений достаточно мало."
      ]
    },
    {
      "cell_type": "code",
      "metadata": {
        "button": false,
        "id": "w64ne9TDgi04",
        "new_sheet": false,
        "run_control": {
          "read_only": false
        },
        "outputId": "9644b6ce-59cd-493b-cb32-3369acc5ee74"
      },
      "source": [
        "# найти все признаки, в которых первое значение - строка \n",
        "def find_cat(data, num_uniq=4):\n",
        "    for name in data.columns:\n",
        "        s = ''\n",
        "        s += name\n",
        "        if (type(data[name][0]) == str):\n",
        "            s += ' строка,'\n",
        "        if (data[name].nunique()<=num_uniq):\n",
        "            s += ' мало уникальных'\n",
        "        if (s!=name):\n",
        "            print (s)\n",
        "            \n",
        "find_cat(data)"
      ],
      "execution_count": null,
      "outputs": [
        {
          "output_type": "stream",
          "text": [
            "city строка, мало уникальных\n",
            "degree мало уникальных\n",
            "class строка, мало уникальных\n"
          ],
          "name": "stdout"
        }
      ]
    },
    {
      "cell_type": "markdown",
      "metadata": {
        "button": false,
        "id": "pu-bBrHcgi07",
        "new_sheet": false,
        "run_control": {
          "read_only": false
        }
      },
      "source": [
        "### Как подавать категориальные признаки алгоритму?\n",
        "\n",
        "Алгоритмы хотят, чтобы им на вход подавали числа, а не строки. Кроме того, большая часть алгоритмов машинного обучения тем или иным образом использует понятие расстояния между точками. Поэтому приходится подумать как же так представить категориальный признак, чтобы все заработало.\n",
        "\n",
        "Существует как минимум *2 популярных подхода*:\n",
        "\n",
        "1) Самый простой подход **one-hot кодирование**.\n",
        "Выглядит это так\n"
      ]
    },
    {
      "cell_type": "markdown",
      "metadata": {
        "id": "wNPvHNGQfayS"
      },
      "source": [
        "<img src=\"https://miro.medium.com/max/700/1*O_pTwOZZLYZabRjw3Ga21A.png\" width=800px>"
      ]
    },
    {
      "cell_type": "markdown",
      "metadata": {
        "button": false,
        "id": "DTeSXzz7gi07",
        "new_sheet": false,
        "run_control": {
          "read_only": false
        }
      },
      "source": [
        "Этот способ наиболее универсален и применяется по умолчанию. Универсальность здесь означает -- возможность использования такого представления в любом алгоритме машинного обучения.\n",
        "\n",
        "Теперь посмотрите на картинку. Если еще не стало понятно, то вот пояснение.\n",
        "\n",
        "Суть в том, что каждое значение категориального признака порождает свой собственный признак. Далее, кодируем нулями и единицами отсутствие или наличие соответствующего признака.\n"
      ]
    },
    {
      "cell_type": "code",
      "metadata": {
        "button": false,
        "colab": {
          "base_uri": "https://localhost:8080/",
          "height": 284
        },
        "id": "1Pylqnqfgi08",
        "new_sheet": false,
        "run_control": {
          "read_only": false
        },
        "outputId": "c2b248c7-b8b6-42ce-f968-5153a00bb53b"
      },
      "source": [
        "# Очень просто с помощью pandas\n",
        "# Заметим при этом, что `degree` и `income` остались неизменными.\n",
        "pd.get_dummies(data)"
      ],
      "execution_count": null,
      "outputs": [
        {
          "output_type": "execute_result",
          "data": {
            "text/html": [
              "<div>\n",
              "<style scoped>\n",
              "    .dataframe tbody tr th:only-of-type {\n",
              "        vertical-align: middle;\n",
              "    }\n",
              "\n",
              "    .dataframe tbody tr th {\n",
              "        vertical-align: top;\n",
              "    }\n",
              "\n",
              "    .dataframe thead th {\n",
              "        text-align: right;\n",
              "    }\n",
              "</style>\n",
              "<table border=\"1\" class=\"dataframe\">\n",
              "  <thead>\n",
              "    <tr style=\"text-align: right;\">\n",
              "      <th></th>\n",
              "      <th>degree</th>\n",
              "      <th>income</th>\n",
              "      <th>city_Kiev</th>\n",
              "      <th>city_London</th>\n",
              "      <th>city_Moscow</th>\n",
              "      <th>class_A</th>\n",
              "      <th>class_B</th>\n",
              "    </tr>\n",
              "  </thead>\n",
              "  <tbody>\n",
              "    <tr>\n",
              "      <th>0</th>\n",
              "      <td>1</td>\n",
              "      <td>10.2</td>\n",
              "      <td>0</td>\n",
              "      <td>0</td>\n",
              "      <td>1</td>\n",
              "      <td>1</td>\n",
              "      <td>0</td>\n",
              "    </tr>\n",
              "    <tr>\n",
              "      <th>1</th>\n",
              "      <td>1</td>\n",
              "      <td>11.6</td>\n",
              "      <td>0</td>\n",
              "      <td>1</td>\n",
              "      <td>0</td>\n",
              "      <td>0</td>\n",
              "      <td>1</td>\n",
              "    </tr>\n",
              "    <tr>\n",
              "      <th>2</th>\n",
              "      <td>2</td>\n",
              "      <td>8.8</td>\n",
              "      <td>0</td>\n",
              "      <td>1</td>\n",
              "      <td>0</td>\n",
              "      <td>1</td>\n",
              "      <td>0</td>\n",
              "    </tr>\n",
              "    <tr>\n",
              "      <th>3</th>\n",
              "      <td>2</td>\n",
              "      <td>9.0</td>\n",
              "      <td>1</td>\n",
              "      <td>0</td>\n",
              "      <td>0</td>\n",
              "      <td>1</td>\n",
              "      <td>0</td>\n",
              "    </tr>\n",
              "    <tr>\n",
              "      <th>4</th>\n",
              "      <td>3</td>\n",
              "      <td>6.6</td>\n",
              "      <td>0</td>\n",
              "      <td>0</td>\n",
              "      <td>1</td>\n",
              "      <td>0</td>\n",
              "      <td>1</td>\n",
              "    </tr>\n",
              "    <tr>\n",
              "      <th>5</th>\n",
              "      <td>3</td>\n",
              "      <td>10.0</td>\n",
              "      <td>0</td>\n",
              "      <td>0</td>\n",
              "      <td>1</td>\n",
              "      <td>0</td>\n",
              "      <td>1</td>\n",
              "    </tr>\n",
              "    <tr>\n",
              "      <th>6</th>\n",
              "      <td>1</td>\n",
              "      <td>9.0</td>\n",
              "      <td>1</td>\n",
              "      <td>0</td>\n",
              "      <td>0</td>\n",
              "      <td>1</td>\n",
              "      <td>0</td>\n",
              "    </tr>\n",
              "    <tr>\n",
              "      <th>7</th>\n",
              "      <td>1</td>\n",
              "      <td>7.2</td>\n",
              "      <td>0</td>\n",
              "      <td>0</td>\n",
              "      <td>1</td>\n",
              "      <td>1</td>\n",
              "      <td>0</td>\n",
              "    </tr>\n",
              "  </tbody>\n",
              "</table>\n",
              "</div>"
            ],
            "text/plain": [
              "   degree  income  city_Kiev  city_London  city_Moscow  class_A  class_B\n",
              "0       1    10.2          0            0            1        1        0\n",
              "1       1    11.6          0            1            0        0        1\n",
              "2       2     8.8          0            1            0        1        0\n",
              "3       2     9.0          1            0            0        1        0\n",
              "4       3     6.6          0            0            1        0        1\n",
              "5       3    10.0          0            0            1        0        1\n",
              "6       1     9.0          1            0            0        1        0\n",
              "7       1     7.2          0            0            1        1        0"
            ]
          },
          "metadata": {
            "tags": []
          },
          "execution_count": 17
        }
      ]
    },
    {
      "cell_type": "markdown",
      "metadata": {
        "button": false,
        "id": "HyShoidlgi0_",
        "new_sheet": false,
        "run_control": {
          "read_only": false
        }
      },
      "source": [
        "Если хочется больше гибкости, можно попробовать для тех же целей воспользоваться `OneHotEncoder` из `sklearn.preprocessing`"
      ]
    },
    {
      "cell_type": "markdown",
      "metadata": {
        "button": false,
        "id": "dStcJsoRgi1A",
        "new_sheet": false,
        "run_control": {
          "read_only": false
        }
      },
      "source": [
        "2) **Группируем числовые признаки по категориальным**\n",
        "\n",
        "Например, для каждого значения признака `city` из нашей таблички можно посчитать среднее значение `income`."
      ]
    },
    {
      "cell_type": "code",
      "metadata": {
        "button": false,
        "colab": {
          "base_uri": "https://localhost:8080/",
          "height": 225
        },
        "id": "ru8a19wlgi1B",
        "new_sheet": false,
        "run_control": {
          "read_only": false
        },
        "outputId": "653d23c4-aac1-40af-c55a-460dffe739f6"
      },
      "source": [
        "# функция возвращает значения нового признака\n",
        "def code_mean(data, cat_feature, real_feature):\n",
        "    return (data[cat_feature].map(data.groupby(cat_feature)[real_feature].mean()))\n",
        "\n",
        "data = create_data()\n",
        "data['city_mean_income'] = code_mean(data, 'city', 'income')\n",
        "data[:6]"
      ],
      "execution_count": null,
      "outputs": [
        {
          "output_type": "execute_result",
          "data": {
            "text/html": [
              "<div>\n",
              "<style scoped>\n",
              "    .dataframe tbody tr th:only-of-type {\n",
              "        vertical-align: middle;\n",
              "    }\n",
              "\n",
              "    .dataframe tbody tr th {\n",
              "        vertical-align: top;\n",
              "    }\n",
              "\n",
              "    .dataframe thead th {\n",
              "        text-align: right;\n",
              "    }\n",
              "</style>\n",
              "<table border=\"1\" class=\"dataframe\">\n",
              "  <thead>\n",
              "    <tr style=\"text-align: right;\">\n",
              "      <th></th>\n",
              "      <th>city</th>\n",
              "      <th>degree</th>\n",
              "      <th>class</th>\n",
              "      <th>income</th>\n",
              "      <th>city_mean_income</th>\n",
              "    </tr>\n",
              "  </thead>\n",
              "  <tbody>\n",
              "    <tr>\n",
              "      <th>0</th>\n",
              "      <td>Moscow</td>\n",
              "      <td>1</td>\n",
              "      <td>A</td>\n",
              "      <td>10.2</td>\n",
              "      <td>8.5</td>\n",
              "    </tr>\n",
              "    <tr>\n",
              "      <th>1</th>\n",
              "      <td>London</td>\n",
              "      <td>1</td>\n",
              "      <td>B</td>\n",
              "      <td>11.6</td>\n",
              "      <td>10.2</td>\n",
              "    </tr>\n",
              "    <tr>\n",
              "      <th>2</th>\n",
              "      <td>London</td>\n",
              "      <td>2</td>\n",
              "      <td>A</td>\n",
              "      <td>8.8</td>\n",
              "      <td>10.2</td>\n",
              "    </tr>\n",
              "    <tr>\n",
              "      <th>3</th>\n",
              "      <td>Kiev</td>\n",
              "      <td>2</td>\n",
              "      <td>A</td>\n",
              "      <td>9.0</td>\n",
              "      <td>9.0</td>\n",
              "    </tr>\n",
              "    <tr>\n",
              "      <th>4</th>\n",
              "      <td>Moscow</td>\n",
              "      <td>3</td>\n",
              "      <td>B</td>\n",
              "      <td>6.6</td>\n",
              "      <td>8.5</td>\n",
              "    </tr>\n",
              "    <tr>\n",
              "      <th>5</th>\n",
              "      <td>Moscow</td>\n",
              "      <td>3</td>\n",
              "      <td>B</td>\n",
              "      <td>10.0</td>\n",
              "      <td>8.5</td>\n",
              "    </tr>\n",
              "  </tbody>\n",
              "</table>\n",
              "</div>"
            ],
            "text/plain": [
              "     city  degree class  income  city_mean_income\n",
              "0  Moscow       1     A    10.2               8.5\n",
              "1  London       1     B    11.6              10.2\n",
              "2  London       2     A     8.8              10.2\n",
              "3    Kiev       2     A     9.0               9.0\n",
              "4  Moscow       3     B     6.6               8.5\n",
              "5  Moscow       3     B    10.0               8.5"
            ]
          },
          "metadata": {
            "tags": []
          },
          "execution_count": 18
        }
      ]
    },
    {
      "cell_type": "code",
      "metadata": {
        "button": false,
        "colab": {
          "base_uri": "https://localhost:8080/"
        },
        "id": "2AM2FRpjgi1F",
        "new_sheet": false,
        "run_control": {
          "read_only": false
        },
        "outputId": "b7cadfcb-73c0-445d-dedc-7ee80d1e144c"
      },
      "source": [
        "code_mean(data, 'city', 'income')"
      ],
      "execution_count": null,
      "outputs": [
        {
          "output_type": "execute_result",
          "data": {
            "text/plain": [
              "0     8.5\n",
              "1    10.2\n",
              "2    10.2\n",
              "3     9.0\n",
              "4     8.5\n",
              "5     8.5\n",
              "6     9.0\n",
              "7     8.5\n",
              "Name: city, dtype: float64"
            ]
          },
          "metadata": {
            "tags": []
          },
          "execution_count": 19
        }
      ]
    },
    {
      "cell_type": "markdown",
      "metadata": {
        "button": false,
        "id": "LIY3peBogi1I",
        "new_sheet": false,
        "run_control": {
          "read_only": false
        }
      },
      "source": [
        "### Дата и время\n",
        "\n",
        "Для примера рассмотрим датасет UFO (оригинальная полная версия датасета находится [здесь](https://www.kaggle.com/NUFORC/ufo-sightings)) в котором для каждого события известна дата и конкретное время"
      ]
    },
    {
      "cell_type": "code",
      "metadata": {
        "button": false,
        "colab": {
          "base_uri": "https://localhost:8080/",
          "height": 568
        },
        "id": "tjSiENXXgi1J",
        "new_sheet": false,
        "run_control": {
          "read_only": false
        },
        "outputId": "01b25a83-88d6-485d-da96-ccd82165a652"
      },
      "source": [
        "df = pd.read_csv(\"/content/drive/MyDrive/Lesson 5_2/ufo.csv\")\n",
        "df.head()"
      ],
      "execution_count": null,
      "outputs": [
        {
          "output_type": "stream",
          "text": [
            "/usr/local/lib/python3.6/dist-packages/IPython/core/interactiveshell.py:2718: DtypeWarning: Columns (5,9) have mixed types.Specify dtype option on import or set low_memory=False.\n",
            "  interactivity=interactivity, compiler=compiler, result=result)\n"
          ],
          "name": "stderr"
        },
        {
          "output_type": "execute_result",
          "data": {
            "text/html": [
              "<div>\n",
              "<style scoped>\n",
              "    .dataframe tbody tr th:only-of-type {\n",
              "        vertical-align: middle;\n",
              "    }\n",
              "\n",
              "    .dataframe tbody tr th {\n",
              "        vertical-align: top;\n",
              "    }\n",
              "\n",
              "    .dataframe thead th {\n",
              "        text-align: right;\n",
              "    }\n",
              "</style>\n",
              "<table border=\"1\" class=\"dataframe\">\n",
              "  <thead>\n",
              "    <tr style=\"text-align: right;\">\n",
              "      <th></th>\n",
              "      <th>datetime</th>\n",
              "      <th>city</th>\n",
              "      <th>state</th>\n",
              "      <th>country</th>\n",
              "      <th>shape</th>\n",
              "      <th>duration (seconds)</th>\n",
              "      <th>duration (hours/min)</th>\n",
              "      <th>comments</th>\n",
              "      <th>date posted</th>\n",
              "      <th>latitude</th>\n",
              "      <th>longitude</th>\n",
              "    </tr>\n",
              "  </thead>\n",
              "  <tbody>\n",
              "    <tr>\n",
              "      <th>0</th>\n",
              "      <td>10/10/1949 20:30</td>\n",
              "      <td>san marcos</td>\n",
              "      <td>tx</td>\n",
              "      <td>us</td>\n",
              "      <td>cylinder</td>\n",
              "      <td>2700</td>\n",
              "      <td>45 minutes</td>\n",
              "      <td>This event took place in early fall around 194...</td>\n",
              "      <td>4/27/2004</td>\n",
              "      <td>29.8830556</td>\n",
              "      <td>-97.941111</td>\n",
              "    </tr>\n",
              "    <tr>\n",
              "      <th>1</th>\n",
              "      <td>10/10/1949 21:00</td>\n",
              "      <td>lackland afb</td>\n",
              "      <td>tx</td>\n",
              "      <td>NaN</td>\n",
              "      <td>light</td>\n",
              "      <td>7200</td>\n",
              "      <td>1-2 hrs</td>\n",
              "      <td>1949 Lackland AFB&amp;#44 TX.  Lights racing acros...</td>\n",
              "      <td>12/16/2005</td>\n",
              "      <td>29.38421</td>\n",
              "      <td>-98.581082</td>\n",
              "    </tr>\n",
              "    <tr>\n",
              "      <th>2</th>\n",
              "      <td>10/10/1955 17:00</td>\n",
              "      <td>chester (uk/england)</td>\n",
              "      <td>NaN</td>\n",
              "      <td>gb</td>\n",
              "      <td>circle</td>\n",
              "      <td>20</td>\n",
              "      <td>20 seconds</td>\n",
              "      <td>Green/Orange circular disc over Chester&amp;#44 En...</td>\n",
              "      <td>1/21/2008</td>\n",
              "      <td>53.2</td>\n",
              "      <td>-2.916667</td>\n",
              "    </tr>\n",
              "    <tr>\n",
              "      <th>3</th>\n",
              "      <td>10/10/1956 21:00</td>\n",
              "      <td>edna</td>\n",
              "      <td>tx</td>\n",
              "      <td>us</td>\n",
              "      <td>circle</td>\n",
              "      <td>20</td>\n",
              "      <td>1/2 hour</td>\n",
              "      <td>My older brother and twin sister were leaving ...</td>\n",
              "      <td>1/17/2004</td>\n",
              "      <td>28.9783333</td>\n",
              "      <td>-96.645833</td>\n",
              "    </tr>\n",
              "    <tr>\n",
              "      <th>4</th>\n",
              "      <td>10/10/1960 20:00</td>\n",
              "      <td>kaneohe</td>\n",
              "      <td>hi</td>\n",
              "      <td>us</td>\n",
              "      <td>light</td>\n",
              "      <td>900</td>\n",
              "      <td>15 minutes</td>\n",
              "      <td>AS a Marine 1st Lt. flying an FJ4B fighter/att...</td>\n",
              "      <td>1/22/2004</td>\n",
              "      <td>21.4180556</td>\n",
              "      <td>-157.803611</td>\n",
              "    </tr>\n",
              "  </tbody>\n",
              "</table>\n",
              "</div>"
            ],
            "text/plain": [
              "           datetime                  city  ...    latitude  longitude \n",
              "0  10/10/1949 20:30            san marcos  ...  29.8830556  -97.941111\n",
              "1  10/10/1949 21:00          lackland afb  ...    29.38421  -98.581082\n",
              "2  10/10/1955 17:00  chester (uk/england)  ...        53.2   -2.916667\n",
              "3  10/10/1956 21:00                  edna  ...  28.9783333  -96.645833\n",
              "4  10/10/1960 20:00               kaneohe  ...  21.4180556 -157.803611\n",
              "\n",
              "[5 rows x 11 columns]"
            ]
          },
          "metadata": {
            "tags": []
          },
          "execution_count": 20
        }
      ]
    },
    {
      "cell_type": "code",
      "metadata": {
        "button": false,
        "colab": {
          "base_uri": "https://localhost:8080/"
        },
        "id": "vHUBuwmLgi1M",
        "new_sheet": false,
        "run_control": {
          "read_only": false
        },
        "outputId": "b0630740-1041-4b8f-9856-80e4fbd341cd"
      },
      "source": [
        "# посмотрим типы столбцов в таблице\n",
        "df.dtypes "
      ],
      "execution_count": null,
      "outputs": [
        {
          "output_type": "execute_result",
          "data": {
            "text/plain": [
              "datetime                 object\n",
              "city                     object\n",
              "state                    object\n",
              "country                  object\n",
              "shape                    object\n",
              "duration (seconds)       object\n",
              "duration (hours/min)     object\n",
              "comments                 object\n",
              "date posted              object\n",
              "latitude                 object\n",
              "longitude               float64\n",
              "dtype: object"
            ]
          },
          "metadata": {
            "tags": []
          },
          "execution_count": 21
        }
      ]
    },
    {
      "cell_type": "code",
      "metadata": {
        "id": "ALU2tAH3fayT"
      },
      "source": [
        "def date_parser(datestr):\n",
        "    return pd.datetime.strptime(datestr, '%m/%d/%Y %H:%M')"
      ],
      "execution_count": null,
      "outputs": []
    },
    {
      "cell_type": "code",
      "metadata": {
        "scrolled": true,
        "colab": {
          "base_uri": "https://localhost:8080/"
        },
        "id": "kXXWgOtTfayT",
        "outputId": "700566a8-329f-46f8-9313-7ab7c5244b55"
      },
      "source": [
        "df['datetime'].apply(date_parser)"
      ],
      "execution_count": null,
      "outputs": [
        {
          "output_type": "stream",
          "text": [
            "/usr/local/lib/python3.6/dist-packages/ipykernel_launcher.py:2: FutureWarning: The pandas.datetime class is deprecated and will be removed from pandas in a future version. Import from datetime instead.\n",
            "  \n"
          ],
          "name": "stderr"
        },
        {
          "output_type": "execute_result",
          "data": {
            "text/plain": [
              "0       1949-10-10 20:30:00\n",
              "1       1949-10-10 21:00:00\n",
              "2       1955-10-10 17:00:00\n",
              "3       1956-10-10 21:00:00\n",
              "4       1960-10-10 20:00:00\n",
              "                ...        \n",
              "80327   2013-09-09 21:15:00\n",
              "80328   2013-09-09 22:00:00\n",
              "80329   2013-09-09 22:00:00\n",
              "80330   2013-09-09 22:20:00\n",
              "80331   2013-09-09 23:00:00\n",
              "Name: datetime, Length: 80332, dtype: datetime64[ns]"
            ]
          },
          "metadata": {
            "tags": []
          },
          "execution_count": 23
        }
      ]
    },
    {
      "cell_type": "code",
      "metadata": {
        "id": "RfNG912xfayT"
      },
      "source": [
        "# Переводим Time в формат времени\n",
        "# Теперь для столбца \"Time\" тип изменился\n",
        "df['datetime'] = pd.to_datetime(df['datetime'], infer_datetime_format=True)"
      ],
      "execution_count": null,
      "outputs": []
    },
    {
      "cell_type": "code",
      "metadata": {
        "button": false,
        "colab": {
          "base_uri": "https://localhost:8080/"
        },
        "id": "3NcP-ZKTgi1Q",
        "new_sheet": false,
        "run_control": {
          "read_only": false
        },
        "outputId": "020dc406-bb7e-4dc7-c7fb-d93f9f82a4e7"
      },
      "source": [
        "df.dtypes"
      ],
      "execution_count": null,
      "outputs": [
        {
          "output_type": "execute_result",
          "data": {
            "text/plain": [
              "datetime                datetime64[ns]\n",
              "city                            object\n",
              "state                           object\n",
              "country                         object\n",
              "shape                           object\n",
              "duration (seconds)              object\n",
              "duration (hours/min)            object\n",
              "comments                        object\n",
              "date posted                     object\n",
              "latitude                        object\n",
              "longitude                      float64\n",
              "dtype: object"
            ]
          },
          "metadata": {
            "tags": []
          },
          "execution_count": 25
        }
      ]
    },
    {
      "cell_type": "markdown",
      "metadata": {
        "button": false,
        "id": "3jJV8icTgi1V",
        "new_sheet": false,
        "run_control": {
          "read_only": false
        }
      },
      "source": [
        "Правильный формат данных для хранения даты времени позволяет сразу получать категориальные признаки"
      ]
    },
    {
      "cell_type": "code",
      "metadata": {
        "colab": {
          "base_uri": "https://localhost:8080/"
        },
        "id": "olAsYTULfayU",
        "outputId": "003f12a4-fee9-4bc2-9948-69ff770278a3"
      },
      "source": [
        "df['datetime'].dt.year"
      ],
      "execution_count": null,
      "outputs": [
        {
          "output_type": "execute_result",
          "data": {
            "text/plain": [
              "0        1949\n",
              "1        1949\n",
              "2        1955\n",
              "3        1956\n",
              "4        1960\n",
              "         ... \n",
              "80327    2013\n",
              "80328    2013\n",
              "80329    2013\n",
              "80330    2013\n",
              "80331    2013\n",
              "Name: datetime, Length: 80332, dtype: int64"
            ]
          },
          "metadata": {
            "tags": []
          },
          "execution_count": 26
        }
      ]
    },
    {
      "cell_type": "code",
      "metadata": {
        "button": false,
        "colab": {
          "base_uri": "https://localhost:8080/"
        },
        "id": "y3C5oAzBgi1W",
        "new_sheet": false,
        "run_control": {
          "read_only": false
        },
        "outputId": "68a1c815-c543-4809-e0d6-b0bf4df75182"
      },
      "source": [
        "# Какой час\n",
        "df['datetime'].dt.hour.head()"
      ],
      "execution_count": null,
      "outputs": [
        {
          "output_type": "execute_result",
          "data": {
            "text/plain": [
              "0    20\n",
              "1    21\n",
              "2    17\n",
              "3    21\n",
              "4    20\n",
              "Name: datetime, dtype: int64"
            ]
          },
          "metadata": {
            "tags": []
          },
          "execution_count": 27
        }
      ]
    },
    {
      "cell_type": "code",
      "metadata": {
        "button": false,
        "id": "R65c69Sxgi1b",
        "new_sheet": false,
        "run_control": {
          "read_only": false
        }
      },
      "source": [
        "# Является ли этот день выходным\n",
        "df['is_weekend'] = df['datetime'].apply(lambda x: 1 if x.date().weekday() in (5, 6) else 0)"
      ],
      "execution_count": null,
      "outputs": []
    },
    {
      "cell_type": "code",
      "metadata": {
        "button": false,
        "colab": {
          "base_uri": "https://localhost:8080/",
          "height": 534
        },
        "id": "Rh672-d5gi1l",
        "new_sheet": false,
        "run_control": {
          "read_only": false
        },
        "outputId": "e9ff9470-a63b-4891-d4aa-59e9b0f02a94"
      },
      "source": [
        "df.head()"
      ],
      "execution_count": null,
      "outputs": [
        {
          "output_type": "execute_result",
          "data": {
            "text/html": [
              "<div>\n",
              "<style scoped>\n",
              "    .dataframe tbody tr th:only-of-type {\n",
              "        vertical-align: middle;\n",
              "    }\n",
              "\n",
              "    .dataframe tbody tr th {\n",
              "        vertical-align: top;\n",
              "    }\n",
              "\n",
              "    .dataframe thead th {\n",
              "        text-align: right;\n",
              "    }\n",
              "</style>\n",
              "<table border=\"1\" class=\"dataframe\">\n",
              "  <thead>\n",
              "    <tr style=\"text-align: right;\">\n",
              "      <th></th>\n",
              "      <th>datetime</th>\n",
              "      <th>city</th>\n",
              "      <th>state</th>\n",
              "      <th>country</th>\n",
              "      <th>shape</th>\n",
              "      <th>duration (seconds)</th>\n",
              "      <th>duration (hours/min)</th>\n",
              "      <th>comments</th>\n",
              "      <th>date posted</th>\n",
              "      <th>latitude</th>\n",
              "      <th>longitude</th>\n",
              "      <th>is_weekend</th>\n",
              "    </tr>\n",
              "  </thead>\n",
              "  <tbody>\n",
              "    <tr>\n",
              "      <th>0</th>\n",
              "      <td>1949-10-10 20:30:00</td>\n",
              "      <td>san marcos</td>\n",
              "      <td>tx</td>\n",
              "      <td>us</td>\n",
              "      <td>cylinder</td>\n",
              "      <td>2700</td>\n",
              "      <td>45 minutes</td>\n",
              "      <td>This event took place in early fall around 194...</td>\n",
              "      <td>4/27/2004</td>\n",
              "      <td>29.8830556</td>\n",
              "      <td>-97.941111</td>\n",
              "      <td>0</td>\n",
              "    </tr>\n",
              "    <tr>\n",
              "      <th>1</th>\n",
              "      <td>1949-10-10 21:00:00</td>\n",
              "      <td>lackland afb</td>\n",
              "      <td>tx</td>\n",
              "      <td>NaN</td>\n",
              "      <td>light</td>\n",
              "      <td>7200</td>\n",
              "      <td>1-2 hrs</td>\n",
              "      <td>1949 Lackland AFB&amp;#44 TX.  Lights racing acros...</td>\n",
              "      <td>12/16/2005</td>\n",
              "      <td>29.38421</td>\n",
              "      <td>-98.581082</td>\n",
              "      <td>0</td>\n",
              "    </tr>\n",
              "    <tr>\n",
              "      <th>2</th>\n",
              "      <td>1955-10-10 17:00:00</td>\n",
              "      <td>chester (uk/england)</td>\n",
              "      <td>NaN</td>\n",
              "      <td>gb</td>\n",
              "      <td>circle</td>\n",
              "      <td>20</td>\n",
              "      <td>20 seconds</td>\n",
              "      <td>Green/Orange circular disc over Chester&amp;#44 En...</td>\n",
              "      <td>1/21/2008</td>\n",
              "      <td>53.2</td>\n",
              "      <td>-2.916667</td>\n",
              "      <td>0</td>\n",
              "    </tr>\n",
              "    <tr>\n",
              "      <th>3</th>\n",
              "      <td>1956-10-10 21:00:00</td>\n",
              "      <td>edna</td>\n",
              "      <td>tx</td>\n",
              "      <td>us</td>\n",
              "      <td>circle</td>\n",
              "      <td>20</td>\n",
              "      <td>1/2 hour</td>\n",
              "      <td>My older brother and twin sister were leaving ...</td>\n",
              "      <td>1/17/2004</td>\n",
              "      <td>28.9783333</td>\n",
              "      <td>-96.645833</td>\n",
              "      <td>0</td>\n",
              "    </tr>\n",
              "    <tr>\n",
              "      <th>4</th>\n",
              "      <td>1960-10-10 20:00:00</td>\n",
              "      <td>kaneohe</td>\n",
              "      <td>hi</td>\n",
              "      <td>us</td>\n",
              "      <td>light</td>\n",
              "      <td>900</td>\n",
              "      <td>15 minutes</td>\n",
              "      <td>AS a Marine 1st Lt. flying an FJ4B fighter/att...</td>\n",
              "      <td>1/22/2004</td>\n",
              "      <td>21.4180556</td>\n",
              "      <td>-157.803611</td>\n",
              "      <td>0</td>\n",
              "    </tr>\n",
              "  </tbody>\n",
              "</table>\n",
              "</div>"
            ],
            "text/plain": [
              "             datetime                  city  ...  longitude  is_weekend\n",
              "0 1949-10-10 20:30:00            san marcos  ...  -97.941111          0\n",
              "1 1949-10-10 21:00:00          lackland afb  ...  -98.581082          0\n",
              "2 1955-10-10 17:00:00  chester (uk/england)  ...   -2.916667          0\n",
              "3 1956-10-10 21:00:00                  edna  ...  -96.645833          0\n",
              "4 1960-10-10 20:00:00               kaneohe  ... -157.803611          0\n",
              "\n",
              "[5 rows x 12 columns]"
            ]
          },
          "metadata": {
            "tags": []
          },
          "execution_count": 29
        }
      ]
    },
    {
      "cell_type": "markdown",
      "metadata": {
        "button": false,
        "id": "sxSQX7qPgi1q",
        "new_sheet": false,
        "run_control": {
          "read_only": false
        }
      },
      "source": [
        "* **Проекция на окружность и использованием 2х координат**\n",
        "\n",
        "Использование более эзотерических подходов для нормализации значения времени.\n",
        "\n",
        "---\n",
        "**Идея взята из курса [ml course open](https://medium.com/open-machine-learning-course/open-machine-learning-course-topic-6-feature-engineering-and-feature-selection-8b94f870706a)"
      ]
    },
    {
      "cell_type": "code",
      "metadata": {
        "button": false,
        "id": "xzhlPSOzgi1r",
        "new_sheet": false,
        "run_control": {
          "read_only": false
        },
        "outputId": "e13642bd-8efc-428f-b48b-8873c5eb182f"
      },
      "source": [
        "def make_harmonic_features(value, period=24):\n",
        "    value *= 2 * np.pi / period\n",
        "    return np.cos(value), np.sin(value)\n",
        "\n",
        "make_harmonic_features(12)"
      ],
      "execution_count": null,
      "outputs": [
        {
          "output_type": "execute_result",
          "data": {
            "text/plain": [
              "(-1.0, 1.2246467991473532e-16)"
            ]
          },
          "metadata": {
            "tags": []
          },
          "execution_count": 29
        }
      ]
    },
    {
      "cell_type": "markdown",
      "metadata": {
        "button": false,
        "id": "Hd7EmcCNgi1t",
        "new_sheet": false,
        "run_control": {
          "read_only": false
        }
      },
      "source": [
        "### Геоданные\n",
        "\n",
        "Возможно находить строковый адрес по данным координатам локации, однако это требует большой аккуратности в интерпретации и чистке полученных значений.\n",
        "\n",
        "\n",
        "---\n",
        "**Идея взята из курса [ml course open](https://medium.com/open-machine-learning-course/open-machine-learning-course-topic-6-feature-engineering-and-feature-selection-8b94f870706a)"
      ]
    },
    {
      "cell_type": "code",
      "metadata": {
        "button": false,
        "id": "Pf5fwkVqgi1t",
        "new_sheet": false,
        "run_control": {
          "read_only": false
        }
      },
      "source": [
        "#!pip install reverse_geocoder"
      ],
      "execution_count": null,
      "outputs": []
    },
    {
      "cell_type": "code",
      "metadata": {
        "button": false,
        "id": "B3B9jNsFgi1w",
        "new_sheet": false,
        "run_control": {
          "read_only": false
        }
      },
      "source": [
        "import reverse_geocoder as revgc\n",
        "revgc.search((40.74482, -73.94875))"
      ],
      "execution_count": null,
      "outputs": []
    },
    {
      "cell_type": "markdown",
      "metadata": {
        "button": false,
        "id": "FMpsYH7Mgi1z",
        "new_sheet": false,
        "run_control": {
          "read_only": false
        }
      },
      "source": [
        "---\n",
        "\n",
        "# Полезные преобразования данных\n",
        "\n",
        "Иногда числовые значения признаков хорошо бы привести к другим значениям с помощью преобразований. Очень часто это может улучшить результаты некоторых алгоритмов. Такие алгоритмы, как правило, делают некоторые предположения о характере данных или же опираются на расстояния между элементами выборки.\n",
        "\n",
        "\n",
        "**Популярные преобразования**\n",
        "\n",
        "(1) **Z-score**\n",
        "$$\\large z(x) = \\frac{x - \\mu}{\\sigma}$$\n",
        "\n",
        "* Полезно, если существенно расстояние между точками (например в knn)\n",
        "* Это преобразование линейное, оно не меняет распределение данных"
      ]
    },
    {
      "cell_type": "code",
      "metadata": {
        "button": false,
        "id": "17ljUSo6gi1z",
        "new_sheet": false,
        "run_control": {
          "read_only": false
        }
      },
      "source": [
        "# Есть в sklearn\n",
        "from sklearn.preprocessing import StandardScaler"
      ],
      "execution_count": null,
      "outputs": []
    },
    {
      "cell_type": "code",
      "metadata": {
        "button": false,
        "colab": {
          "base_uri": "https://localhost:8080/"
        },
        "id": "aFiVJOBUgi12",
        "new_sheet": false,
        "run_control": {
          "read_only": false
        },
        "outputId": "c355c938-8b67-481f-e7bf-025b6024845c"
      },
      "source": [
        "# Обратим внимание на значение 100\n",
        "data = np.array([1, 1, 0, -1, 2, 3, -2, 4, 100], dtype=np.float32).reshape(-1,1)\n",
        "StandardScaler().fit_transform(data)"
      ],
      "execution_count": null,
      "outputs": [
        {
          "output_type": "execute_result",
          "data": {
            "text/plain": [
              "array([[-0.3529866 ],\n",
              "       [-0.3529866 ],\n",
              "       [-0.38507628],\n",
              "       [-0.417166  ],\n",
              "       [-0.32089692],\n",
              "       [-0.2888072 ],\n",
              "       [-0.44925568],\n",
              "       [-0.25671753],\n",
              "       [ 2.8238928 ]], dtype=float32)"
            ]
          },
          "metadata": {
            "tags": []
          },
          "execution_count": 31
        }
      ]
    },
    {
      "cell_type": "code",
      "metadata": {
        "button": false,
        "colab": {
          "base_uri": "https://localhost:8080/"
        },
        "id": "06gwWUvqgi14",
        "new_sheet": false,
        "run_control": {
          "read_only": false
        },
        "outputId": "8eb654f2-098a-4202-fee4-ff5ce668cb57"
      },
      "source": [
        "# Это то же самое, что сделать это руками:\n",
        "(data - data.mean()) / data.std()"
      ],
      "execution_count": null,
      "outputs": [
        {
          "output_type": "execute_result",
          "data": {
            "text/plain": [
              "array([[-0.3529866 ],\n",
              "       [-0.3529866 ],\n",
              "       [-0.3850763 ],\n",
              "       [-0.417166  ],\n",
              "       [-0.32089692],\n",
              "       [-0.28880724],\n",
              "       [-0.44925568],\n",
              "       [-0.25671753],\n",
              "       [ 2.8238928 ]], dtype=float32)"
            ]
          },
          "metadata": {
            "tags": []
          },
          "execution_count": 32
        }
      ]
    },
    {
      "cell_type": "markdown",
      "metadata": {
        "button": false,
        "id": "lM-40oAngi16",
        "new_sheet": false,
        "run_control": {
          "read_only": false
        }
      },
      "source": [
        "   ---\n",
        "   (2) **MinMax Scaling**\n",
        "    \n",
        "Другой достаточно популярный вариант – MinMax Scaling, который переносит все точки на заданный отрезок (обычно (0, 1))\n",
        "$$ \\large X_{norm}=\\frac{X-X_{min}}{X_{max}-X_{min}} $$\n",
        "\n",
        "* Полезно, если хочется оценить влияние признака по весам в линейной регрессии\n",
        "* Можно перенести значение признака в интервал (0, 255) для визуализации\n",
        "\n",
        "В целом, оба варианта часто взаимозаменяемы."
      ]
    },
    {
      "cell_type": "code",
      "metadata": {
        "button": false,
        "colab": {
          "base_uri": "https://localhost:8080/"
        },
        "id": "aaEs2ZjPgi17",
        "new_sheet": false,
        "run_control": {
          "read_only": false
        },
        "outputId": "37d487a2-1a1c-4d3c-fa6c-59c40c7d83fe"
      },
      "source": [
        "# Демонстрация\n",
        "from sklearn.preprocessing import MinMaxScaler\n",
        "MinMaxScaler().fit_transform(data)"
      ],
      "execution_count": null,
      "outputs": [
        {
          "output_type": "execute_result",
          "data": {
            "text/plain": [
              "array([[0.02941177],\n",
              "       [0.02941177],\n",
              "       [0.01960784],\n",
              "       [0.00980392],\n",
              "       [0.03921569],\n",
              "       [0.04901961],\n",
              "       [0.        ],\n",
              "       [0.05882353],\n",
              "       [1.0000001 ]], dtype=float32)"
            ]
          },
          "metadata": {
            "tags": []
          },
          "execution_count": 33
        }
      ]
    },
    {
      "cell_type": "code",
      "metadata": {
        "button": false,
        "colab": {
          "base_uri": "https://localhost:8080/"
        },
        "id": "cFwRs85Bgi1-",
        "new_sheet": false,
        "run_control": {
          "read_only": false
        },
        "outputId": "48ab076f-3675-429f-9688-5d0c26012b89"
      },
      "source": [
        "(data - data.min()) / (data.max() - data.min())"
      ],
      "execution_count": null,
      "outputs": [
        {
          "output_type": "execute_result",
          "data": {
            "text/plain": [
              "array([[0.02941176],\n",
              "       [0.02941176],\n",
              "       [0.01960784],\n",
              "       [0.00980392],\n",
              "       [0.03921569],\n",
              "       [0.04901961],\n",
              "       [0.        ],\n",
              "       [0.05882353],\n",
              "       [1.        ]], dtype=float32)"
            ]
          },
          "metadata": {
            "tags": []
          },
          "execution_count": 34
        }
      ]
    },
    {
      "cell_type": "markdown",
      "metadata": {
        "button": false,
        "id": "4IFlvGJ_gi1_",
        "new_sheet": false,
        "run_control": {
          "read_only": false
        }
      },
      "source": [
        "(3) **Логарифмирование**\n",
        "\n",
        "~~(как способ бороться с тяжелыми хвостами)~~\n",
        "\n",
        "\n",
        "* Существует ряд преобразований, которые позволяют из распределения с \"тяжелым хвостом\" (в английском варианте long tail) сделать распределение похожее на нормальное. \n",
        "\n",
        "* Нормальное распределение нравится многим алгоритмам машинного обучения и такое преобразование иногда может улучшить ситуацию.\n"
      ]
    },
    {
      "cell_type": "code",
      "metadata": {
        "button": false,
        "colab": {
          "base_uri": "https://localhost:8080/"
        },
        "id": "S6y9vl41gi2A",
        "new_sheet": false,
        "run_control": {
          "read_only": false
        },
        "outputId": "ceae4fc1-b064-47e6-da01-3732993ad924"
      },
      "source": [
        "# Настраиваем параметры отрисовки графиков\n",
        "%pylab inline\n",
        "plt.style.use('ggplot')\n",
        "plt.rcParams['figure.figsize'] = (10,4)\n",
        "plt.rcParams['font.family'] = 'serif'\n",
        "plt.rcParams['font.serif'] = 'Ubuntu'\n",
        "plt.rcParams['font.monospace'] = 'Ubuntu Mono'\n",
        "plt.rcParams['font.size'] = 10\n",
        "plt.rcParams['axes.labelsize'] = 10\n",
        "plt.rcParams['axes.labelweight'] = 'bold'\n",
        "plt.rcParams['xtick.labelsize'] = 15\n",
        "plt.rcParams['ytick.labelsize'] = 15\n",
        "plt.rcParams['legend.fontsize'] = 10\n",
        "plt.rcParams['figure.titlesize'] = 12"
      ],
      "execution_count": null,
      "outputs": [
        {
          "output_type": "stream",
          "text": [
            "Populating the interactive namespace from numpy and matplotlib\n"
          ],
          "name": "stdout"
        }
      ]
    },
    {
      "cell_type": "code",
      "metadata": {
        "button": false,
        "colab": {
          "base_uri": "https://localhost:8080/",
          "height": 322
        },
        "id": "D3v5iEi6gi2B",
        "new_sheet": false,
        "run_control": {
          "read_only": false
        },
        "outputId": "e4fa1158-b491-487c-c1dc-2371401e29be"
      },
      "source": [
        "from scipy.stats import lognorm\n",
        "\n",
        "# сгенерируем себе выборку\n",
        "\n",
        "data = lognorm(s=1).rvs(1000)\n",
        "plt.hist(data, bins=100)\n",
        "plt.title(\"Классический пример `long tail`\")\n",
        "plt.show()"
      ],
      "execution_count": null,
      "outputs": [
        {
          "output_type": "stream",
          "text": [
            "findfont: Font family ['serif'] not found. Falling back to DejaVu Sans.\n",
            "findfont: Font family ['serif'] not found. Falling back to DejaVu Sans.\n"
          ],
          "name": "stderr"
        },
        {
          "output_type": "display_data",
          "data": {
            "image/png": "[encoded data removed]",
            "text/plain": [
              "<Figure size 720x288 with 1 Axes>"
            ]
          },
          "metadata": {
            "tags": []
          }
        }
      ]
    },
    {
      "cell_type": "code",
      "metadata": {
        "id": "oe2tHShOfayU"
      },
      "source": [
        "log_data = np.log(data)"
      ],
      "execution_count": null,
      "outputs": []
    },
    {
      "cell_type": "code",
      "metadata": {
        "id": "OPvDKbtjmI7j"
      },
      "source": [
        ""
      ],
      "execution_count": null,
      "outputs": []
    },
    {
      "cell_type": "code",
      "metadata": {
        "button": false,
        "colab": {
          "base_uri": "https://localhost:8080/",
          "height": 287
        },
        "id": "7gG3rCiogi2F",
        "new_sheet": false,
        "run_control": {
          "read_only": false
        },
        "scrolled": true,
        "outputId": "9b7f0e77-5b86-4512-8ca6-97c0feac22a3"
      },
      "source": [
        "# А вот так выглядят данные после логарифмирования\n",
        "\n",
        "plt.hist(log_data)\n",
        "plt.title(\"Log(data)\")\n",
        "plt.show()"
      ],
      "execution_count": null,
      "outputs": [
        {
          "output_type": "display_data",
          "data": {
            "image/png": "[encoded data removed]",
            "text/plain": [
              "<Figure size 720x288 with 1 Axes>"
            ]
          },
          "metadata": {
            "tags": []
          }
        }
      ]
    },
    {
      "cell_type": "markdown",
      "metadata": {
        "button": false,
        "id": "K2TwATTCgi2H",
        "new_sheet": false,
        "run_control": {
          "read_only": false
        }
      },
      "source": [
        "---\n",
        "\n",
        "# Инжинирим признаки\n",
        "\n",
        "\n",
        "Как помочь нашей модели найти полезные зависимости в данных?\n",
        "\n",
        "Можно условно поделить генерацию признаков на **две части**:\n",
        " 1. Создание признаков **на основе знаний** и житейского опыта\n",
        " 2. Создание различных **взаимодействий** признаков\n",
        " "
      ]
    },
    {
      "cell_type": "markdown",
      "metadata": {
        "button": false,
        "id": "mC-F-LOSgi2I",
        "new_sheet": false,
        "run_control": {
          "read_only": false
        }
      },
      "source": [
        "### Полиномиальные признаки"
      ]
    },
    {
      "cell_type": "markdown",
      "metadata": {
        "button": false,
        "id": "OiiwO8eXgi2I",
        "new_sheet": false,
        "run_control": {
          "read_only": false
        }
      },
      "source": [
        "Почему готовить новые признаки это хорошо?\n",
        "\n",
        "**XOR проблема**\n",
        "\n",
        "XOR – это \"исключающее ИЛИ\", булева функция со следующей таблицей истинности:\n",
        "\n"
      ]
    },
    {
      "cell_type": "markdown",
      "metadata": {
        "id": "osKW79yxfayV"
      },
      "source": [
        "<img src=\"https://present5.com/presentation/248311883_358936180/image-23.jpg\" width=400px>"
      ]
    },
    {
      "cell_type": "code",
      "metadata": {
        "button": false,
        "colab": {
          "base_uri": "https://localhost:8080/",
          "height": 270
        },
        "id": "MGEjykIQgi2J",
        "new_sheet": false,
        "run_control": {
          "read_only": false
        },
        "outputId": "ca76df6d-0b3e-423a-afb9-1dc22d193646"
      },
      "source": [
        "# порождаем данные\n",
        "rng = np.random.RandomState(0)\n",
        "X = rng.randn(200, 2)\n",
        "y = np.logical_xor(X[:, 0] > 0, X[:, 1] > 0)\n",
        "plt.scatter(X[:, 0], X[:, 1], s=30, c=y, cmap=plt.cm.Paired)\n",
        "plt.show()"
      ],
      "execution_count": null,
      "outputs": [
        {
          "output_type": "display_data",
          "data": {
            "image/png": "[encoded data removed]",
            "text/plain": [
              "<Figure size 720x288 with 1 Axes>"
            ]
          },
          "metadata": {
            "tags": []
          }
        }
      ]
    },
    {
      "cell_type": "code",
      "metadata": {
        "button": false,
        "id": "SalrmG9bgi2L",
        "new_sheet": false,
        "run_control": {
          "read_only": false
        }
      },
      "source": [
        "import warnings\n",
        "warnings.filterwarnings('ignore')"
      ],
      "execution_count": null,
      "outputs": []
    },
    {
      "cell_type": "code",
      "metadata": {
        "button": false,
        "id": "O8r79rQTgi2N",
        "new_sheet": false,
        "run_control": {
          "read_only": false
        }
      },
      "source": [
        "# Функция рисует плоскость согласно предсказаниям классификатора clf\n",
        "def plot_boundary(clf, X, y, plot_title):\n",
        "    xx, yy = np.meshgrid(np.linspace(-3, 3, 50),\n",
        "                     np.linspace(-3, 3, 50))\n",
        "    clf.fit(X, y)\n",
        "    # plot the decision function for each datapoint on the grid\n",
        "    Z = clf.predict_proba(np.vstack((xx.ravel(), yy.ravel())).T)[:, 1]\n",
        "    Z = Z.reshape(xx.shape)\n",
        "\n",
        "    image = plt.imshow(Z, interpolation='nearest',\n",
        "                           extent=(xx.min(), xx.max(), yy.min(), yy.max()),\n",
        "                           aspect='auto', origin='lower', cmap=plt.cm.PuOr_r)\n",
        "    contours = plt.contour(xx, yy, Z, levels=[0], linewidths=2,\n",
        "                               linetypes='--')\n",
        "    plt.scatter(X[:, 0], X[:, 1], s=30, c=y, cmap=plt.cm.Paired)\n",
        "    plt.xticks(())\n",
        "    plt.yticks(())\n",
        "    plt.xlabel(r'$x_1$')\n",
        "    plt.ylabel(r'$x_2$')\n",
        "    plt.axis([-3, 3, -3, 3])\n",
        "    plt.colorbar(image)\n",
        "    plt.title(plot_title, fontsize=12);"
      ],
      "execution_count": null,
      "outputs": []
    },
    {
      "cell_type": "code",
      "metadata": {
        "button": false,
        "id": "EMUWaXTSgi2Q",
        "new_sheet": false,
        "run_control": {
          "read_only": false
        }
      },
      "source": [
        "from sklearn.linear_model import LogisticRegression"
      ],
      "execution_count": null,
      "outputs": []
    },
    {
      "cell_type": "code",
      "metadata": {
        "button": false,
        "colab": {
          "base_uri": "https://localhost:8080/",
          "height": 314
        },
        "id": "It32CLODgi2T",
        "new_sheet": false,
        "run_control": {
          "read_only": false
        },
        "outputId": "c7754d43-71b9-4ee4-e08d-baf12926d2f3"
      },
      "source": [
        "# Применяем логистическую регрессию к нашим данным\n",
        "# И видим, что линейная модель не способна разделить точки правильно\n",
        "plot_boundary(LogisticRegression(), X, y, \"Logistic Regression, XOR problem\")"
      ],
      "execution_count": null,
      "outputs": [
        {
          "output_type": "stream",
          "text": [
            "findfont: Font family ['serif'] not found. Falling back to DejaVu Sans.\n",
            "findfont: Font family ['serif'] not found. Falling back to DejaVu Sans.\n"
          ],
          "name": "stderr"
        },
        {
          "output_type": "display_data",
          "data": {
            "image/png": "[encoded data removed]",
            "text/plain": [
              "<Figure size 720x288 with 2 Axes>"
            ]
          },
          "metadata": {
            "tags": []
          }
        }
      ]
    },
    {
      "cell_type": "markdown",
      "metadata": {
        "button": false,
        "id": "s6uipSeQgi2Z",
        "new_sheet": false,
        "run_control": {
          "read_only": false
        }
      },
      "source": [
        "### Что мы делаем?\n",
        "Добавляем полиномиальные признаки!\n",
        "\n",
        "Т.е. получаем несколько признаков из данных путем их возведения в степень и перемножения между собой.\n",
        "\n",
        "**Пример с двумерными данными, degree*=2**\n",
        "\n",
        "**degree - максимальная сумма степеней множителей-признаков в отдельно полученном новом признаке*\n",
        "\n",
        "$$\\Large (a, b) \\rightarrow (1, a, b, a^2, ab, b^2)$$"
      ]
    },
    {
      "cell_type": "markdown",
      "metadata": {
        "button": false,
        "id": "PDj1MyWXgi2a",
        "new_sheet": false,
        "run_control": {
          "read_only": false
        }
      },
      "source": [
        "Удобно, что sklearn уже умеет генерировать полиномиальные признаки для нас"
      ]
    },
    {
      "cell_type": "code",
      "metadata": {
        "button": false,
        "id": "MluyBwyMgi2a",
        "new_sheet": false,
        "run_control": {
          "read_only": false
        },
        "outputId": "37e9a755-4bed-4657-b44e-be894a309753"
      },
      "source": [
        "from sklearn.preprocessing import PolynomialFeatures\n",
        "from sklearn.pipeline import Pipeline\n",
        "\n",
        "# Очень часто удобно использовать Pipeline\n",
        "# для последовательного применения алгоритмов из sklearn\n",
        "logit_pipe = Pipeline([('poly', PolynomialFeatures(degree=2)), \n",
        "                       ('logit', LogisticRegression())])\n",
        "plot_boundary(logit_pipe, X, y,\n",
        "        \"Logistic Regression + quadratic features. XOR problem\")\n",
        "\n",
        "# Проблема решается!"
      ],
      "execution_count": null,
      "outputs": [
        {
          "output_type": "display_data",
          "data": {
            "image/png": "[encoded data removed]",
            "text/plain": [
              "<Figure size 432x288 with 2 Axes>"
            ]
          },
          "metadata": {
            "tags": [],
            "needs_background": "light"
          }
        }
      ]
    },
    {
      "cell_type": "markdown",
      "metadata": {
        "button": false,
        "id": "t5pqXRn7gi2c",
        "new_sheet": false,
        "run_control": {
          "read_only": false
        }
      },
      "source": [
        "### Применение житейской смекалки\n",
        "для создания признаков\n",
        "\n"
      ]
    },
    {
      "cell_type": "markdown",
      "metadata": {
        "button": false,
        "id": "uHmQZKwfgi2d",
        "new_sheet": false,
        "run_control": {
          "read_only": false
        }
      },
      "source": [
        "[Текст ссылки](https://)Есть количество комнат и стоимость аренды\n",
        "\n",
        "Выделяем новый признак -- стоимость аренды одной комнаты:\n",
        "```python\n",
        "rooms = df[\"bedrooms\"]\n",
        "df[\"price_per_bedroom\"] = df[\"price\"] / rooms\n",
        "```"
      ]
    },
    {
      "cell_type": "markdown",
      "metadata": {
        "button": false,
        "id": "skzGb5IXgi2d",
        "new_sheet": false,
        "run_control": {
          "read_only": false
        }
      },
      "source": [
        "# Отбор признаков\n",
        "\n",
        "1. Чисто статистическими методами\n",
        "2. С использованием моделей\n",
        "3. Перебором"
      ]
    },
    {
      "cell_type": "markdown",
      "metadata": {
        "id": "keLEr71_fayV"
      },
      "source": [
        "Зачем отбирать признаки?"
      ]
    },
    {
      "cell_type": "markdown",
      "metadata": {
        "id": "2RxaRkJwfayV"
      },
      "source": [
        "Методы отбора:\n",
        "1. Filter\n",
        "2. Wrapper\n",
        "3. Embedded"
      ]
    },
    {
      "cell_type": "markdown",
      "metadata": {
        "button": false,
        "id": "IjJCyS7Ogi2d",
        "new_sheet": false,
        "run_control": {
          "read_only": false
        }
      },
      "source": [
        "## Статистические методы"
      ]
    },
    {
      "cell_type": "markdown",
      "metadata": {
        "button": false,
        "id": "1o_m_medgi2e",
        "new_sheet": false,
        "run_control": {
          "read_only": false
        }
      },
      "source": [
        "### Отсечение низко вариативных признаков\n",
        "\n",
        "1. Если признак имеет одинаковые значения на всех элементах выборки за исключением очень небольшого подмножества, то такой признак скорее всего не будет полезен.\n",
        "\n",
        "2. Такой же вывод можно сделать для признаков, имеющих одинаковые значения для всех элементов выборки.\n",
        "\n",
        "Чтобы посчитать численно насколько признак вариативен можно посчитать дисперсию этого признака. Дисперсия будет давать 0 для случая 2 и число, близкое к 0 для случая 1.\n",
        "$${ D ={\\dfrac {\\sum \\limits _{i=1}^{n}(X_{i}-{\\bar {X}})^{2}}{n}}}$$\n",
        "* $\\bar{X}$ -- среднее значение признака в датасете $X$\n",
        "\n",
        "\n",
        "В качестве бейзлайна можно воспользоваться отбором признаков по пороговому значению дисперсии.\n",
        "\n",
        "    !ВАЖНО ПОМНИТЬ:\n",
        "    Необходимо, чтобы все признаки в датасете при таком подходе имели одинаковый разброс значений. Т.е максимальное и минимальное значение должно быть одинаковым для всех признаков, чтобы сравнение значений их дисперсий было корректным. Для соблюдения этого условия удобно воспользоваться MinMaxScaler."
      ]
    },
    {
      "cell_type": "code",
      "metadata": {
        "id": "9Bj0ICo-fayV"
      },
      "source": [
        "random.seed(14)"
      ],
      "execution_count": null,
      "outputs": []
    },
    {
      "cell_type": "code",
      "metadata": {
        "button": false,
        "colab": {
          "base_uri": "https://localhost:8080/"
        },
        "id": "vZkdZMtHgi2e",
        "new_sheet": false,
        "run_control": {
          "read_only": false
        },
        "outputId": "0164fa7c-80dd-425c-f3d5-b8cccca60906"
      },
      "source": [
        "# сгенерируем признаки с разбросом 0..1\n",
        "from sklearn.feature_selection import VarianceThreshold\n",
        "from sklearn.datasets import make_classification\n",
        "\n",
        "x_data_generated, y_data_generated = make_classification(scale=1)\n",
        "print(\"data shape: \", x_data_generated.shape)"
      ],
      "execution_count": null,
      "outputs": [
        {
          "output_type": "stream",
          "text": [
            "data shape:  (100, 20)\n"
          ],
          "name": "stdout"
        }
      ]
    },
    {
      "cell_type": "code",
      "metadata": {
        "button": false,
        "id": "2LJV5h6Kgi2i",
        "new_sheet": false,
        "run_control": {
          "read_only": false
        },
        "outputId": "97375537-f17c-4ae2-d183-0515d02085ab"
      },
      "source": [
        "VarianceThreshold(.1).fit_transform(x_data_generated).shape"
      ],
      "execution_count": null,
      "outputs": [
        {
          "output_type": "execute_result",
          "data": {
            "text/plain": [
              "(100, 20)"
            ]
          },
          "metadata": {
            "tags": []
          },
          "execution_count": 133
        }
      ]
    },
    {
      "cell_type": "code",
      "metadata": {
        "button": false,
        "colab": {
          "base_uri": "https://localhost:8080/"
        },
        "id": "2-i0UtmQgi2l",
        "new_sheet": false,
        "run_control": {
          "read_only": false
        },
        "outputId": "de718f89-cd63-4e3e-8329-0c758b198be2"
      },
      "source": [
        "VarianceThreshold(1.30).fit_transform(x_data_generated).shape"
      ],
      "execution_count": null,
      "outputs": [
        {
          "output_type": "execute_result",
          "data": {
            "text/plain": [
              "(100, 3)"
            ]
          },
          "metadata": {
            "tags": []
          },
          "execution_count": 47
        }
      ]
    },
    {
      "cell_type": "markdown",
      "metadata": {
        "button": false,
        "id": "YmyQBePxgi2n",
        "new_sheet": false,
        "run_control": {
          "read_only": false
        }
      },
      "source": [
        "### Отбор k лучших с помощью ANOVA\n",
        "\n",
        "**Главная идея метода ANOVA для задачи классификации**\n",
        "\n",
        "ANOVA -- ANalysis Of VAriance (или дисперсионный анализ).\n",
        "\n",
        "Для каждого признака из датасета мы можем посчитать его выразительную способность. Т.е мы можем получить число, показывающее насколько сильно данный признак различается между различными классами из $Y$. \n",
        "Упрощенное объяснение следующее.\n",
        "\n",
        "1. Используем знания о лейблах $Y$. Считаем дисперсию данного признака внутри каждого класса из $Y$.\n",
        "2. Считаем дисперсию данного признака между группами, которые задает $Y$.\n",
        "2. Финальный скор это -- отношение дисперсии между группами к дисперсии внутри групп.\n",
        "\n",
        "Для лучшего понимания можно посмотреть [видео 1](https://youtu.be/ITf4vHhyGpc) (тут интуиция) и [видео 2](https://youtu.be/q48uKU_KWas) (тут математика).\n",
        "\n",
        "Такой скор можно использовать для ранжирования признаков по их значимости. Реализация из sklearn позволяет заранее задать число признаков, которое мы хотим оставить исходя из полученных с помощью метода ANOVA скоров.\n",
        "\n"
      ]
    },
    {
      "cell_type": "code",
      "metadata": {
        "button": false,
        "id": "ohIoqeH_gi2o",
        "new_sheet": false,
        "run_control": {
          "read_only": false
        }
      },
      "source": [
        "from sklearn.feature_selection import SelectKBest, f_classif\n",
        "\n",
        "# Выбираем 5 лучших фичей с помощью скоринговой функции для классификации f_classif в методе ANOVA\n",
        "x_data_kbest = SelectKBest(f_classif, k=5).fit_transform(x_data_generated, y_data_generated)\n",
        "\n",
        "# Выбираем фичи по граничному значению дисперсии данных\n",
        "x_data_varth = VarianceThreshold(.9).fit_transform(x_data_generated)"
      ],
      "execution_count": null,
      "outputs": []
    },
    {
      "cell_type": "code",
      "metadata": {
        "button": false,
        "colab": {
          "base_uri": "https://localhost:8080/"
        },
        "id": "_o3nra3Ogi2p",
        "new_sheet": false,
        "run_control": {
          "read_only": false
        },
        "outputId": "aa6f2c2e-0004-4825-b159-fb023ca10cd6"
      },
      "source": [
        "from sklearn.linear_model import LogisticRegression\n",
        "from sklearn.model_selection import cross_val_score\n",
        "\n",
        "# Результат для исходных данных\n",
        "cross_val_score(LogisticRegression(), x_data_generated, y_data_generated, scoring='accuracy').mean()"
      ],
      "execution_count": null,
      "outputs": [
        {
          "output_type": "execute_result",
          "data": {
            "text/plain": [
              "0.72"
            ]
          },
          "metadata": {
            "tags": []
          },
          "execution_count": 49
        }
      ]
    },
    {
      "cell_type": "code",
      "metadata": {
        "button": false,
        "colab": {
          "base_uri": "https://localhost:8080/"
        },
        "id": "FQyDlaJFgi2r",
        "new_sheet": false,
        "run_control": {
          "read_only": false
        },
        "outputId": "1f39c4b9-50fd-4ff6-9fed-aa4b110329c1"
      },
      "source": [
        "# Для отбора по вариативности\n",
        "cross_val_score(LogisticRegression(), x_data_varth, y_data_generated, scoring='accuracy').mean()"
      ],
      "execution_count": null,
      "outputs": [
        {
          "output_type": "execute_result",
          "data": {
            "text/plain": [
              "0.76"
            ]
          },
          "metadata": {
            "tags": []
          },
          "execution_count": 50
        }
      ]
    },
    {
      "cell_type": "code",
      "metadata": {
        "button": false,
        "colab": {
          "base_uri": "https://localhost:8080/"
        },
        "id": "3BQrbw2ngi2t",
        "new_sheet": false,
        "run_control": {
          "read_only": false
        },
        "outputId": "bc5666da-a1f1-45ad-ee71-d94bde9409a5"
      },
      "source": [
        "# Для отбора по ANOVA\n",
        "cross_val_score(LogisticRegression(), x_data_kbest, y_data_generated, scoring='accuracy').mean()"
      ],
      "execution_count": null,
      "outputs": [
        {
          "output_type": "execute_result",
          "data": {
            "text/plain": [
              "0.8100000000000002"
            ]
          },
          "metadata": {
            "tags": []
          },
          "execution_count": 51
        }
      ]
    },
    {
      "cell_type": "markdown",
      "metadata": {
        "button": false,
        "id": "XNvC_Pkfgi2u",
        "new_sheet": false,
        "run_control": {
          "read_only": false
        }
      },
      "source": [
        "### Использование моделей\n",
        "Для отбора признаков чаще всего используют L1 регуляризацию с линейной/логистической регрессией или случайный лес (о котором вы пока не знаете)"
      ]
    },
    {
      "cell_type": "code",
      "metadata": {
        "button": false,
        "colab": {
          "base_uri": "https://localhost:8080/"
        },
        "id": "GqcDNxV6gi2v",
        "new_sheet": false,
        "run_control": {
          "read_only": false
        },
        "outputId": "91a5f535-1d37-4b91-f5df-16d5b536127d"
      },
      "source": [
        "from sklearn.datasets import make_classification\n",
        "from sklearn.linear_model import LogisticRegression\n",
        "from sklearn.feature_selection import SelectFromModel\n",
        "from sklearn.model_selection import cross_val_score\n",
        "from sklearn.pipeline import make_pipeline\n",
        "\n",
        "# Еще раз покажем результат с простой моделью и исходными данными\n",
        "\n",
        "lr = LogisticRegression()\n",
        "print(cross_val_score(lr, x_data_generated, y_data_generated, scoring='accuracy').mean())"
      ],
      "execution_count": null,
      "outputs": [
        {
          "output_type": "stream",
          "text": [
            "0.72\n"
          ],
          "name": "stdout"
        }
      ]
    },
    {
      "cell_type": "code",
      "metadata": {
        "button": false,
        "colab": {
          "base_uri": "https://localhost:8080/"
        },
        "id": "Eu2gEQRkgi2w",
        "new_sheet": false,
        "run_control": {
          "read_only": false
        },
        "outputId": "903f41e0-f50b-47c3-9031-23c75db295de"
      },
      "source": [
        "# Теперь произведем отбор признаков с помощью нашей логистической регрессии,\n",
        "# Отобранные признаки подадим далее в саму логистическую регрессию\n",
        "\n",
        "pipe = make_pipeline(SelectFromModel(estimator=LogisticRegression(C=1, penalty='l1', solver='liblinear')), LogisticRegression())\n",
        "print(cross_val_score(pipe, x_data_generated, y_data_generated, scoring='accuracy').mean())"
      ],
      "execution_count": null,
      "outputs": [
        {
          "output_type": "stream",
          "text": [
            "0.7100000000000001\n"
          ],
          "name": "stdout"
        }
      ]
    },
    {
      "cell_type": "markdown",
      "metadata": {
        "button": false,
        "id": "U1YUP4ULgi2z",
        "new_sheet": false,
        "run_control": {
          "read_only": false
        }
      },
      "source": [
        "Также возможно рекурсивное удаление признаков из датасета с помощью [sklearn.feature_selection.RFE](https://scikit-learn.org/stable/modules/generated/sklearn.feature_selection.RFE.html). \n",
        "\n",
        "В этом случае после удаления наихудшего признака по меркам коэффициентов регрессии, модель будет обучена заново на уже меньшем подмножестве признаков. Затем процесс с удалением признака и переобучением модели повторяется, пока не достигнуто желаемое количество лучших признаков."
      ]
    },
    {
      "cell_type": "markdown",
      "metadata": {
        "button": false,
        "id": "hZioudnCgi2z",
        "new_sheet": false,
        "run_control": {
          "read_only": false
        }
      },
      "source": [
        "### Перебор признаков"
      ]
    },
    {
      "cell_type": "markdown",
      "metadata": {
        "button": false,
        "id": "x4ZD95Iqgi20",
        "new_sheet": false,
        "run_control": {
          "read_only": false
        }
      },
      "source": [
        "* **SequentialFeatureSelector** - жадный алгоритм поиска подмножества из k признаков на основании результатов кросс-валидации. Может быть использован с любой моделью.\n",
        "\n",
        "Имеет 2 основных сеттинга\n",
        "* Sequential Forward Selection (SFS)\n",
        "\n",
        "        Начальное число избранных признаков 0.\n",
        "        Алгоритм добавляет на каждом шаге один признак, который максимизирует скор на кросс-валидации. Алгоритм           останавливает добавление новых признаков, когда достигнуто необходимое число этих признаков. Используется         по дефолту в `SequentialFeatureSelector`.\n",
        "\n",
        "* Sequential Backward Selection (SBS)\n",
        "\n",
        "        Начальное число избранных признаков N (т.е все признаки включены в коллекцию).\n",
        "        Алгоритм убирает из коллекции на каждом шаге один признак, удаление которого максимизирует скор на кросс-валидации. Алгоритм останавливает удаление признаков, когда достигнуто необходимое число этих признаков. Параметр `forward=False` в `SequentialFeatureSelector`."
      ]
    },
    {
      "cell_type": "code",
      "metadata": {
        "button": false,
        "colab": {
          "base_uri": "https://localhost:8080/"
        },
        "collapsed": true,
        "id": "pvyDShqzgi20",
        "new_sheet": false,
        "run_control": {
          "read_only": false
        },
        "outputId": "2b2be73a-d02c-42b1-99bd-2a7e56327414"
      },
      "source": [
        "# устанавливаем mlxtend:\n",
        "!pip install mlxtend"
      ],
      "execution_count": null,
      "outputs": [
        {
          "output_type": "stream",
          "text": [
            "Requirement already satisfied: mlxtend in /usr/local/lib/python3.6/dist-packages (0.14.0)\n",
            "Requirement already satisfied: scipy>=0.17 in /usr/local/lib/python3.6/dist-packages (from mlxtend) (1.4.1)\n",
            "Requirement already satisfied: scikit-learn>=0.18 in /usr/local/lib/python3.6/dist-packages (from mlxtend) (0.22.2.post1)\n",
            "Requirement already satisfied: matplotlib>=1.5.1 in /usr/local/lib/python3.6/dist-packages (from mlxtend) (3.2.2)\n",
            "Requirement already satisfied: numpy>=1.10.4 in /usr/local/lib/python3.6/dist-packages (from mlxtend) (1.18.5)\n",
            "Requirement already satisfied: setuptools in /usr/local/lib/python3.6/dist-packages (from mlxtend) (50.3.2)\n",
            "Requirement already satisfied: pandas>=0.17.1 in /usr/local/lib/python3.6/dist-packages (from mlxtend) (1.1.4)\n",
            "Requirement already satisfied: joblib>=0.11 in /usr/local/lib/python3.6/dist-packages (from scikit-learn>=0.18->mlxtend) (0.17.0)\n",
            "Requirement already satisfied: pyparsing!=2.0.4,!=2.1.2,!=2.1.6,>=2.0.1 in /usr/local/lib/python3.6/dist-packages (from matplotlib>=1.5.1->mlxtend) (2.4.7)\n",
            "Requirement already satisfied: cycler>=0.10 in /usr/local/lib/python3.6/dist-packages (from matplotlib>=1.5.1->mlxtend) (0.10.0)\n",
            "Requirement already satisfied: kiwisolver>=1.0.1 in /usr/local/lib/python3.6/dist-packages (from matplotlib>=1.5.1->mlxtend) (1.3.1)\n",
            "Requirement already satisfied: python-dateutil>=2.1 in /usr/local/lib/python3.6/dist-packages (from matplotlib>=1.5.1->mlxtend) (2.8.1)\n",
            "Requirement already satisfied: pytz>=2017.2 in /usr/local/lib/python3.6/dist-packages (from pandas>=0.17.1->mlxtend) (2018.9)\n",
            "Requirement already satisfied: six in /usr/local/lib/python3.6/dist-packages (from cycler>=0.10->matplotlib>=1.5.1->mlxtend) (1.15.0)\n"
          ],
          "name": "stdout"
        }
      ]
    },
    {
      "cell_type": "code",
      "metadata": {
        "button": false,
        "colab": {
          "base_uri": "https://localhost:8080/"
        },
        "id": "JZuBsXmGgi22",
        "new_sheet": false,
        "run_control": {
          "read_only": false
        },
        "outputId": "1783fdbf-531a-4394-811c-d8230b070de3"
      },
      "source": [
        "from mlxtend.feature_selection import SequentialFeatureSelector\n",
        "\n",
        "selector = SequentialFeatureSelector(LogisticRegression(), scoring='accuracy',\n",
        "                                     verbose=2, k_features=7, forward=True, n_jobs=-1)\n",
        "\n",
        "selector.fit(x_data_generated, y_data_generated)"
      ],
      "execution_count": null,
      "outputs": [
        {
          "output_type": "stream",
          "text": [
            "[Parallel(n_jobs=-1)]: Using backend LokyBackend with 2 concurrent workers.\n",
            "[Parallel(n_jobs=-1)]: Done  20 out of  20 | elapsed:    1.2s finished\n",
            "\n",
            "[2020-11-21 11:55:23] Features: 1/7 -- score: 0.8200000000000001[Parallel(n_jobs=-1)]: Using backend LokyBackend with 2 concurrent workers.\n",
            "[Parallel(n_jobs=-1)]: Done  19 out of  19 | elapsed:    0.2s finished\n",
            "\n",
            "[2020-11-21 11:55:23] Features: 2/7 -- score: 0.8400000000000001[Parallel(n_jobs=-1)]: Using backend LokyBackend with 2 concurrent workers.\n",
            "[Parallel(n_jobs=-1)]: Done  18 out of  18 | elapsed:    0.2s finished\n",
            "\n",
            "[2020-11-21 11:55:23] Features: 3/7 -- score: 0.8500000000000002[Parallel(n_jobs=-1)]: Using backend LokyBackend with 2 concurrent workers.\n",
            "[Parallel(n_jobs=-1)]: Done  17 out of  17 | elapsed:    0.2s finished\n",
            "\n",
            "[2020-11-21 11:55:23] Features: 4/7 -- score: 0.8600000000000001[Parallel(n_jobs=-1)]: Using backend LokyBackend with 2 concurrent workers.\n",
            "[Parallel(n_jobs=-1)]: Done  16 out of  16 | elapsed:    0.2s finished\n",
            "\n",
            "[2020-11-21 11:55:24] Features: 5/7 -- score: 0.8700000000000001[Parallel(n_jobs=-1)]: Using backend LokyBackend with 2 concurrent workers.\n",
            "[Parallel(n_jobs=-1)]: Done  15 out of  15 | elapsed:    0.2s finished\n",
            "\n",
            "[2020-11-21 11:55:24] Features: 6/7 -- score: 0.8800000000000001[Parallel(n_jobs=-1)]: Using backend LokyBackend with 2 concurrent workers.\n",
            "[Parallel(n_jobs=-1)]: Done  11 out of  14 | elapsed:    0.2s remaining:    0.0s\n",
            "[Parallel(n_jobs=-1)]: Done  14 out of  14 | elapsed:    0.2s finished\n",
            "\n",
            "[2020-11-21 11:55:24] Features: 7/7 -- score: 0.8800000000000001"
          ],
          "name": "stderr"
        },
        {
          "output_type": "execute_result",
          "data": {
            "text/plain": [
              "SequentialFeatureSelector(clone_estimator=True, cv=5,\n",
              "                          estimator=LogisticRegression(C=1.0, class_weight=None,\n",
              "                                                       dual=False,\n",
              "                                                       fit_intercept=True,\n",
              "                                                       intercept_scaling=1,\n",
              "                                                       l1_ratio=None,\n",
              "                                                       max_iter=100,\n",
              "                                                       multi_class='auto',\n",
              "                                                       n_jobs=None,\n",
              "                                                       penalty='l2',\n",
              "                                                       random_state=None,\n",
              "                                                       solver='lbfgs',\n",
              "                                                       tol=0.0001, verbose=0,\n",
              "                                                       warm_start=False),\n",
              "                          floating=False, forward=True, k_features=7, n_jobs=-1,\n",
              "                          pre_dispatch='2*n_jobs', scoring='accuracy',\n",
              "                          verbose=2)"
            ]
          },
          "metadata": {
            "tags": []
          },
          "execution_count": 55
        }
      ]
    },
    {
      "cell_type": "markdown",
      "metadata": {
        "button": false,
        "id": "vz0Vw0hrgi24",
        "new_sheet": false,
        "run_control": {
          "read_only": false
        }
      },
      "source": [
        "Итак, удалось достаточно неплохо улучшить accuracy с этим методом по сравнению с предыдущими, однако, это синтетическая задачка. С реальными данными все намного сложнее."
      ]
    },
    {
      "cell_type": "markdown",
      "metadata": {
        "button": false,
        "id": "kxtselOwgi24",
        "new_sheet": false,
        "run_control": {
          "read_only": false
        }
      },
      "source": [
        "# KaggleInClass"
      ]
    },
    {
      "cell_type": "markdown",
      "metadata": {
        "button": false,
        "id": "uluK_2rUgi25",
        "new_sheet": false,
        "run_control": {
          "read_only": false
        }
      },
      "source": [
        "Начнем решать соревнование на платформе `Kaggle` (пока только `InClass`)\n",
        "\n",
        "Ссылка на соревнование: https://www.kaggle.com/c/best-home2"
      ]
    },
    {
      "cell_type": "code",
      "metadata": {
        "button": false,
        "id": "y_u7wnypgi25",
        "new_sheet": false,
        "run_control": {
          "read_only": false
        }
      },
      "source": [
        "#<YOUR TURN>"
      ],
      "execution_count": null,
      "outputs": []
    },
    {
      "cell_type": "code",
      "metadata": {
        "button": false,
        "id": "3Kti1iKXgi26",
        "new_sheet": false,
        "run_control": {
          "read_only": false
        }
      },
      "source": [
        "df = pd.read_csv(\"test.csv\")\n",
        "df.head()"
      ],
      "execution_count": null,
      "outputs": []
    },
    {
      "cell_type": "code",
      "metadata": {
        "button": false,
        "id": "mgkVi1_kgi28",
        "new_sheet": false,
        "run_control": {
          "read_only": false
        }
      },
      "source": [
        "df.manager_id.nunique()"
      ],
      "execution_count": null,
      "outputs": []
    }
  ]
}